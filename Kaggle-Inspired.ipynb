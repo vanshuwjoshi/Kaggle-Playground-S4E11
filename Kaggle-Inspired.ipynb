{
 "cells": [
  {
   "cell_type": "code",
   "execution_count": 1,
   "metadata": {},
   "outputs": [],
   "source": [
    "# Core Libraries\n",
    "import pandas as pd\n",
    "import numpy as np\n",
    "from scipy import stats\n",
    "import random\n",
    "import warnings\n",
    "\n",
    "# Machine Learning Libraries\n",
    "from category_encoders import TargetEncoder\n",
    "from sklearn.pipeline import Pipeline\n",
    "from sklearn.impute import SimpleImputer\n",
    "from sklearn.compose import ColumnTransformer\n",
    "from sklearn.preprocessing import StandardScaler, OrdinalEncoder, FunctionTransformer\n",
    "from sklearn.model_selection import train_test_split, GridSearchCV, cross_val_score\n",
    "from sklearn.metrics import make_scorer, accuracy_score\n",
    "from sklearn.ensemble import IsolationForest\n",
    "from xgboost import XGBClassifier\n",
    "from catboost import CatBoostClassifier\n",
    "from sklearn.neural_network import MLPClassifier\n",
    "from sklearn.linear_model import LogisticRegression\n",
    "from sklearn.ensemble import StackingClassifier, HistGradientBoostingClassifier\n",
    "\n",
    "# Set random seed\n",
    "rs = 42\n",
    "\n",
    "import matplotlib.pyplot as plt\n",
    "import seaborn as sns\n",
    "%matplotlib inline\n",
    "\n",
    "# Ignore warnings\n",
    "warnings.filterwarnings(\"ignore\")"
   ]
  },
  {
   "cell_type": "code",
   "execution_count": 34,
   "metadata": {},
   "outputs": [],
   "source": [
    "df_train = pd.read_csv(\"data/train.csv\")\n",
    "df_test = pd.read_csv(\"data/test.csv\")"
   ]
  },
  {
   "cell_type": "code",
   "execution_count": 35,
   "metadata": {},
   "outputs": [
    {
     "data": {
      "text/html": [
       "<div>\n",
       "<style scoped>\n",
       "    .dataframe tbody tr th:only-of-type {\n",
       "        vertical-align: middle;\n",
       "    }\n",
       "\n",
       "    .dataframe tbody tr th {\n",
       "        vertical-align: top;\n",
       "    }\n",
       "\n",
       "    .dataframe thead th {\n",
       "        text-align: right;\n",
       "    }\n",
       "</style>\n",
       "<table border=\"1\" class=\"dataframe\">\n",
       "  <thead>\n",
       "    <tr style=\"text-align: right;\">\n",
       "      <th></th>\n",
       "      <th>id</th>\n",
       "      <th>Name</th>\n",
       "      <th>Gender</th>\n",
       "      <th>Age</th>\n",
       "      <th>City</th>\n",
       "      <th>Working Professional or Student</th>\n",
       "      <th>Profession</th>\n",
       "      <th>Academic Pressure</th>\n",
       "      <th>Work Pressure</th>\n",
       "      <th>CGPA</th>\n",
       "      <th>Study Satisfaction</th>\n",
       "      <th>Job Satisfaction</th>\n",
       "      <th>Sleep Duration</th>\n",
       "      <th>Dietary Habits</th>\n",
       "      <th>Degree</th>\n",
       "      <th>Have you ever had suicidal thoughts ?</th>\n",
       "      <th>Work/Study Hours</th>\n",
       "      <th>Financial Stress</th>\n",
       "      <th>Family History of Mental Illness</th>\n",
       "      <th>Depression</th>\n",
       "    </tr>\n",
       "  </thead>\n",
       "  <tbody>\n",
       "    <tr>\n",
       "      <th>0</th>\n",
       "      <td>0</td>\n",
       "      <td>Aaradhya</td>\n",
       "      <td>Female</td>\n",
       "      <td>49.0</td>\n",
       "      <td>Ludhiana</td>\n",
       "      <td>Working Professional</td>\n",
       "      <td>Chef</td>\n",
       "      <td>NaN</td>\n",
       "      <td>5.0</td>\n",
       "      <td>NaN</td>\n",
       "      <td>NaN</td>\n",
       "      <td>2.0</td>\n",
       "      <td>More than 8 hours</td>\n",
       "      <td>Healthy</td>\n",
       "      <td>BHM</td>\n",
       "      <td>No</td>\n",
       "      <td>1.0</td>\n",
       "      <td>2.0</td>\n",
       "      <td>No</td>\n",
       "      <td>0</td>\n",
       "    </tr>\n",
       "    <tr>\n",
       "      <th>1</th>\n",
       "      <td>1</td>\n",
       "      <td>Vivan</td>\n",
       "      <td>Male</td>\n",
       "      <td>26.0</td>\n",
       "      <td>Varanasi</td>\n",
       "      <td>Working Professional</td>\n",
       "      <td>Teacher</td>\n",
       "      <td>NaN</td>\n",
       "      <td>4.0</td>\n",
       "      <td>NaN</td>\n",
       "      <td>NaN</td>\n",
       "      <td>3.0</td>\n",
       "      <td>Less than 5 hours</td>\n",
       "      <td>Unhealthy</td>\n",
       "      <td>LLB</td>\n",
       "      <td>Yes</td>\n",
       "      <td>7.0</td>\n",
       "      <td>3.0</td>\n",
       "      <td>No</td>\n",
       "      <td>1</td>\n",
       "    </tr>\n",
       "  </tbody>\n",
       "</table>\n",
       "</div>"
      ],
      "text/plain": [
       "   id      Name  Gender   Age      City Working Professional or Student  \\\n",
       "0   0  Aaradhya  Female  49.0  Ludhiana            Working Professional   \n",
       "1   1     Vivan    Male  26.0  Varanasi            Working Professional   \n",
       "\n",
       "  Profession  Academic Pressure  Work Pressure  CGPA  Study Satisfaction  \\\n",
       "0       Chef                NaN            5.0   NaN                 NaN   \n",
       "1    Teacher                NaN            4.0   NaN                 NaN   \n",
       "\n",
       "   Job Satisfaction     Sleep Duration Dietary Habits Degree  \\\n",
       "0               2.0  More than 8 hours        Healthy    BHM   \n",
       "1               3.0  Less than 5 hours      Unhealthy    LLB   \n",
       "\n",
       "  Have you ever had suicidal thoughts ?  Work/Study Hours  Financial Stress  \\\n",
       "0                                    No               1.0               2.0   \n",
       "1                                   Yes               7.0               3.0   \n",
       "\n",
       "  Family History of Mental Illness  Depression  \n",
       "0                               No           0  \n",
       "1                               No           1  "
      ]
     },
     "execution_count": 35,
     "metadata": {},
     "output_type": "execute_result"
    }
   ],
   "source": [
    "df_train.head(2)"
   ]
  },
  {
   "cell_type": "code",
   "execution_count": 36,
   "metadata": {},
   "outputs": [],
   "source": [
    "df_train = df_train.drop([\"id\"], axis=1)\n",
    "df_test = df_test.drop([\"id\"], axis=1)"
   ]
  },
  {
   "cell_type": "code",
   "execution_count": 37,
   "metadata": {},
   "outputs": [],
   "source": [
    "## Creating a interaction between age and work pressure\n",
    "df_train[\"Age_WorkPressure\"] = df_train[\"Age\"] * df_train[\"Work Pressure\"]\n",
    "df_test[\"Age_WorkPressure\"] = df_test[\"Age\"] * df_test[\"Work Pressure\"]"
   ]
  },
  {
   "cell_type": "code",
   "execution_count": 38,
   "metadata": {},
   "outputs": [],
   "source": [
    "## Setting up target encoder for City and Profession columns\n",
    "encoder = TargetEncoder(cols=[\"City\", \"Profession\"])\n",
    "df_train[[\"city_encoded\", \"profession_encoded\"]] = encoder.fit_transform(\n",
    "    df_train[[\"City\", \"Profession\"]], df_train[\"Depression\"]\n",
    ")\n",
    "df_test[[\"city_encoded\", \"profession_encoded\"]] = encoder.transform(\n",
    "    df_test[[\"City\", \"Profession\"]]\n",
    ")"
   ]
  },
  {
   "cell_type": "code",
   "execution_count": 39,
   "metadata": {},
   "outputs": [],
   "source": [
    "## Get X and y from df_train\n",
    "X_train = df_train.drop([\"Depression\"], axis=1)\n",
    "y_train = df_train[\"Depression\"]"
   ]
  },
  {
   "cell_type": "code",
   "execution_count": 40,
   "metadata": {},
   "outputs": [
    {
     "data": {
      "text/plain": [
       "Name                                      object\n",
       "Gender                                    object\n",
       "Age                                      float64\n",
       "City                                      object\n",
       "Working Professional or Student           object\n",
       "Profession                                object\n",
       "Academic Pressure                        float64\n",
       "Work Pressure                            float64\n",
       "CGPA                                     float64\n",
       "Study Satisfaction                       float64\n",
       "Job Satisfaction                         float64\n",
       "Sleep Duration                            object\n",
       "Dietary Habits                            object\n",
       "Degree                                    object\n",
       "Have you ever had suicidal thoughts ?     object\n",
       "Work/Study Hours                         float64\n",
       "Financial Stress                         float64\n",
       "Family History of Mental Illness          object\n",
       "Age_WorkPressure                         float64\n",
       "city_encoded                             float64\n",
       "profession_encoded                       float64\n",
       "dtype: object"
      ]
     },
     "execution_count": 40,
     "metadata": {},
     "output_type": "execute_result"
    }
   ],
   "source": [
    "X_train.dtypes"
   ]
  },
  {
   "cell_type": "code",
   "execution_count": 41,
   "metadata": {},
   "outputs": [],
   "source": [
    "## Get numerical and categorical columns\n",
    "num_cols = X_train.select_dtypes(include=[\"int64\", \"float64\"]).columns.to_list()\n",
    "cat_cols = X_train.select_dtypes(include=\"object\").columns.to_list()"
   ]
  },
  {
   "cell_type": "code",
   "execution_count": 42,
   "metadata": {},
   "outputs": [
    {
     "name": "stdout",
     "output_type": "stream",
     "text": [
      "['Age', 'Academic Pressure', 'Work Pressure', 'CGPA', 'Study Satisfaction', 'Job Satisfaction', 'Work/Study Hours', 'Financial Stress', 'Age_WorkPressure', 'city_encoded', 'profession_encoded']\n",
      "\n",
      "\n",
      "['Name', 'Gender', 'City', 'Working Professional or Student', 'Profession', 'Sleep Duration', 'Dietary Habits', 'Degree', 'Have you ever had suicidal thoughts ?', 'Family History of Mental Illness']\n"
     ]
    }
   ],
   "source": [
    "print(num_cols)\n",
    "print(\"\\n\")\n",
    "print(cat_cols)"
   ]
  },
  {
   "cell_type": "code",
   "execution_count": 43,
   "metadata": {},
   "outputs": [],
   "source": [
    "## Pre-processing pipeline for numerical columns\n",
    "num_pipeline = Pipeline(\n",
    "    steps=[\n",
    "        (\"imputer\", SimpleImputer(strategy=\"median\")),\n",
    "        (\"scaler\", StandardScaler()),\n",
    "        (\"convert_to_float32\", FunctionTransformer(lambda x: x.astype(np.float32))),\n",
    "    ]\n",
    ")\n",
    "\n",
    "## Pre-processing pipeline for categorical columns\n",
    "cat_pipeline = Pipeline(\n",
    "    steps=[\n",
    "        (\"imputer\", SimpleImputer(strategy=\"constant\", fill_value=\"missing\")),\n",
    "        (\n",
    "            \"ordinal\",\n",
    "            OrdinalEncoder(\n",
    "                dtype=np.int32, handle_unknown=\"use_encoded_value\", unknown_value=-1\n",
    "            ),\n",
    "        ),\n",
    "    ]\n",
    ")\n",
    "\n",
    "## Combining the pipelines\n",
    "preprocessor = ColumnTransformer(\n",
    "    transformers=[(\"num\", num_pipeline, num_cols), (\"cat\", cat_pipeline, cat_cols)]\n",
    ")"
   ]
  },
  {
   "cell_type": "code",
   "execution_count": 44,
   "metadata": {},
   "outputs": [],
   "source": [
    "## Apply the preprocessing pipeline\n",
    "X_train_preprocessed = preprocessor.fit_transform(X_train)\n",
    "test_preprocessed = preprocessor.transform(df_test)"
   ]
  },
  {
   "cell_type": "code",
   "execution_count": 45,
   "metadata": {},
   "outputs": [
    {
     "name": "stdout",
     "output_type": "stream",
     "text": [
      "First row:\n",
      "[ 6.95360184e-01 -4.56981733e-02  1.58971357e+00  3.37837301e-02\n",
      "  1.80130042e-02 -7.72517979e-01 -1.36305749e+00 -6.99616790e-01\n",
      "  1.88296103e+00  3.28746676e-01 -6.31710649e-01  1.10000000e+01\n",
      "  0.00000000e+00  5.00000000e+01  1.00000000e+00  1.00000000e+01\n",
      "  2.90000000e+01  7.00000000e+00  3.30000000e+01  0.00000000e+00\n",
      "  0.00000000e+00]\n"
     ]
    }
   ],
   "source": [
    "print(\"First row:\")\n",
    "print(X_train_preprocessed[0])"
   ]
  },
  {
   "cell_type": "code",
   "execution_count": 46,
   "metadata": {},
   "outputs": [],
   "source": [
    "# Apply Isolation Forest for outlier detection on the training data\n",
    "isolation_forest = IsolationForest(contamination=0.04, random_state=rs)\n",
    "outlier_labels = isolation_forest.fit_predict(X_train_preprocessed)\n",
    "\n",
    "# Filter out outliers from both X_train_preprocessed and y_train\n",
    "non_outliers_mask = outlier_labels != -1\n",
    "X_train_preprocessed = X_train_preprocessed[non_outliers_mask]\n",
    "y_train = y_train[non_outliers_mask]"
   ]
  },
  {
   "cell_type": "code",
   "execution_count": 47,
   "metadata": {},
   "outputs": [],
   "source": [
    "# Define parameters\n",
    "xgb_params = {\n",
    "    \"learning_rate\": 0.298913248058474,\n",
    "    \"max_depth\": 9,\n",
    "    \"min_child_weight\": 3,\n",
    "    \"n_estimators\": 673,\n",
    "    \"subsample\": 0.5933970249700855,\n",
    "    \"gamma\": 2.597137534750985,\n",
    "    \"reg_lambda\": 0.11328048420927406,\n",
    "    \"colsample_bytree\": 0.1381203919800721,\n",
    "}\n",
    "\n",
    "catboost_params = {\n",
    "    \"iterations\": 145,\n",
    "    \"depth\": 7,\n",
    "    \"learning_rate\": 0.29930179265937246,\n",
    "    \"l2_leaf_reg\": 1.242352421942431,\n",
    "    \"random_strength\": 8.325681754379957,\n",
    "    \"bagging_temperature\": 0.7869848919618048,\n",
    "    \"border_count\": 139,\n",
    "}\n",
    "\n",
    "hgb_params = {\n",
    "    \"learning_rate\": 0.16299202834206894,\n",
    "    \"max_iter\": 250,\n",
    "    \"max_depth\": 4,\n",
    "    \"l2_regularization\": 7.1826466833939895,\n",
    "    \"early_stopping\": True,\n",
    "}"
   ]
  },
  {
   "cell_type": "code",
   "execution_count": 48,
   "metadata": {},
   "outputs": [],
   "source": [
    "xgb_model = XGBClassifier(**xgb_params, use_label_encoder=False, random_state=rs)\n",
    "catboost_model = CatBoostClassifier(\n",
    "    **catboost_params, random_state=rs, verbose=0\n",
    ")\n",
    "hgb_model = HistGradientBoostingClassifier(**hgb_params, random_state=rs)"
   ]
  },
  {
   "cell_type": "code",
   "execution_count": 49,
   "metadata": {},
   "outputs": [],
   "source": [
    "## Stacking the models together\n",
    "stacking_ensemble = StackingClassifier(\n",
    "    estimators=[(\"catboost\", catboost_model), (\"xgb\", xgb_model), (\"hgb\", hgb_model)],\n",
    "    final_estimator=LogisticRegression(),\n",
    "    passthrough=False,\n",
    ")"
   ]
  },
  {
   "cell_type": "code",
   "execution_count": 50,
   "metadata": {},
   "outputs": [
    {
     "name": "stdout",
     "output_type": "stream",
     "text": [
      "Cross-Validation Scores: [0.94221729 0.943809   0.94328867 0.94369586 0.94573184]\n",
      "Mean CV Accuracy: 0.9437\n",
      "Standard Deviation of CV Accuracy: 0.0011\n"
     ]
    }
   ],
   "source": [
    "scoring = make_scorer(accuracy_score)\n",
    "\n",
    "cv_scores = cross_val_score(\n",
    "    stacking_ensemble, X_train_preprocessed, y_train, cv=5, scoring=scoring\n",
    ")\n",
    "\n",
    "print(f\"Cross-Validation Scores: {cv_scores}\")\n",
    "print(f\"Mean CV Accuracy: {cv_scores.mean():.4f}\")\n",
    "print(f\"Standard Deviation of CV Accuracy: {cv_scores.std():.4f}\")"
   ]
  }
 ],
 "metadata": {
  "kernelspec": {
   "display_name": "Python 3",
   "language": "python",
   "name": "python3"
  },
  "language_info": {
   "codemirror_mode": {
    "name": "ipython",
    "version": 3
   },
   "file_extension": ".py",
   "mimetype": "text/x-python",
   "name": "python",
   "nbconvert_exporter": "python",
   "pygments_lexer": "ipython3",
   "version": "3.11.0"
  }
 },
 "nbformat": 4,
 "nbformat_minor": 2
}
