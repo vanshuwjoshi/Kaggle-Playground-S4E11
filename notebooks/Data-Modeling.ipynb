{
 "cells": [
  {
   "cell_type": "code",
   "execution_count": 14,
   "metadata": {},
   "outputs": [],
   "source": [
    "import pandas as pd\n",
    "import numpy as np\n",
    "import matplotlib.pyplot as plt\n",
    "import seaborn as sns\n",
    "%matplotlib inline\n",
    "import warnings\n",
    "warnings.filterwarnings('ignore')"
   ]
  },
  {
   "cell_type": "code",
   "execution_count": 15,
   "metadata": {},
   "outputs": [],
   "source": [
    "from sklearn.linear_model import LogisticRegression\n",
    "from sklearn.tree import DecisionTreeClassifier\n",
    "from sklearn.ensemble import RandomForestClassifier\n",
    "from xgboost import XGBClassifier\n",
    "from sklearn.neighbors import KNeighborsClassifier\n",
    "from sklearn.svm import SVC\n",
    "from sklearn.naive_bayes import GaussianNB\n",
    "from sklearn.dummy import DummyClassifier\n",
    "from sklearn.metrics import accuracy_score"
   ]
  },
  {
   "cell_type": "code",
   "execution_count": 16,
   "metadata": {},
   "outputs": [
    {
     "data": {
      "text/html": [
       "<div>\n",
       "<style scoped>\n",
       "    .dataframe tbody tr th:only-of-type {\n",
       "        vertical-align: middle;\n",
       "    }\n",
       "\n",
       "    .dataframe tbody tr th {\n",
       "        vertical-align: top;\n",
       "    }\n",
       "\n",
       "    .dataframe thead th {\n",
       "        text-align: right;\n",
       "    }\n",
       "</style>\n",
       "<table border=\"1\" class=\"dataframe\">\n",
       "  <thead>\n",
       "    <tr style=\"text-align: right;\">\n",
       "      <th></th>\n",
       "      <th>Work Pressure</th>\n",
       "      <th>CGPA</th>\n",
       "      <th>Job Satisfaction</th>\n",
       "      <th>Sleep Duration</th>\n",
       "      <th>Dietary Habits</th>\n",
       "      <th>Degree</th>\n",
       "      <th>Work/Study Hours</th>\n",
       "      <th>Financial Stress</th>\n",
       "      <th>Depression</th>\n",
       "      <th>Gender_Female</th>\n",
       "      <th>Gender_Male</th>\n",
       "      <th>Age_Group</th>\n",
       "      <th>City_encoded</th>\n",
       "      <th>Student</th>\n",
       "      <th>Profession_encoded</th>\n",
       "      <th>suicidal_thoughts</th>\n",
       "      <th>family_history</th>\n",
       "    </tr>\n",
       "  </thead>\n",
       "  <tbody>\n",
       "    <tr>\n",
       "      <th>0</th>\n",
       "      <td>5.0</td>\n",
       "      <td>-1.0</td>\n",
       "      <td>2.0</td>\n",
       "      <td>8.0</td>\n",
       "      <td>0.0</td>\n",
       "      <td>2.0</td>\n",
       "      <td>1.0</td>\n",
       "      <td>2.0</td>\n",
       "      <td>0</td>\n",
       "      <td>1.0</td>\n",
       "      <td>0.0</td>\n",
       "      <td>3</td>\n",
       "      <td>0.192690</td>\n",
       "      <td>0</td>\n",
       "      <td>0.048567</td>\n",
       "      <td>0</td>\n",
       "      <td>0</td>\n",
       "    </tr>\n",
       "    <tr>\n",
       "      <th>1</th>\n",
       "      <td>4.0</td>\n",
       "      <td>-1.0</td>\n",
       "      <td>3.0</td>\n",
       "      <td>5.0</td>\n",
       "      <td>2.0</td>\n",
       "      <td>2.0</td>\n",
       "      <td>7.0</td>\n",
       "      <td>3.0</td>\n",
       "      <td>1</td>\n",
       "      <td>0.0</td>\n",
       "      <td>1.0</td>\n",
       "      <td>0</td>\n",
       "      <td>0.142206</td>\n",
       "      <td>0</td>\n",
       "      <td>0.055649</td>\n",
       "      <td>1</td>\n",
       "      <td>0</td>\n",
       "    </tr>\n",
       "    <tr>\n",
       "      <th>2</th>\n",
       "      <td>5.0</td>\n",
       "      <td>9.0</td>\n",
       "      <td>2.0</td>\n",
       "      <td>6.0</td>\n",
       "      <td>0.0</td>\n",
       "      <td>2.0</td>\n",
       "      <td>3.0</td>\n",
       "      <td>1.0</td>\n",
       "      <td>1</td>\n",
       "      <td>0.0</td>\n",
       "      <td>1.0</td>\n",
       "      <td>1</td>\n",
       "      <td>0.159196</td>\n",
       "      <td>1</td>\n",
       "      <td>0.585061</td>\n",
       "      <td>1</td>\n",
       "      <td>0</td>\n",
       "    </tr>\n",
       "    <tr>\n",
       "      <th>3</th>\n",
       "      <td>5.0</td>\n",
       "      <td>-1.0</td>\n",
       "      <td>1.0</td>\n",
       "      <td>5.0</td>\n",
       "      <td>1.0</td>\n",
       "      <td>2.0</td>\n",
       "      <td>10.0</td>\n",
       "      <td>1.0</td>\n",
       "      <td>1</td>\n",
       "      <td>0.0</td>\n",
       "      <td>1.0</td>\n",
       "      <td>0</td>\n",
       "      <td>0.131293</td>\n",
       "      <td>0</td>\n",
       "      <td>0.055649</td>\n",
       "      <td>1</td>\n",
       "      <td>1</td>\n",
       "    </tr>\n",
       "    <tr>\n",
       "      <th>4</th>\n",
       "      <td>1.0</td>\n",
       "      <td>-1.0</td>\n",
       "      <td>1.0</td>\n",
       "      <td>6.0</td>\n",
       "      <td>2.0</td>\n",
       "      <td>2.0</td>\n",
       "      <td>9.0</td>\n",
       "      <td>4.0</td>\n",
       "      <td>0</td>\n",
       "      <td>1.0</td>\n",
       "      <td>0.0</td>\n",
       "      <td>1</td>\n",
       "      <td>0.125739</td>\n",
       "      <td>0</td>\n",
       "      <td>0.056610</td>\n",
       "      <td>1</td>\n",
       "      <td>1</td>\n",
       "    </tr>\n",
       "  </tbody>\n",
       "</table>\n",
       "</div>"
      ],
      "text/plain": [
       "   Work Pressure  CGPA  Job Satisfaction  Sleep Duration  Dietary Habits  \\\n",
       "0            5.0  -1.0               2.0             8.0             0.0   \n",
       "1            4.0  -1.0               3.0             5.0             2.0   \n",
       "2            5.0   9.0               2.0             6.0             0.0   \n",
       "3            5.0  -1.0               1.0             5.0             1.0   \n",
       "4            1.0  -1.0               1.0             6.0             2.0   \n",
       "\n",
       "   Degree  Work/Study Hours  Financial Stress  Depression  Gender_Female  \\\n",
       "0     2.0               1.0               2.0           0            1.0   \n",
       "1     2.0               7.0               3.0           1            0.0   \n",
       "2     2.0               3.0               1.0           1            0.0   \n",
       "3     2.0              10.0               1.0           1            0.0   \n",
       "4     2.0               9.0               4.0           0            1.0   \n",
       "\n",
       "   Gender_Male  Age_Group  City_encoded  Student  Profession_encoded  \\\n",
       "0          0.0          3      0.192690        0            0.048567   \n",
       "1          1.0          0      0.142206        0            0.055649   \n",
       "2          1.0          1      0.159196        1            0.585061   \n",
       "3          1.0          0      0.131293        0            0.055649   \n",
       "4          0.0          1      0.125739        0            0.056610   \n",
       "\n",
       "   suicidal_thoughts  family_history  \n",
       "0                  0               0  \n",
       "1                  1               0  \n",
       "2                  1               0  \n",
       "3                  1               1  \n",
       "4                  1               1  "
      ]
     },
     "execution_count": 16,
     "metadata": {},
     "output_type": "execute_result"
    }
   ],
   "source": [
    "data = pd.read_csv(\"../data/cleaned_v1.csv\")\n",
    "data.head()"
   ]
  },
  {
   "cell_type": "code",
   "execution_count": 17,
   "metadata": {},
   "outputs": [],
   "source": [
    "## removing Gender_Male\n",
    "data.drop([\"Gender_Male\"], axis=1, inplace=True)"
   ]
  },
  {
   "cell_type": "code",
   "execution_count": 18,
   "metadata": {},
   "outputs": [],
   "source": [
    "y = data[\"Depression\"]\n",
    "X = data.drop([\"Depression\"], axis=1)"
   ]
  },
  {
   "cell_type": "code",
   "execution_count": 19,
   "metadata": {},
   "outputs": [],
   "source": [
    "from sklearn.model_selection import train_test_split\n",
    "\n",
    "X_train, X_test, y_train, y_test = train_test_split(\n",
    "    X, y, test_size=0.2, random_state=42\n",
    ")"
   ]
  },
  {
   "cell_type": "code",
   "execution_count": 20,
   "metadata": {},
   "outputs": [
    {
     "data": {
      "text/html": [
       "<div>\n",
       "<style scoped>\n",
       "    .dataframe tbody tr th:only-of-type {\n",
       "        vertical-align: middle;\n",
       "    }\n",
       "\n",
       "    .dataframe tbody tr th {\n",
       "        vertical-align: top;\n",
       "    }\n",
       "\n",
       "    .dataframe thead th {\n",
       "        text-align: right;\n",
       "    }\n",
       "</style>\n",
       "<table border=\"1\" class=\"dataframe\">\n",
       "  <thead>\n",
       "    <tr style=\"text-align: right;\">\n",
       "      <th></th>\n",
       "      <th>Work Pressure</th>\n",
       "      <th>CGPA</th>\n",
       "      <th>Job Satisfaction</th>\n",
       "      <th>Sleep Duration</th>\n",
       "      <th>Dietary Habits</th>\n",
       "      <th>Degree</th>\n",
       "      <th>Work/Study Hours</th>\n",
       "      <th>Financial Stress</th>\n",
       "      <th>Gender_Female</th>\n",
       "      <th>Age_Group</th>\n",
       "      <th>City_encoded</th>\n",
       "      <th>Student</th>\n",
       "      <th>Profession_encoded</th>\n",
       "      <th>suicidal_thoughts</th>\n",
       "      <th>family_history</th>\n",
       "    </tr>\n",
       "  </thead>\n",
       "  <tbody>\n",
       "    <tr>\n",
       "      <th>33707</th>\n",
       "      <td>1.0</td>\n",
       "      <td>-1.0</td>\n",
       "      <td>5.0</td>\n",
       "      <td>8.0</td>\n",
       "      <td>2.0</td>\n",
       "      <td>2.0</td>\n",
       "      <td>4.0</td>\n",
       "      <td>2.0</td>\n",
       "      <td>0.0</td>\n",
       "      <td>4</td>\n",
       "      <td>0.175600</td>\n",
       "      <td>0</td>\n",
       "      <td>0.055649</td>\n",
       "      <td>0</td>\n",
       "      <td>1</td>\n",
       "    </tr>\n",
       "    <tr>\n",
       "      <th>133592</th>\n",
       "      <td>5.0</td>\n",
       "      <td>-1.0</td>\n",
       "      <td>4.0</td>\n",
       "      <td>5.0</td>\n",
       "      <td>0.0</td>\n",
       "      <td>3.0</td>\n",
       "      <td>11.0</td>\n",
       "      <td>4.0</td>\n",
       "      <td>0.0</td>\n",
       "      <td>4</td>\n",
       "      <td>0.242248</td>\n",
       "      <td>0</td>\n",
       "      <td>0.055649</td>\n",
       "      <td>0</td>\n",
       "      <td>1</td>\n",
       "    </tr>\n",
       "    <tr>\n",
       "      <th>113169</th>\n",
       "      <td>4.0</td>\n",
       "      <td>-1.0</td>\n",
       "      <td>3.0</td>\n",
       "      <td>8.0</td>\n",
       "      <td>1.0</td>\n",
       "      <td>3.0</td>\n",
       "      <td>3.0</td>\n",
       "      <td>1.0</td>\n",
       "      <td>0.0</td>\n",
       "      <td>3</td>\n",
       "      <td>0.214019</td>\n",
       "      <td>0</td>\n",
       "      <td>0.055649</td>\n",
       "      <td>0</td>\n",
       "      <td>1</td>\n",
       "    </tr>\n",
       "    <tr>\n",
       "      <th>42896</th>\n",
       "      <td>1.0</td>\n",
       "      <td>-1.0</td>\n",
       "      <td>1.0</td>\n",
       "      <td>8.0</td>\n",
       "      <td>2.0</td>\n",
       "      <td>2.0</td>\n",
       "      <td>8.0</td>\n",
       "      <td>5.0</td>\n",
       "      <td>0.0</td>\n",
       "      <td>0</td>\n",
       "      <td>0.144928</td>\n",
       "      <td>0</td>\n",
       "      <td>0.055649</td>\n",
       "      <td>1</td>\n",
       "      <td>0</td>\n",
       "    </tr>\n",
       "    <tr>\n",
       "      <th>82457</th>\n",
       "      <td>4.0</td>\n",
       "      <td>-1.0</td>\n",
       "      <td>5.0</td>\n",
       "      <td>6.0</td>\n",
       "      <td>1.0</td>\n",
       "      <td>1.0</td>\n",
       "      <td>0.0</td>\n",
       "      <td>2.0</td>\n",
       "      <td>0.0</td>\n",
       "      <td>2</td>\n",
       "      <td>0.134045</td>\n",
       "      <td>0</td>\n",
       "      <td>0.375086</td>\n",
       "      <td>0</td>\n",
       "      <td>0</td>\n",
       "    </tr>\n",
       "  </tbody>\n",
       "</table>\n",
       "</div>"
      ],
      "text/plain": [
       "        Work Pressure  CGPA  Job Satisfaction  Sleep Duration  Dietary Habits  \\\n",
       "33707             1.0  -1.0               5.0             8.0             2.0   \n",
       "133592            5.0  -1.0               4.0             5.0             0.0   \n",
       "113169            4.0  -1.0               3.0             8.0             1.0   \n",
       "42896             1.0  -1.0               1.0             8.0             2.0   \n",
       "82457             4.0  -1.0               5.0             6.0             1.0   \n",
       "\n",
       "        Degree  Work/Study Hours  Financial Stress  Gender_Female  Age_Group  \\\n",
       "33707      2.0               4.0               2.0            0.0          4   \n",
       "133592     3.0              11.0               4.0            0.0          4   \n",
       "113169     3.0               3.0               1.0            0.0          3   \n",
       "42896      2.0               8.0               5.0            0.0          0   \n",
       "82457      1.0               0.0               2.0            0.0          2   \n",
       "\n",
       "        City_encoded  Student  Profession_encoded  suicidal_thoughts  \\\n",
       "33707       0.175600        0            0.055649                  0   \n",
       "133592      0.242248        0            0.055649                  0   \n",
       "113169      0.214019        0            0.055649                  0   \n",
       "42896       0.144928        0            0.055649                  1   \n",
       "82457       0.134045        0            0.375086                  0   \n",
       "\n",
       "        family_history  \n",
       "33707                1  \n",
       "133592               1  \n",
       "113169               1  \n",
       "42896                0  \n",
       "82457                0  "
      ]
     },
     "execution_count": 20,
     "metadata": {},
     "output_type": "execute_result"
    }
   ],
   "source": [
    "X_train.head()"
   ]
  },
  {
   "cell_type": "code",
   "execution_count": 21,
   "metadata": {},
   "outputs": [],
   "source": [
    "def run_models(X_train, X_test, y_train, y_test):\n",
    "    models = {\n",
    "        \"Logistic Regression\": LogisticRegression(max_iter=1000),\n",
    "        \"Decision Tree\": DecisionTreeClassifier(max_depth=5, random_state=42),\n",
    "        \"Random Forest\": RandomForestClassifier(n_estimators=100, random_state=42),\n",
    "        \"XGBoost\": XGBClassifier(\n",
    "            use_label_encoder=False, eval_metric=\"logloss\", random_state=42\n",
    "        ),\n",
    "        \"K-Nearest Neighbors\": KNeighborsClassifier(n_neighbors=5),\n",
    "        \"Naive Bayes\": GaussianNB(),\n",
    "        \"Dummy Classifier\": DummyClassifier(strategy=\"most_frequent\"),\n",
    "    }\n",
    "\n",
    "    results = {}\n",
    "\n",
    "    for name, model in models.items():\n",
    "        try:\n",
    "            print(str(\"Currently training: \" + name))\n",
    "            model.fit(X_train, y_train)\n",
    "            y_pred = model.predict(X_test)\n",
    "            accuracy = accuracy_score(y_test, y_pred)\n",
    "            results[name] = accuracy\n",
    "            print(str(\"Model \" + name + f\" has a accuracy of {accuracy}\"))\n",
    "        except Exception as e:\n",
    "            results[name] = f\"Error: {e}\"\n",
    "\n",
    "    return results"
   ]
  },
  {
   "cell_type": "code",
   "execution_count": 22,
   "metadata": {},
   "outputs": [],
   "source": [
    "#results = run_models(X_train, X_test, y_train, y_test)\n",
    "#print(results)"
   ]
  },
  {
   "cell_type": "markdown",
   "metadata": {},
   "source": [
    "Hyperparameter tuning for:\n",
    "- Logistic\n",
    "- Random Forest\n",
    "- XGBoost"
   ]
  },
  {
   "cell_type": "code",
   "execution_count": 23,
   "metadata": {},
   "outputs": [
    {
     "name": "stdout",
     "output_type": "stream",
     "text": [
      "0.9355366027007818\n"
     ]
    }
   ],
   "source": [
    "log_reg = LogisticRegression(max_iter=1000)\n",
    "log_reg.fit(X_train, y_train)\n",
    "y_pred = log_reg.predict(X_test)\n",
    "accuracy = accuracy_score(y_test, y_pred)\n",
    "print(accuracy)"
   ]
  },
  {
   "cell_type": "code",
   "execution_count": 24,
   "metadata": {},
   "outputs": [
    {
     "name": "stdout",
     "output_type": "stream",
     "text": [
      "0.9357498223169864\n"
     ]
    }
   ],
   "source": [
    "xgboost = XGBClassifier(se_label_encoder=False, eval_metric=\"logloss\", random_state=42)\n",
    "xgboost.fit(X_train, y_train)\n",
    "y_pred = xgboost.predict(X_test)\n",
    "accuracy = accuracy_score(y_test, y_pred)\n",
    "print(accuracy)"
   ]
  },
  {
   "cell_type": "code",
   "execution_count": 25,
   "metadata": {},
   "outputs": [
    {
     "name": "stdout",
     "output_type": "stream",
     "text": [
      "0.9340796019900498\n"
     ]
    }
   ],
   "source": [
    "random_for = RandomForestClassifier(n_estimators=100, random_state=42)\n",
    "random_for.fit(X_train, y_train)\n",
    "y_pred = random_for.predict(X_test)\n",
    "accuracy = accuracy_score(y_test, y_pred)\n",
    "print(accuracy)"
   ]
  },
  {
   "cell_type": "code",
   "execution_count": 26,
   "metadata": {},
   "outputs": [],
   "source": [
    "from sklearn.metrics import classification_report, roc_auc_score, confusion_matrix\n",
    "\n",
    "def evaluate_model(model, X_test, y_test):\n",
    "    y_pred = model.predict(X_test)\n",
    "    y_prob = model.predict_proba(X_test)[:, 1] if hasattr(model, \"predict_proba\") else None\n",
    "    \n",
    "    print(\"Classification Report:\")\n",
    "    print(classification_report(y_test, y_pred))\n",
    "    if y_prob is not None:\n",
    "        print(f\"ROC-AUC Score: {roc_auc_score(y_test, y_prob)}\")\n",
    "    print(\"Confusion Matrix:\")\n",
    "    print(confusion_matrix(y_test, y_pred))\n",
    "    print(f\"Accuracy score: {accuracy_score(y_test, y_pred)} \")\n"
   ]
  },
  {
   "cell_type": "code",
   "execution_count": 27,
   "metadata": {},
   "outputs": [
    {
     "name": "stdout",
     "output_type": "stream",
     "text": [
      "Evaluation report for Logistic Regression:\n",
      "\n",
      "Classification Report:\n",
      "              precision    recall  f1-score   support\n",
      "\n",
      "           0       0.96      0.97      0.96     22986\n",
      "           1       0.84      0.80      0.82      5154\n",
      "\n",
      "    accuracy                           0.94     28140\n",
      "   macro avg       0.90      0.88      0.89     28140\n",
      "weighted avg       0.93      0.94      0.93     28140\n",
      "\n",
      "ROC-AUC Score: 0.9738835732745625\n",
      "Confusion Matrix:\n",
      "[[22200   786]\n",
      " [ 1028  4126]]\n",
      "Accuracy score: 0.9355366027007818 \n"
     ]
    }
   ],
   "source": [
    "print(\"Evaluation report for Logistic Regression:\\n\")\n",
    "evaluate_model(log_reg, X_test, y_test)"
   ]
  },
  {
   "cell_type": "code",
   "execution_count": 28,
   "metadata": {},
   "outputs": [
    {
     "name": "stdout",
     "output_type": "stream",
     "text": [
      "Evaluation report for XGBoost:\n",
      "\n",
      "Classification Report:\n",
      "              precision    recall  f1-score   support\n",
      "\n",
      "           0       0.96      0.96      0.96     22986\n",
      "           1       0.83      0.81      0.82      5154\n",
      "\n",
      "    accuracy                           0.94     28140\n",
      "   macro avg       0.89      0.89      0.89     28140\n",
      "weighted avg       0.94      0.94      0.94     28140\n",
      "\n",
      "ROC-AUC Score: 0.9738361983493453\n",
      "Confusion Matrix:\n",
      "[[22135   851]\n",
      " [  957  4197]]\n",
      "Accuracy score: 0.9357498223169864 \n"
     ]
    }
   ],
   "source": [
    "print(\"Evaluation report for XGBoost:\\n\")\n",
    "evaluate_model(xgboost, X_test, y_test)"
   ]
  },
  {
   "cell_type": "code",
   "execution_count": 29,
   "metadata": {},
   "outputs": [
    {
     "name": "stdout",
     "output_type": "stream",
     "text": [
      "Evaluation report for Random Forest:\n",
      "\n",
      "Classification Report:\n",
      "              precision    recall  f1-score   support\n",
      "\n",
      "           0       0.95      0.97      0.96     22986\n",
      "           1       0.84      0.79      0.82      5154\n",
      "\n",
      "    accuracy                           0.93     28140\n",
      "   macro avg       0.90      0.88      0.89     28140\n",
      "weighted avg       0.93      0.93      0.93     28140\n",
      "\n",
      "ROC-AUC Score: 0.9714651139407257\n",
      "Confusion Matrix:\n",
      "[[22198   788]\n",
      " [ 1067  4087]]\n",
      "Accuracy score: 0.9340796019900498 \n"
     ]
    }
   ],
   "source": [
    "print(\"Evaluation report for Random Forest:\\n\")\n",
    "evaluate_model(random_for, X_test, y_test)"
   ]
  },
  {
   "cell_type": "markdown",
   "metadata": {},
   "source": [
    "Should try to reduce False Negatives, which is very high (close to 1000 for each model), since the data is imbalanced."
   ]
  },
  {
   "cell_type": "code",
   "execution_count": 30,
   "metadata": {},
   "outputs": [
    {
     "data": {
      "text/plain": [
       "Depression\n",
       "0    92147\n",
       "1    20413\n",
       "Name: count, dtype: int64"
      ]
     },
     "execution_count": 30,
     "metadata": {},
     "output_type": "execute_result"
    }
   ],
   "source": [
    "y_train.value_counts()"
   ]
  },
  {
   "cell_type": "code",
   "execution_count": 31,
   "metadata": {},
   "outputs": [
    {
     "data": {
      "text/plain": [
       "Depression\n",
       "0    22986\n",
       "1     5154\n",
       "Name: count, dtype: int64"
      ]
     },
     "execution_count": 31,
     "metadata": {},
     "output_type": "execute_result"
    }
   ],
   "source": [
    "y_test.value_counts()"
   ]
  },
  {
   "cell_type": "markdown",
   "metadata": {},
   "source": [
    "Tuning Logistic Regression"
   ]
  },
  {
   "cell_type": "code",
   "execution_count": 32,
   "metadata": {},
   "outputs": [],
   "source": [
    "from scipy.stats import uniform, loguniform\n",
    "from sklearn.model_selection import RandomizedSearchCV\n",
    "\n",
    "# Define the parameter distribution\n",
    "param_dist = {\n",
    "    \"C\": loguniform(1e-4, 1e4),\n",
    "    \"penalty\": [\"l1\", \"l2\", \"elasticnet\", \"none\"],\n",
    "    \"solver\": [\"lbfgs\", \"newton-cg\", \"liblinear\", \"sag\", \"saga\"],\n",
    "    \"max_iter\": [100, 1000, 2500, 5000],\n",
    "}\n",
    "\n",
    "# Create a RandomizedSearchCV object\n",
    "random_search = RandomizedSearchCV(\n",
    "    LogisticRegression(),\n",
    "    param_distributions=param_dist,\n",
    "    n_iter=100,  # Number of parameter settings that are sampled\n",
    "    cv=5,\n",
    "    random_state=42,\n",
    "    n_jobs=-1,  # Use all available cores\n",
    ")"
   ]
  },
  {
   "cell_type": "code",
   "execution_count": 33,
   "metadata": {},
   "outputs": [],
   "source": [
    "#random_search.fit(X_train, y_train)"
   ]
  },
  {
   "cell_type": "code",
   "execution_count": 34,
   "metadata": {},
   "outputs": [],
   "source": [
    "#best_params = random_search.best_params_\n",
    "#best_model = random_search.best_estimator_\n",
    "\n",
    "#accuracy = best_model.score(X_test, y_test)\n",
    "#print(f\"Best parameters: {best_params}\")\n",
    "#print(f\"Accuracy: {accuracy:.3f}\")"
   ]
  },
  {
   "cell_type": "code",
   "execution_count": 35,
   "metadata": {},
   "outputs": [
    {
     "name": "stdout",
     "output_type": "stream",
     "text": [
      "Classification Report:\n",
      "              precision    recall  f1-score   support\n",
      "\n",
      "           0       0.96      0.97      0.96     22986\n",
      "           1       0.84      0.80      0.82      5154\n",
      "\n",
      "    accuracy                           0.94     28140\n",
      "   macro avg       0.90      0.88      0.89     28140\n",
      "weighted avg       0.93      0.94      0.94     28140\n",
      "\n",
      "ROC-AUC Score: 0.9738905286310667\n",
      "Confusion Matrix:\n",
      "[[22201   785]\n",
      " [ 1026  4128]]\n",
      "Accuracy score: 0.9356432125088842 \n"
     ]
    }
   ],
   "source": [
    "best_params = {\n",
    "    \"C\": 3.6348739977385867,\n",
    "    \"max_iter\": 5000,\n",
    "    \"penalty\": \"l2\",\n",
    "    \"solver\": \"newton-cg\",\n",
    "}\n",
    "log_reg_tuned = LogisticRegression(**best_params)\n",
    "log_reg_tuned.fit(X_train, y_train)\n",
    "evaluate_model(log_reg_tuned, X_test, y_test)"
   ]
  },
  {
   "cell_type": "markdown",
   "metadata": {},
   "source": [
    "Tuning XGBoost"
   ]
  },
  {
   "cell_type": "code",
   "execution_count": 36,
   "metadata": {},
   "outputs": [],
   "source": [
    "param_dist = {\n",
    "    \"n_estimators\": [100, 500, 900, 1100, 1500],\n",
    "    \"max_depth\": [2, 3, 5, 10, 15],\n",
    "    \"learning_rate\": [0.05, 0.1, 0.15, 0.20],\n",
    "    \"min_child_weight\": [1, 2, 3, 4],\n",
    "    \"subsample\": np.arange(0.5, 1.0, 0.1),\n",
    "    \"colsample_bytree\": np.arange(0.5, 1.0, 0.1),\n",
    "}\n",
    "xgb_clf = XGBClassifier(objective=\"binary:logistic\", tree_method=\"hist\")\n",
    "\n",
    "random_search = RandomizedSearchCV(\n",
    "    estimator=xgb_clf,\n",
    "    param_distributions=param_dist,\n",
    "    n_iter=25,  # Number of parameter settings sampled\n",
    "    scoring=\"accuracy\",\n",
    "    cv=5,  # Number of cross-validation folds\n",
    "    verbose=1,\n",
    "    n_jobs=-1,  # Use all available cores\n",
    "    random_state=42,\n",
    ")\n",
    "# random_search.fit(X_train, y_train)"
   ]
  },
  {
   "cell_type": "code",
   "execution_count": 37,
   "metadata": {},
   "outputs": [],
   "source": [
    "#best_params = random_search.best_params_\n",
    "#best_model = random_search.best_estimator_"
   ]
  },
  {
   "cell_type": "code",
   "execution_count": 38,
   "metadata": {},
   "outputs": [],
   "source": [
    "#y_pred = best_model.predict(X_test)\n",
    "#accuracy = accuracy_score(y_test, y_pred)\n",
    "#print(f\"Best parameters: {best_params}\")\n",
    "#print(f\"Accuracy on test set: {accuracy}\")"
   ]
  },
  {
   "cell_type": "code",
   "execution_count": 39,
   "metadata": {},
   "outputs": [
    {
     "name": "stdout",
     "output_type": "stream",
     "text": [
      "Classification Report:\n",
      "              precision    recall  f1-score   support\n",
      "\n",
      "           0       0.96      0.97      0.96     22986\n",
      "           1       0.85      0.81      0.83      5154\n",
      "\n",
      "    accuracy                           0.94     28140\n",
      "   macro avg       0.90      0.89      0.90     28140\n",
      "weighted avg       0.94      0.94      0.94     28140\n",
      "\n",
      "ROC-AUC Score: 0.9758697707072189\n",
      "Confusion Matrix:\n",
      "[[22221   765]\n",
      " [  973  4181]]\n",
      "Accuracy score: 0.9382373845060412 \n"
     ]
    }
   ],
   "source": [
    "best_params = {\n",
    "    \"subsample\": 0.5,\n",
    "    \"n_estimators\": 500,\n",
    "    \"min_child_weight\": 3,\n",
    "    \"max_depth\": 2,\n",
    "    \"learning_rate\": 0.1,\n",
    "    \"colsample_bytree\": 0.7,\n",
    "}\n",
    "xgboost_tuned = XGBClassifier(\n",
    "    objective=\"binary:logistic\", tree_method=\"hist\", **best_params\n",
    ")\n",
    "xgboost_tuned.fit(X_train, y_train)\n",
    "evaluate_model(xgboost_tuned, X_test, y_test)"
   ]
  },
  {
   "cell_type": "code",
   "execution_count": 40,
   "metadata": {},
   "outputs": [],
   "source": [
    "from sklearn.model_selection import StratifiedKFold, cross_val_score\n",
    "cv = StratifiedKFold(n_splits=5, shuffle=True, random_state=42)"
   ]
  },
  {
   "cell_type": "code",
   "execution_count": 41,
   "metadata": {},
   "outputs": [],
   "source": [
    "from catboost import CatBoostClassifier"
   ]
  },
  {
   "cell_type": "code",
   "execution_count": 43,
   "metadata": {},
   "outputs": [
    {
     "data": {
      "text/html": [
       "<div>\n",
       "<style scoped>\n",
       "    .dataframe tbody tr th:only-of-type {\n",
       "        vertical-align: middle;\n",
       "    }\n",
       "\n",
       "    .dataframe tbody tr th {\n",
       "        vertical-align: top;\n",
       "    }\n",
       "\n",
       "    .dataframe thead th {\n",
       "        text-align: right;\n",
       "    }\n",
       "</style>\n",
       "<table border=\"1\" class=\"dataframe\">\n",
       "  <thead>\n",
       "    <tr style=\"text-align: right;\">\n",
       "      <th></th>\n",
       "      <th>Work Pressure</th>\n",
       "      <th>CGPA</th>\n",
       "      <th>Job Satisfaction</th>\n",
       "      <th>Sleep Duration</th>\n",
       "      <th>Dietary Habits</th>\n",
       "      <th>Degree</th>\n",
       "      <th>Work/Study Hours</th>\n",
       "      <th>Financial Stress</th>\n",
       "      <th>Gender_Female</th>\n",
       "      <th>Age_Group</th>\n",
       "      <th>City_encoded</th>\n",
       "      <th>Student</th>\n",
       "      <th>Profession_encoded</th>\n",
       "      <th>suicidal_thoughts</th>\n",
       "      <th>family_history</th>\n",
       "    </tr>\n",
       "  </thead>\n",
       "  <tbody>\n",
       "    <tr>\n",
       "      <th>0</th>\n",
       "      <td>5.0</td>\n",
       "      <td>-1.0</td>\n",
       "      <td>2.0</td>\n",
       "      <td>8.0</td>\n",
       "      <td>0.0</td>\n",
       "      <td>2.0</td>\n",
       "      <td>1.0</td>\n",
       "      <td>2.0</td>\n",
       "      <td>1.0</td>\n",
       "      <td>3</td>\n",
       "      <td>0.192690</td>\n",
       "      <td>0</td>\n",
       "      <td>0.048567</td>\n",
       "      <td>0</td>\n",
       "      <td>0</td>\n",
       "    </tr>\n",
       "    <tr>\n",
       "      <th>1</th>\n",
       "      <td>4.0</td>\n",
       "      <td>-1.0</td>\n",
       "      <td>3.0</td>\n",
       "      <td>5.0</td>\n",
       "      <td>2.0</td>\n",
       "      <td>2.0</td>\n",
       "      <td>7.0</td>\n",
       "      <td>3.0</td>\n",
       "      <td>0.0</td>\n",
       "      <td>0</td>\n",
       "      <td>0.142206</td>\n",
       "      <td>0</td>\n",
       "      <td>0.055649</td>\n",
       "      <td>1</td>\n",
       "      <td>0</td>\n",
       "    </tr>\n",
       "    <tr>\n",
       "      <th>2</th>\n",
       "      <td>5.0</td>\n",
       "      <td>9.0</td>\n",
       "      <td>2.0</td>\n",
       "      <td>6.0</td>\n",
       "      <td>0.0</td>\n",
       "      <td>2.0</td>\n",
       "      <td>3.0</td>\n",
       "      <td>1.0</td>\n",
       "      <td>0.0</td>\n",
       "      <td>1</td>\n",
       "      <td>0.159196</td>\n",
       "      <td>1</td>\n",
       "      <td>0.585061</td>\n",
       "      <td>1</td>\n",
       "      <td>0</td>\n",
       "    </tr>\n",
       "    <tr>\n",
       "      <th>3</th>\n",
       "      <td>5.0</td>\n",
       "      <td>-1.0</td>\n",
       "      <td>1.0</td>\n",
       "      <td>5.0</td>\n",
       "      <td>1.0</td>\n",
       "      <td>2.0</td>\n",
       "      <td>10.0</td>\n",
       "      <td>1.0</td>\n",
       "      <td>0.0</td>\n",
       "      <td>0</td>\n",
       "      <td>0.131293</td>\n",
       "      <td>0</td>\n",
       "      <td>0.055649</td>\n",
       "      <td>1</td>\n",
       "      <td>1</td>\n",
       "    </tr>\n",
       "    <tr>\n",
       "      <th>4</th>\n",
       "      <td>1.0</td>\n",
       "      <td>-1.0</td>\n",
       "      <td>1.0</td>\n",
       "      <td>6.0</td>\n",
       "      <td>2.0</td>\n",
       "      <td>2.0</td>\n",
       "      <td>9.0</td>\n",
       "      <td>4.0</td>\n",
       "      <td>1.0</td>\n",
       "      <td>1</td>\n",
       "      <td>0.125739</td>\n",
       "      <td>0</td>\n",
       "      <td>0.056610</td>\n",
       "      <td>1</td>\n",
       "      <td>1</td>\n",
       "    </tr>\n",
       "  </tbody>\n",
       "</table>\n",
       "</div>"
      ],
      "text/plain": [
       "   Work Pressure  CGPA  Job Satisfaction  Sleep Duration  Dietary Habits  \\\n",
       "0            5.0  -1.0               2.0             8.0             0.0   \n",
       "1            4.0  -1.0               3.0             5.0             2.0   \n",
       "2            5.0   9.0               2.0             6.0             0.0   \n",
       "3            5.0  -1.0               1.0             5.0             1.0   \n",
       "4            1.0  -1.0               1.0             6.0             2.0   \n",
       "\n",
       "   Degree  Work/Study Hours  Financial Stress  Gender_Female  Age_Group  \\\n",
       "0     2.0               1.0               2.0            1.0          3   \n",
       "1     2.0               7.0               3.0            0.0          0   \n",
       "2     2.0               3.0               1.0            0.0          1   \n",
       "3     2.0              10.0               1.0            0.0          0   \n",
       "4     2.0               9.0               4.0            1.0          1   \n",
       "\n",
       "   City_encoded  Student  Profession_encoded  suicidal_thoughts  \\\n",
       "0      0.192690        0            0.048567                  0   \n",
       "1      0.142206        0            0.055649                  1   \n",
       "2      0.159196        1            0.585061                  1   \n",
       "3      0.131293        0            0.055649                  1   \n",
       "4      0.125739        0            0.056610                  1   \n",
       "\n",
       "   family_history  \n",
       "0               0  \n",
       "1               0  \n",
       "2               0  \n",
       "3               1  \n",
       "4               1  "
      ]
     },
     "execution_count": 43,
     "metadata": {},
     "output_type": "execute_result"
    }
   ],
   "source": [
    "X.head()"
   ]
  },
  {
   "cell_type": "code",
   "execution_count": 46,
   "metadata": {},
   "outputs": [
    {
     "name": "stdout",
     "output_type": "stream",
     "text": [
      "Fold Accuracy: 0.9378109452736318\n",
      "Fold Accuracy: 0.9377043354655294\n",
      "Fold Accuracy: 0.9387348969438521\n",
      "Fold Accuracy: 0.9401918976545842\n",
      "Fold Accuracy: 0.9388415067519545\n"
     ]
    }
   ],
   "source": [
    "accuracy_scores = []\n",
    "for train_index, val_index in cv.split(X, y):\n",
    "    # Split the data into train and validation sets\n",
    "    X_strat_train, X_val = X.iloc[train_index], X.iloc[val_index]\n",
    "    y_strat_train, y_val = y.iloc[train_index], y.iloc[val_index]\n",
    "\n",
    "    # Initialize CatBoost Classifier\n",
    "    cat_model = CatBoostClassifier(\n",
    "        iterations=500,  # Number of boosting iterations\n",
    "        learning_rate=0.1,  # Learning rate\n",
    "        depth=6,  # Tree depth\n",
    "        loss_function=\"Logloss\",  # Loss function for binary classification\n",
    "        eval_metric=\"Accuracy\",  # Evaluation metric\n",
    "        verbose=0,  # Suppress training output\n",
    "        random_seed=42,\n",
    "    )\n",
    "\n",
    "    # Fit the model\n",
    "    cat_model.fit(X_strat_train, y_strat_train, eval_set=(X_val, y_val), use_best_model=True)\n",
    "\n",
    "    # Make predictions\n",
    "    y_pred = cat_model.predict(X_val)\n",
    "\n",
    "    # Calculate accuracy\n",
    "    acc = accuracy_score(y_val, y_pred)\n",
    "    accuracy_scores.append(acc)\n",
    "    print(f\"Fold Accuracy: {acc}\")"
   ]
  },
  {
   "cell_type": "code",
   "execution_count": 47,
   "metadata": {},
   "outputs": [
    {
     "name": "stdout",
     "output_type": "stream",
     "text": [
      "\n",
      "Mean Accuracy Across 5 Folds: 0.9386567164179104\n"
     ]
    }
   ],
   "source": [
    "mean_accuracy = np.mean(accuracy_scores)\n",
    "print(f\"\\nMean Accuracy Across {5} Folds: {mean_accuracy}\")"
   ]
  },
  {
   "cell_type": "code",
   "execution_count": 48,
   "metadata": {},
   "outputs": [],
   "source": [
    "# Define the parameter grid\n",
    "param_grid = {\n",
    "    \"iterations\": [100, 300, 500, 700, 1000],\n",
    "    \"depth\": [4, 6, 8, 10],\n",
    "    \"learning_rate\": [0.01, 0.05, 0.1, 0.2],\n",
    "    \"l2_leaf_reg\": [1, 3, 5, 7, 9],  # Regularization parameter\n",
    "    \"border_count\": [32, 64, 128],  # Number of splits for numeric features\n",
    "    \"bagging_temperature\": [0, 1, 2, 3],  # Used for controlling overfitting\n",
    "    \"random_strength\": [1, 5, 10],  # Noise to randomize splits\n",
    "}\n",
    "\n",
    "# Initialize CatBoostClassifier\n",
    "cat_model = CatBoostClassifier(\n",
    "    loss_function=\"Logloss\",\n",
    "    eval_metric=\"Accuracy\",\n",
    "    verbose=0,  # Suppress training output\n",
    "    random_seed=42,\n",
    ")\n",
    "\n",
    "# Set up StratifiedKFold\n",
    "skf = StratifiedKFold(n_splits=5, shuffle=True, random_state=42)\n",
    "\n",
    "# Set up RandomizedSearchCV\n",
    "random_search = RandomizedSearchCV(\n",
    "    estimator=cat_model,\n",
    "    param_distributions=param_grid,\n",
    "    n_iter=50,  # Number of combinations to try\n",
    "    scoring=\"accuracy\",  # Optimize for accuracy\n",
    "    cv=skf,  # Cross-validation\n",
    "    verbose=2,\n",
    "    random_state=42,\n",
    "    n_jobs=-1,  # Use all available processors\n",
    ")"
   ]
  },
  {
   "cell_type": "code",
   "execution_count": 49,
   "metadata": {},
   "outputs": [
    {
     "name": "stdout",
     "output_type": "stream",
     "text": [
      "Fitting 5 folds for each of 50 candidates, totalling 250 fits\n"
     ]
    },
    {
     "data": {
      "text/html": [
       "<style>#sk-container-id-1 {color: black;}#sk-container-id-1 pre{padding: 0;}#sk-container-id-1 div.sk-toggleable {background-color: white;}#sk-container-id-1 label.sk-toggleable__label {cursor: pointer;display: block;width: 100%;margin-bottom: 0;padding: 0.3em;box-sizing: border-box;text-align: center;}#sk-container-id-1 label.sk-toggleable__label-arrow:before {content: \"▸\";float: left;margin-right: 0.25em;color: #696969;}#sk-container-id-1 label.sk-toggleable__label-arrow:hover:before {color: black;}#sk-container-id-1 div.sk-estimator:hover label.sk-toggleable__label-arrow:before {color: black;}#sk-container-id-1 div.sk-toggleable__content {max-height: 0;max-width: 0;overflow: hidden;text-align: left;background-color: #f0f8ff;}#sk-container-id-1 div.sk-toggleable__content pre {margin: 0.2em;color: black;border-radius: 0.25em;background-color: #f0f8ff;}#sk-container-id-1 input.sk-toggleable__control:checked~div.sk-toggleable__content {max-height: 200px;max-width: 100%;overflow: auto;}#sk-container-id-1 input.sk-toggleable__control:checked~label.sk-toggleable__label-arrow:before {content: \"▾\";}#sk-container-id-1 div.sk-estimator input.sk-toggleable__control:checked~label.sk-toggleable__label {background-color: #d4ebff;}#sk-container-id-1 div.sk-label input.sk-toggleable__control:checked~label.sk-toggleable__label {background-color: #d4ebff;}#sk-container-id-1 input.sk-hidden--visually {border: 0;clip: rect(1px 1px 1px 1px);clip: rect(1px, 1px, 1px, 1px);height: 1px;margin: -1px;overflow: hidden;padding: 0;position: absolute;width: 1px;}#sk-container-id-1 div.sk-estimator {font-family: monospace;background-color: #f0f8ff;border: 1px dotted black;border-radius: 0.25em;box-sizing: border-box;margin-bottom: 0.5em;}#sk-container-id-1 div.sk-estimator:hover {background-color: #d4ebff;}#sk-container-id-1 div.sk-parallel-item::after {content: \"\";width: 100%;border-bottom: 1px solid gray;flex-grow: 1;}#sk-container-id-1 div.sk-label:hover label.sk-toggleable__label {background-color: #d4ebff;}#sk-container-id-1 div.sk-serial::before {content: \"\";position: absolute;border-left: 1px solid gray;box-sizing: border-box;top: 0;bottom: 0;left: 50%;z-index: 0;}#sk-container-id-1 div.sk-serial {display: flex;flex-direction: column;align-items: center;background-color: white;padding-right: 0.2em;padding-left: 0.2em;position: relative;}#sk-container-id-1 div.sk-item {position: relative;z-index: 1;}#sk-container-id-1 div.sk-parallel {display: flex;align-items: stretch;justify-content: center;background-color: white;position: relative;}#sk-container-id-1 div.sk-item::before, #sk-container-id-1 div.sk-parallel-item::before {content: \"\";position: absolute;border-left: 1px solid gray;box-sizing: border-box;top: 0;bottom: 0;left: 50%;z-index: -1;}#sk-container-id-1 div.sk-parallel-item {display: flex;flex-direction: column;z-index: 1;position: relative;background-color: white;}#sk-container-id-1 div.sk-parallel-item:first-child::after {align-self: flex-end;width: 50%;}#sk-container-id-1 div.sk-parallel-item:last-child::after {align-self: flex-start;width: 50%;}#sk-container-id-1 div.sk-parallel-item:only-child::after {width: 0;}#sk-container-id-1 div.sk-dashed-wrapped {border: 1px dashed gray;margin: 0 0.4em 0.5em 0.4em;box-sizing: border-box;padding-bottom: 0.4em;background-color: white;}#sk-container-id-1 div.sk-label label {font-family: monospace;font-weight: bold;display: inline-block;line-height: 1.2em;}#sk-container-id-1 div.sk-label-container {text-align: center;}#sk-container-id-1 div.sk-container {/* jupyter's `normalize.less` sets `[hidden] { display: none; }` but bootstrap.min.css set `[hidden] { display: none !important; }` so we also need the `!important` here to be able to override the default hidden behavior on the sphinx rendered scikit-learn.org. See: https://github.com/scikit-learn/scikit-learn/issues/21755 */display: inline-block !important;position: relative;}#sk-container-id-1 div.sk-text-repr-fallback {display: none;}</style><div id=\"sk-container-id-1\" class=\"sk-top-container\"><div class=\"sk-text-repr-fallback\"><pre>RandomizedSearchCV(cv=StratifiedKFold(n_splits=5, random_state=42, shuffle=True),\n",
       "                   estimator=&lt;catboost.core.CatBoostClassifier object at 0x000001EB17C49A90&gt;,\n",
       "                   n_iter=50, n_jobs=-1,\n",
       "                   param_distributions={&#x27;bagging_temperature&#x27;: [0, 1, 2, 3],\n",
       "                                        &#x27;border_count&#x27;: [32, 64, 128],\n",
       "                                        &#x27;depth&#x27;: [4, 6, 8, 10],\n",
       "                                        &#x27;iterations&#x27;: [100, 300, 500, 700,\n",
       "                                                       1000],\n",
       "                                        &#x27;l2_leaf_reg&#x27;: [1, 3, 5, 7, 9],\n",
       "                                        &#x27;learning_rate&#x27;: [0.01, 0.05, 0.1, 0.2],\n",
       "                                        &#x27;random_strength&#x27;: [1, 5, 10]},\n",
       "                   random_state=42, scoring=&#x27;accuracy&#x27;, verbose=2)</pre><b>In a Jupyter environment, please rerun this cell to show the HTML representation or trust the notebook. <br />On GitHub, the HTML representation is unable to render, please try loading this page with nbviewer.org.</b></div><div class=\"sk-container\" hidden><div class=\"sk-item sk-dashed-wrapped\"><div class=\"sk-label-container\"><div class=\"sk-label sk-toggleable\"><input class=\"sk-toggleable__control sk-hidden--visually\" id=\"sk-estimator-id-1\" type=\"checkbox\" ><label for=\"sk-estimator-id-1\" class=\"sk-toggleable__label sk-toggleable__label-arrow\">RandomizedSearchCV</label><div class=\"sk-toggleable__content\"><pre>RandomizedSearchCV(cv=StratifiedKFold(n_splits=5, random_state=42, shuffle=True),\n",
       "                   estimator=&lt;catboost.core.CatBoostClassifier object at 0x000001EB17C49A90&gt;,\n",
       "                   n_iter=50, n_jobs=-1,\n",
       "                   param_distributions={&#x27;bagging_temperature&#x27;: [0, 1, 2, 3],\n",
       "                                        &#x27;border_count&#x27;: [32, 64, 128],\n",
       "                                        &#x27;depth&#x27;: [4, 6, 8, 10],\n",
       "                                        &#x27;iterations&#x27;: [100, 300, 500, 700,\n",
       "                                                       1000],\n",
       "                                        &#x27;l2_leaf_reg&#x27;: [1, 3, 5, 7, 9],\n",
       "                                        &#x27;learning_rate&#x27;: [0.01, 0.05, 0.1, 0.2],\n",
       "                                        &#x27;random_strength&#x27;: [1, 5, 10]},\n",
       "                   random_state=42, scoring=&#x27;accuracy&#x27;, verbose=2)</pre></div></div></div><div class=\"sk-parallel\"><div class=\"sk-parallel-item\"><div class=\"sk-item\"><div class=\"sk-label-container\"><div class=\"sk-label sk-toggleable\"><input class=\"sk-toggleable__control sk-hidden--visually\" id=\"sk-estimator-id-2\" type=\"checkbox\" ><label for=\"sk-estimator-id-2\" class=\"sk-toggleable__label sk-toggleable__label-arrow\">estimator: CatBoostClassifier</label><div class=\"sk-toggleable__content\"><pre>&lt;catboost.core.CatBoostClassifier object at 0x000001EB17C49A90&gt;</pre></div></div></div><div class=\"sk-serial\"><div class=\"sk-item\"><div class=\"sk-estimator sk-toggleable\"><input class=\"sk-toggleable__control sk-hidden--visually\" id=\"sk-estimator-id-3\" type=\"checkbox\" ><label for=\"sk-estimator-id-3\" class=\"sk-toggleable__label sk-toggleable__label-arrow\">CatBoostClassifier</label><div class=\"sk-toggleable__content\"><pre>&lt;catboost.core.CatBoostClassifier object at 0x000001EB17C49A90&gt;</pre></div></div></div></div></div></div></div></div></div></div>"
      ],
      "text/plain": [
       "RandomizedSearchCV(cv=StratifiedKFold(n_splits=5, random_state=42, shuffle=True),\n",
       "                   estimator=<catboost.core.CatBoostClassifier object at 0x000001EB17C49A90>,\n",
       "                   n_iter=50, n_jobs=-1,\n",
       "                   param_distributions={'bagging_temperature': [0, 1, 2, 3],\n",
       "                                        'border_count': [32, 64, 128],\n",
       "                                        'depth': [4, 6, 8, 10],\n",
       "                                        'iterations': [100, 300, 500, 700,\n",
       "                                                       1000],\n",
       "                                        'l2_leaf_reg': [1, 3, 5, 7, 9],\n",
       "                                        'learning_rate': [0.01, 0.05, 0.1, 0.2],\n",
       "                                        'random_strength': [1, 5, 10]},\n",
       "                   random_state=42, scoring='accuracy', verbose=2)"
      ]
     },
     "execution_count": 49,
     "metadata": {},
     "output_type": "execute_result"
    }
   ],
   "source": [
    "# Fit RandomizedSearchCV\n",
    "random_search.fit(X, y)"
   ]
  },
  {
   "cell_type": "code",
   "execution_count": 50,
   "metadata": {},
   "outputs": [
    {
     "name": "stdout",
     "output_type": "stream",
     "text": [
      "Best Parameters: {'random_strength': 5, 'learning_rate': 0.1, 'l2_leaf_reg': 1, 'iterations': 300, 'depth': 4, 'border_count': 64, 'bagging_temperature': 0}\n",
      "Best Accuracy: 0.9382729211087419\n"
     ]
    }
   ],
   "source": [
    "# Best parameters and score\n",
    "print(f\"Best Parameters: {random_search.best_params_}\")\n",
    "print(f\"Best Accuracy: {random_search.best_score_}\")"
   ]
  },
  {
   "cell_type": "code",
   "execution_count": 51,
   "metadata": {},
   "outputs": [],
   "source": [
    "params = {\n",
    "    \"random_strength\": 5,\n",
    "    \"learning_rate\": 0.1,\n",
    "    \"l2_leaf_reg\": 1,\n",
    "    \"iterations\": 300,\n",
    "    \"depth\": 4,\n",
    "    \"border_count\": 64,\n",
    "    \"bagging_temperature\": 0,\n",
    "}"
   ]
  },
  {
   "cell_type": "code",
   "execution_count": 52,
   "metadata": {},
   "outputs": [
    {
     "name": "stdout",
     "output_type": "stream",
     "text": [
      "Fold Accuracy: 0.9380952380952381\n",
      "Fold Accuracy: 0.9374200426439232\n",
      "Fold Accuracy: 0.938272921108742\n",
      "Fold Accuracy: 0.9401918976545842\n",
      "Fold Accuracy: 0.9383795309168443\n"
     ]
    }
   ],
   "source": [
    "skf = StratifiedKFold(n_splits=5, shuffle=True, random_state=42)\n",
    "models = []\n",
    "accuracy_scores = []\n",
    "for train_index, val_index in skf.split(X, y):\n",
    "    # Split the data into train and validation sets\n",
    "    X_strat_train, X_val = X.iloc[train_index], X.iloc[val_index]\n",
    "    y_strat_train, y_val = y.iloc[train_index], y.iloc[val_index]\n",
    "\n",
    "    # Initialize CatBoost Classifier\n",
    "    cat_model = CatBoostClassifier(\n",
    "    loss_function=\"Logloss\",\n",
    "    eval_metric=\"Accuracy\",\n",
    "    verbose=0,  # Suppress training output\n",
    "    random_seed=42,\n",
    "    **params\n",
    ")\n",
    "\n",
    "    # Fit the model\n",
    "    cat_model.fit(X_strat_train, y_strat_train, eval_set=(X_val, y_val), use_best_model=True)\n",
    "\n",
    "    models.append(cat_model)\n",
    "\n",
    "    # Make predictions\n",
    "    y_pred = cat_model.predict(X_val)\n",
    "\n",
    "    # Calculate accuracy\n",
    "    acc = accuracy_score(y_val, y_pred)\n",
    "    accuracy_scores.append(acc)\n",
    "    print(f\"Fold Accuracy: {acc}\")"
   ]
  },
  {
   "cell_type": "code",
   "execution_count": 53,
   "metadata": {},
   "outputs": [
    {
     "name": "stdout",
     "output_type": "stream",
     "text": [
      "\n",
      "Mean Accuracy Across 5 Folds: 0.9384719260838663\n"
     ]
    }
   ],
   "source": [
    "mean_accuracy = np.mean(accuracy_scores)\n",
    "print(f\"\\nMean Accuracy Across {5} Folds: {mean_accuracy}\")"
   ]
  },
  {
   "cell_type": "code",
   "execution_count": null,
   "metadata": {},
   "outputs": [],
   "source": []
  },
  {
   "cell_type": "code",
   "execution_count": null,
   "metadata": {},
   "outputs": [],
   "source": []
  }
 ],
 "metadata": {
  "kernelspec": {
   "display_name": "Python 3",
   "language": "python",
   "name": "python3"
  },
  "language_info": {
   "codemirror_mode": {
    "name": "ipython",
    "version": 3
   },
   "file_extension": ".py",
   "mimetype": "text/x-python",
   "name": "python",
   "nbconvert_exporter": "python",
   "pygments_lexer": "ipython3",
   "version": "3.11.0"
  }
 },
 "nbformat": 4,
 "nbformat_minor": 2
}
