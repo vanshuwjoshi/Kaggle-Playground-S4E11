{
 "cells": [
  {
   "cell_type": "code",
   "execution_count": 1,
   "metadata": {},
   "outputs": [],
   "source": [
    "import pandas as pd\n",
    "import numpy as np\n",
    "import matplotlib.pyplot as plt\n",
    "import seaborn as sns\n",
    "%matplotlib inline\n",
    "import warnings\n",
    "warnings.filterwarnings('ignore')"
   ]
  },
  {
   "cell_type": "code",
   "execution_count": 2,
   "metadata": {},
   "outputs": [],
   "source": [
    "from sklearn.linear_model import LogisticRegression\n",
    "from sklearn.tree import DecisionTreeClassifier\n",
    "from sklearn.ensemble import RandomForestClassifier\n",
    "from xgboost import XGBClassifier\n",
    "from sklearn.neighbors import KNeighborsClassifier\n",
    "from sklearn.svm import SVC\n",
    "from sklearn.naive_bayes import GaussianNB\n",
    "from sklearn.dummy import DummyClassifier\n",
    "from sklearn.metrics import accuracy_score"
   ]
  },
  {
   "cell_type": "code",
   "execution_count": 3,
   "metadata": {},
   "outputs": [
    {
     "data": {
      "text/html": [
       "<div>\n",
       "<style scoped>\n",
       "    .dataframe tbody tr th:only-of-type {\n",
       "        vertical-align: middle;\n",
       "    }\n",
       "\n",
       "    .dataframe tbody tr th {\n",
       "        vertical-align: top;\n",
       "    }\n",
       "\n",
       "    .dataframe thead th {\n",
       "        text-align: right;\n",
       "    }\n",
       "</style>\n",
       "<table border=\"1\" class=\"dataframe\">\n",
       "  <thead>\n",
       "    <tr style=\"text-align: right;\">\n",
       "      <th></th>\n",
       "      <th>Work Pressure</th>\n",
       "      <th>CGPA</th>\n",
       "      <th>Job Satisfaction</th>\n",
       "      <th>Sleep Duration</th>\n",
       "      <th>Dietary Habits</th>\n",
       "      <th>Degree</th>\n",
       "      <th>Work/Study Hours</th>\n",
       "      <th>Financial Stress</th>\n",
       "      <th>Depression</th>\n",
       "      <th>Gender_Female</th>\n",
       "      <th>Gender_Male</th>\n",
       "      <th>Age_Group</th>\n",
       "      <th>City_encoded</th>\n",
       "      <th>Student</th>\n",
       "      <th>Profession_encoded</th>\n",
       "      <th>suicidal_thoughts</th>\n",
       "      <th>family_history</th>\n",
       "    </tr>\n",
       "  </thead>\n",
       "  <tbody>\n",
       "    <tr>\n",
       "      <th>0</th>\n",
       "      <td>5.0</td>\n",
       "      <td>-1.0</td>\n",
       "      <td>2.0</td>\n",
       "      <td>8.0</td>\n",
       "      <td>0.0</td>\n",
       "      <td>2.0</td>\n",
       "      <td>1.0</td>\n",
       "      <td>2.0</td>\n",
       "      <td>0</td>\n",
       "      <td>1.0</td>\n",
       "      <td>0.0</td>\n",
       "      <td>3</td>\n",
       "      <td>0.192690</td>\n",
       "      <td>0</td>\n",
       "      <td>0.048567</td>\n",
       "      <td>0</td>\n",
       "      <td>0</td>\n",
       "    </tr>\n",
       "    <tr>\n",
       "      <th>1</th>\n",
       "      <td>4.0</td>\n",
       "      <td>-1.0</td>\n",
       "      <td>3.0</td>\n",
       "      <td>5.0</td>\n",
       "      <td>2.0</td>\n",
       "      <td>2.0</td>\n",
       "      <td>7.0</td>\n",
       "      <td>3.0</td>\n",
       "      <td>1</td>\n",
       "      <td>0.0</td>\n",
       "      <td>1.0</td>\n",
       "      <td>0</td>\n",
       "      <td>0.142206</td>\n",
       "      <td>0</td>\n",
       "      <td>0.055649</td>\n",
       "      <td>1</td>\n",
       "      <td>0</td>\n",
       "    </tr>\n",
       "    <tr>\n",
       "      <th>2</th>\n",
       "      <td>5.0</td>\n",
       "      <td>9.0</td>\n",
       "      <td>2.0</td>\n",
       "      <td>6.0</td>\n",
       "      <td>0.0</td>\n",
       "      <td>2.0</td>\n",
       "      <td>3.0</td>\n",
       "      <td>1.0</td>\n",
       "      <td>1</td>\n",
       "      <td>0.0</td>\n",
       "      <td>1.0</td>\n",
       "      <td>1</td>\n",
       "      <td>0.159196</td>\n",
       "      <td>1</td>\n",
       "      <td>0.585061</td>\n",
       "      <td>1</td>\n",
       "      <td>0</td>\n",
       "    </tr>\n",
       "    <tr>\n",
       "      <th>3</th>\n",
       "      <td>5.0</td>\n",
       "      <td>-1.0</td>\n",
       "      <td>1.0</td>\n",
       "      <td>5.0</td>\n",
       "      <td>1.0</td>\n",
       "      <td>2.0</td>\n",
       "      <td>10.0</td>\n",
       "      <td>1.0</td>\n",
       "      <td>1</td>\n",
       "      <td>0.0</td>\n",
       "      <td>1.0</td>\n",
       "      <td>0</td>\n",
       "      <td>0.131293</td>\n",
       "      <td>0</td>\n",
       "      <td>0.055649</td>\n",
       "      <td>1</td>\n",
       "      <td>1</td>\n",
       "    </tr>\n",
       "    <tr>\n",
       "      <th>4</th>\n",
       "      <td>1.0</td>\n",
       "      <td>-1.0</td>\n",
       "      <td>1.0</td>\n",
       "      <td>6.0</td>\n",
       "      <td>2.0</td>\n",
       "      <td>2.0</td>\n",
       "      <td>9.0</td>\n",
       "      <td>4.0</td>\n",
       "      <td>0</td>\n",
       "      <td>1.0</td>\n",
       "      <td>0.0</td>\n",
       "      <td>1</td>\n",
       "      <td>0.125739</td>\n",
       "      <td>0</td>\n",
       "      <td>0.056610</td>\n",
       "      <td>1</td>\n",
       "      <td>1</td>\n",
       "    </tr>\n",
       "  </tbody>\n",
       "</table>\n",
       "</div>"
      ],
      "text/plain": [
       "   Work Pressure  CGPA  Job Satisfaction  Sleep Duration  Dietary Habits  \\\n",
       "0            5.0  -1.0               2.0             8.0             0.0   \n",
       "1            4.0  -1.0               3.0             5.0             2.0   \n",
       "2            5.0   9.0               2.0             6.0             0.0   \n",
       "3            5.0  -1.0               1.0             5.0             1.0   \n",
       "4            1.0  -1.0               1.0             6.0             2.0   \n",
       "\n",
       "   Degree  Work/Study Hours  Financial Stress  Depression  Gender_Female  \\\n",
       "0     2.0               1.0               2.0           0            1.0   \n",
       "1     2.0               7.0               3.0           1            0.0   \n",
       "2     2.0               3.0               1.0           1            0.0   \n",
       "3     2.0              10.0               1.0           1            0.0   \n",
       "4     2.0               9.0               4.0           0            1.0   \n",
       "\n",
       "   Gender_Male  Age_Group  City_encoded  Student  Profession_encoded  \\\n",
       "0          0.0          3      0.192690        0            0.048567   \n",
       "1          1.0          0      0.142206        0            0.055649   \n",
       "2          1.0          1      0.159196        1            0.585061   \n",
       "3          1.0          0      0.131293        0            0.055649   \n",
       "4          0.0          1      0.125739        0            0.056610   \n",
       "\n",
       "   suicidal_thoughts  family_history  \n",
       "0                  0               0  \n",
       "1                  1               0  \n",
       "2                  1               0  \n",
       "3                  1               1  \n",
       "4                  1               1  "
      ]
     },
     "execution_count": 3,
     "metadata": {},
     "output_type": "execute_result"
    }
   ],
   "source": [
    "data = pd.read_csv(\"../data/cleaned_v1.csv\")\n",
    "data.head()"
   ]
  },
  {
   "cell_type": "code",
   "execution_count": 4,
   "metadata": {},
   "outputs": [],
   "source": [
    "## removing Gender_Male\n",
    "data.drop([\"Gender_Male\"], axis=1, inplace=True)"
   ]
  },
  {
   "cell_type": "code",
   "execution_count": 5,
   "metadata": {},
   "outputs": [],
   "source": [
    "y = data[\"Depression\"]\n",
    "X = data.drop([\"Depression\"], axis=1)"
   ]
  },
  {
   "cell_type": "code",
   "execution_count": 6,
   "metadata": {},
   "outputs": [],
   "source": [
    "from sklearn.model_selection import train_test_split\n",
    "\n",
    "X_train, X_test, y_train, y_test = train_test_split(\n",
    "    X, y, test_size=0.2, random_state=42\n",
    ")"
   ]
  },
  {
   "cell_type": "code",
   "execution_count": 7,
   "metadata": {},
   "outputs": [
    {
     "data": {
      "text/html": [
       "<div>\n",
       "<style scoped>\n",
       "    .dataframe tbody tr th:only-of-type {\n",
       "        vertical-align: middle;\n",
       "    }\n",
       "\n",
       "    .dataframe tbody tr th {\n",
       "        vertical-align: top;\n",
       "    }\n",
       "\n",
       "    .dataframe thead th {\n",
       "        text-align: right;\n",
       "    }\n",
       "</style>\n",
       "<table border=\"1\" class=\"dataframe\">\n",
       "  <thead>\n",
       "    <tr style=\"text-align: right;\">\n",
       "      <th></th>\n",
       "      <th>Work Pressure</th>\n",
       "      <th>CGPA</th>\n",
       "      <th>Job Satisfaction</th>\n",
       "      <th>Sleep Duration</th>\n",
       "      <th>Dietary Habits</th>\n",
       "      <th>Degree</th>\n",
       "      <th>Work/Study Hours</th>\n",
       "      <th>Financial Stress</th>\n",
       "      <th>Gender_Female</th>\n",
       "      <th>Age_Group</th>\n",
       "      <th>City_encoded</th>\n",
       "      <th>Student</th>\n",
       "      <th>Profession_encoded</th>\n",
       "      <th>suicidal_thoughts</th>\n",
       "      <th>family_history</th>\n",
       "    </tr>\n",
       "  </thead>\n",
       "  <tbody>\n",
       "    <tr>\n",
       "      <th>33707</th>\n",
       "      <td>1.0</td>\n",
       "      <td>-1.0</td>\n",
       "      <td>5.0</td>\n",
       "      <td>8.0</td>\n",
       "      <td>2.0</td>\n",
       "      <td>2.0</td>\n",
       "      <td>4.0</td>\n",
       "      <td>2.0</td>\n",
       "      <td>0.0</td>\n",
       "      <td>4</td>\n",
       "      <td>0.175600</td>\n",
       "      <td>0</td>\n",
       "      <td>0.055649</td>\n",
       "      <td>0</td>\n",
       "      <td>1</td>\n",
       "    </tr>\n",
       "    <tr>\n",
       "      <th>133592</th>\n",
       "      <td>5.0</td>\n",
       "      <td>-1.0</td>\n",
       "      <td>4.0</td>\n",
       "      <td>5.0</td>\n",
       "      <td>0.0</td>\n",
       "      <td>3.0</td>\n",
       "      <td>11.0</td>\n",
       "      <td>4.0</td>\n",
       "      <td>0.0</td>\n",
       "      <td>4</td>\n",
       "      <td>0.242248</td>\n",
       "      <td>0</td>\n",
       "      <td>0.055649</td>\n",
       "      <td>0</td>\n",
       "      <td>1</td>\n",
       "    </tr>\n",
       "    <tr>\n",
       "      <th>113169</th>\n",
       "      <td>4.0</td>\n",
       "      <td>-1.0</td>\n",
       "      <td>3.0</td>\n",
       "      <td>8.0</td>\n",
       "      <td>1.0</td>\n",
       "      <td>3.0</td>\n",
       "      <td>3.0</td>\n",
       "      <td>1.0</td>\n",
       "      <td>0.0</td>\n",
       "      <td>3</td>\n",
       "      <td>0.214019</td>\n",
       "      <td>0</td>\n",
       "      <td>0.055649</td>\n",
       "      <td>0</td>\n",
       "      <td>1</td>\n",
       "    </tr>\n",
       "    <tr>\n",
       "      <th>42896</th>\n",
       "      <td>1.0</td>\n",
       "      <td>-1.0</td>\n",
       "      <td>1.0</td>\n",
       "      <td>8.0</td>\n",
       "      <td>2.0</td>\n",
       "      <td>2.0</td>\n",
       "      <td>8.0</td>\n",
       "      <td>5.0</td>\n",
       "      <td>0.0</td>\n",
       "      <td>0</td>\n",
       "      <td>0.144928</td>\n",
       "      <td>0</td>\n",
       "      <td>0.055649</td>\n",
       "      <td>1</td>\n",
       "      <td>0</td>\n",
       "    </tr>\n",
       "    <tr>\n",
       "      <th>82457</th>\n",
       "      <td>4.0</td>\n",
       "      <td>-1.0</td>\n",
       "      <td>5.0</td>\n",
       "      <td>6.0</td>\n",
       "      <td>1.0</td>\n",
       "      <td>1.0</td>\n",
       "      <td>0.0</td>\n",
       "      <td>2.0</td>\n",
       "      <td>0.0</td>\n",
       "      <td>2</td>\n",
       "      <td>0.134045</td>\n",
       "      <td>0</td>\n",
       "      <td>0.375086</td>\n",
       "      <td>0</td>\n",
       "      <td>0</td>\n",
       "    </tr>\n",
       "  </tbody>\n",
       "</table>\n",
       "</div>"
      ],
      "text/plain": [
       "        Work Pressure  CGPA  Job Satisfaction  Sleep Duration  Dietary Habits  \\\n",
       "33707             1.0  -1.0               5.0             8.0             2.0   \n",
       "133592            5.0  -1.0               4.0             5.0             0.0   \n",
       "113169            4.0  -1.0               3.0             8.0             1.0   \n",
       "42896             1.0  -1.0               1.0             8.0             2.0   \n",
       "82457             4.0  -1.0               5.0             6.0             1.0   \n",
       "\n",
       "        Degree  Work/Study Hours  Financial Stress  Gender_Female  Age_Group  \\\n",
       "33707      2.0               4.0               2.0            0.0          4   \n",
       "133592     3.0              11.0               4.0            0.0          4   \n",
       "113169     3.0               3.0               1.0            0.0          3   \n",
       "42896      2.0               8.0               5.0            0.0          0   \n",
       "82457      1.0               0.0               2.0            0.0          2   \n",
       "\n",
       "        City_encoded  Student  Profession_encoded  suicidal_thoughts  \\\n",
       "33707       0.175600        0            0.055649                  0   \n",
       "133592      0.242248        0            0.055649                  0   \n",
       "113169      0.214019        0            0.055649                  0   \n",
       "42896       0.144928        0            0.055649                  1   \n",
       "82457       0.134045        0            0.375086                  0   \n",
       "\n",
       "        family_history  \n",
       "33707                1  \n",
       "133592               1  \n",
       "113169               1  \n",
       "42896                0  \n",
       "82457                0  "
      ]
     },
     "execution_count": 7,
     "metadata": {},
     "output_type": "execute_result"
    }
   ],
   "source": [
    "X_train.head()"
   ]
  },
  {
   "cell_type": "code",
   "execution_count": 17,
   "metadata": {},
   "outputs": [],
   "source": [
    "def run_models(X_train, X_test, y_train, y_test):\n",
    "    models = {\n",
    "        \"Logistic Regression\": LogisticRegression(max_iter=1000),\n",
    "        \"Decision Tree\": DecisionTreeClassifier(max_depth=5, random_state=42),\n",
    "        \"Random Forest\": RandomForestClassifier(n_estimators=100, random_state=42),\n",
    "        \"XGBoost\": XGBClassifier(\n",
    "            use_label_encoder=False, eval_metric=\"logloss\", random_state=42\n",
    "        ),\n",
    "        \"K-Nearest Neighbors\": KNeighborsClassifier(n_neighbors=5),\n",
    "        \"Naive Bayes\": GaussianNB(),\n",
    "        \"Dummy Classifier\": DummyClassifier(strategy=\"most_frequent\"),\n",
    "    }\n",
    "\n",
    "    results = {}\n",
    "\n",
    "    for name, model in models.items():\n",
    "        try:\n",
    "            print(str(\"Currently training: \" + name))\n",
    "            model.fit(X_train, y_train)\n",
    "            y_pred = model.predict(X_test)\n",
    "            accuracy = accuracy_score(y_test, y_pred)\n",
    "            results[name] = accuracy\n",
    "            print(str(\"Model \" + name + f\" has a accuracy of {accuracy}\"))\n",
    "        except Exception as e:\n",
    "            results[name] = f\"Error: {e}\"\n",
    "\n",
    "    return results"
   ]
  },
  {
   "cell_type": "code",
   "execution_count": 18,
   "metadata": {},
   "outputs": [
    {
     "name": "stdout",
     "output_type": "stream",
     "text": [
      "Currently training: Logistic Regression\n",
      "Model Logistic Regression has a accuracy of 0.9355366027007818\n",
      "Currently training: Decision Tree\n",
      "Model Decision Tree has a accuracy of 0.9249466950959488\n",
      "Currently training: Random Forest\n",
      "Model Random Forest has a accuracy of 0.9340796019900498\n",
      "Currently training: XGBoost\n",
      "Model XGBoost has a accuracy of 0.9357498223169864\n",
      "Currently training: K-Nearest Neighbors\n",
      "Model K-Nearest Neighbors has a accuracy of 0.9264392324093816\n",
      "Currently training: Naive Bayes\n",
      "Model Naive Bayes has a accuracy of 0.8708955223880597\n",
      "Currently training: Dummy Classifier\n",
      "Model Dummy Classifier has a accuracy of 0.8168443496801706\n",
      "{'Logistic Regression': 0.9355366027007818, 'Decision Tree': 0.9249466950959488, 'Random Forest': 0.9340796019900498, 'XGBoost': 0.9357498223169864, 'K-Nearest Neighbors': 0.9264392324093816, 'Naive Bayes': 0.8708955223880597, 'Dummy Classifier': 0.8168443496801706}\n"
     ]
    }
   ],
   "source": [
    "results = run_models(X_train, X_test, y_train, y_test)\n",
    "print(results)"
   ]
  },
  {
   "cell_type": "markdown",
   "metadata": {},
   "source": [
    "Hyperparameter tuning for:\n",
    "- Logistic\n",
    "- Random Forest\n",
    "- XGBoost"
   ]
  },
  {
   "cell_type": "code",
   "execution_count": 19,
   "metadata": {},
   "outputs": [
    {
     "name": "stdout",
     "output_type": "stream",
     "text": [
      "0.9355366027007818\n"
     ]
    }
   ],
   "source": [
    "log_reg = LogisticRegression(max_iter=1000)\n",
    "log_reg.fit(X_train, y_train)\n",
    "y_pred = log_reg.predict(X_test)\n",
    "accuracy = accuracy_score(y_test, y_pred)\n",
    "print(accuracy)"
   ]
  },
  {
   "cell_type": "code",
   "execution_count": 20,
   "metadata": {},
   "outputs": [
    {
     "name": "stdout",
     "output_type": "stream",
     "text": [
      "0.9357498223169864\n"
     ]
    }
   ],
   "source": [
    "xgboost = XGBClassifier(se_label_encoder=False, eval_metric=\"logloss\", random_state=42)\n",
    "xgboost.fit(X_train, y_train)\n",
    "y_pred = xgboost.predict(X_test)\n",
    "accuracy = accuracy_score(y_test, y_pred)\n",
    "print(accuracy)"
   ]
  },
  {
   "cell_type": "code",
   "execution_count": 21,
   "metadata": {},
   "outputs": [
    {
     "name": "stdout",
     "output_type": "stream",
     "text": [
      "0.9340796019900498\n"
     ]
    }
   ],
   "source": [
    "random_for = RandomForestClassifier(n_estimators=100, random_state=42)\n",
    "random_for.fit(X_train, y_train)\n",
    "y_pred = random_for.predict(X_test)\n",
    "accuracy = accuracy_score(y_test, y_pred)\n",
    "print(accuracy)"
   ]
  },
  {
   "cell_type": "code",
   "execution_count": 22,
   "metadata": {},
   "outputs": [],
   "source": [
    "from sklearn.metrics import classification_report, roc_auc_score, confusion_matrix\n",
    "\n",
    "def evaluate_model(model, X_test, y_test):\n",
    "    y_pred = model.predict(X_test)\n",
    "    y_prob = model.predict_proba(X_test)[:, 1] if hasattr(model, \"predict_proba\") else None\n",
    "    \n",
    "    print(\"Classification Report:\")\n",
    "    print(classification_report(y_test, y_pred))\n",
    "    if y_prob is not None:\n",
    "        print(f\"ROC-AUC Score: {roc_auc_score(y_test, y_prob)}\")\n",
    "    print(\"Confusion Matrix:\")\n",
    "    print(confusion_matrix(y_test, y_pred))\n"
   ]
  },
  {
   "cell_type": "code",
   "execution_count": 24,
   "metadata": {},
   "outputs": [
    {
     "name": "stdout",
     "output_type": "stream",
     "text": [
      "Evaluation report for Logistic Regression:\n",
      "\n",
      "Classification Report:\n",
      "              precision    recall  f1-score   support\n",
      "\n",
      "           0       0.96      0.97      0.96     22986\n",
      "           1       0.84      0.80      0.82      5154\n",
      "\n",
      "    accuracy                           0.94     28140\n",
      "   macro avg       0.90      0.88      0.89     28140\n",
      "weighted avg       0.93      0.94      0.93     28140\n",
      "\n",
      "ROC-AUC Score: 0.9738835732745625\n",
      "Confusion Matrix:\n",
      "[[22200   786]\n",
      " [ 1028  4126]]\n"
     ]
    }
   ],
   "source": [
    "print(\"Evaluation report for Logistic Regression:\\n\")\n",
    "evaluate_model(log_reg, X_test, y_test)"
   ]
  },
  {
   "cell_type": "code",
   "execution_count": 25,
   "metadata": {},
   "outputs": [
    {
     "name": "stdout",
     "output_type": "stream",
     "text": [
      "Evaluation report for XGBoost:\n",
      "\n",
      "Classification Report:\n",
      "              precision    recall  f1-score   support\n",
      "\n",
      "           0       0.96      0.96      0.96     22986\n",
      "           1       0.83      0.81      0.82      5154\n",
      "\n",
      "    accuracy                           0.94     28140\n",
      "   macro avg       0.89      0.89      0.89     28140\n",
      "weighted avg       0.94      0.94      0.94     28140\n",
      "\n",
      "ROC-AUC Score: 0.9738361983493453\n",
      "Confusion Matrix:\n",
      "[[22135   851]\n",
      " [  957  4197]]\n"
     ]
    }
   ],
   "source": [
    "print(\"Evaluation report for XGBoost:\\n\")\n",
    "evaluate_model(xgboost, X_test, y_test)"
   ]
  },
  {
   "cell_type": "code",
   "execution_count": 26,
   "metadata": {},
   "outputs": [
    {
     "name": "stdout",
     "output_type": "stream",
     "text": [
      "Evaluation report for Random Forest:\n",
      "\n",
      "Classification Report:\n",
      "              precision    recall  f1-score   support\n",
      "\n",
      "           0       0.95      0.97      0.96     22986\n",
      "           1       0.84      0.79      0.82      5154\n",
      "\n",
      "    accuracy                           0.93     28140\n",
      "   macro avg       0.90      0.88      0.89     28140\n",
      "weighted avg       0.93      0.93      0.93     28140\n",
      "\n",
      "ROC-AUC Score: 0.9714651139407257\n",
      "Confusion Matrix:\n",
      "[[22198   788]\n",
      " [ 1067  4087]]\n"
     ]
    }
   ],
   "source": [
    "print(\"Evaluation report for Random Forest:\\n\")\n",
    "evaluate_model(random_for, X_test, y_test)"
   ]
  }
 ],
 "metadata": {
  "kernelspec": {
   "display_name": "Python 3",
   "language": "python",
   "name": "python3"
  },
  "language_info": {
   "codemirror_mode": {
    "name": "ipython",
    "version": 3
   },
   "file_extension": ".py",
   "mimetype": "text/x-python",
   "name": "python",
   "nbconvert_exporter": "python",
   "pygments_lexer": "ipython3",
   "version": "3.11.0"
  }
 },
 "nbformat": 4,
 "nbformat_minor": 2
}
