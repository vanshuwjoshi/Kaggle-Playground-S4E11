{
 "cells": [
  {
   "cell_type": "code",
   "execution_count": 1,
   "metadata": {},
   "outputs": [],
   "source": [
    "import pandas as pd\n",
    "import numpy as np"
   ]
  },
  {
   "cell_type": "code",
   "execution_count": 2,
   "metadata": {},
   "outputs": [],
   "source": [
    "import matplotlib.pyplot as plt\n",
    "import seaborn as sns\n",
    "%matplotlib inline\n",
    "import warnings\n",
    "warnings.filterwarnings('ignore')"
   ]
  },
  {
   "cell_type": "code",
   "execution_count": 3,
   "metadata": {},
   "outputs": [
    {
     "data": {
      "text/html": [
       "<div>\n",
       "<style scoped>\n",
       "    .dataframe tbody tr th:only-of-type {\n",
       "        vertical-align: middle;\n",
       "    }\n",
       "\n",
       "    .dataframe tbody tr th {\n",
       "        vertical-align: top;\n",
       "    }\n",
       "\n",
       "    .dataframe thead th {\n",
       "        text-align: right;\n",
       "    }\n",
       "</style>\n",
       "<table border=\"1\" class=\"dataframe\">\n",
       "  <thead>\n",
       "    <tr style=\"text-align: right;\">\n",
       "      <th></th>\n",
       "      <th>id</th>\n",
       "      <th>Name</th>\n",
       "      <th>Gender</th>\n",
       "      <th>Age</th>\n",
       "      <th>City</th>\n",
       "      <th>Working Professional or Student</th>\n",
       "      <th>Profession</th>\n",
       "      <th>Academic Pressure</th>\n",
       "      <th>Work Pressure</th>\n",
       "      <th>CGPA</th>\n",
       "      <th>Study Satisfaction</th>\n",
       "      <th>Job Satisfaction</th>\n",
       "      <th>Sleep Duration</th>\n",
       "      <th>Dietary Habits</th>\n",
       "      <th>Degree</th>\n",
       "      <th>Have you ever had suicidal thoughts ?</th>\n",
       "      <th>Work/Study Hours</th>\n",
       "      <th>Financial Stress</th>\n",
       "      <th>Family History of Mental Illness</th>\n",
       "      <th>Depression</th>\n",
       "    </tr>\n",
       "  </thead>\n",
       "  <tbody>\n",
       "    <tr>\n",
       "      <th>0</th>\n",
       "      <td>0</td>\n",
       "      <td>Aaradhya</td>\n",
       "      <td>Female</td>\n",
       "      <td>49.0</td>\n",
       "      <td>Ludhiana</td>\n",
       "      <td>Working Professional</td>\n",
       "      <td>Chef</td>\n",
       "      <td>NaN</td>\n",
       "      <td>5.0</td>\n",
       "      <td>NaN</td>\n",
       "      <td>NaN</td>\n",
       "      <td>2.0</td>\n",
       "      <td>More than 8 hours</td>\n",
       "      <td>Healthy</td>\n",
       "      <td>BHM</td>\n",
       "      <td>No</td>\n",
       "      <td>1.0</td>\n",
       "      <td>2.0</td>\n",
       "      <td>No</td>\n",
       "      <td>0</td>\n",
       "    </tr>\n",
       "    <tr>\n",
       "      <th>1</th>\n",
       "      <td>1</td>\n",
       "      <td>Vivan</td>\n",
       "      <td>Male</td>\n",
       "      <td>26.0</td>\n",
       "      <td>Varanasi</td>\n",
       "      <td>Working Professional</td>\n",
       "      <td>Teacher</td>\n",
       "      <td>NaN</td>\n",
       "      <td>4.0</td>\n",
       "      <td>NaN</td>\n",
       "      <td>NaN</td>\n",
       "      <td>3.0</td>\n",
       "      <td>Less than 5 hours</td>\n",
       "      <td>Unhealthy</td>\n",
       "      <td>LLB</td>\n",
       "      <td>Yes</td>\n",
       "      <td>7.0</td>\n",
       "      <td>3.0</td>\n",
       "      <td>No</td>\n",
       "      <td>1</td>\n",
       "    </tr>\n",
       "    <tr>\n",
       "      <th>2</th>\n",
       "      <td>2</td>\n",
       "      <td>Yuvraj</td>\n",
       "      <td>Male</td>\n",
       "      <td>33.0</td>\n",
       "      <td>Visakhapatnam</td>\n",
       "      <td>Student</td>\n",
       "      <td>NaN</td>\n",
       "      <td>5.0</td>\n",
       "      <td>NaN</td>\n",
       "      <td>8.97</td>\n",
       "      <td>2.0</td>\n",
       "      <td>NaN</td>\n",
       "      <td>5-6 hours</td>\n",
       "      <td>Healthy</td>\n",
       "      <td>B.Pharm</td>\n",
       "      <td>Yes</td>\n",
       "      <td>3.0</td>\n",
       "      <td>1.0</td>\n",
       "      <td>No</td>\n",
       "      <td>1</td>\n",
       "    </tr>\n",
       "    <tr>\n",
       "      <th>3</th>\n",
       "      <td>3</td>\n",
       "      <td>Yuvraj</td>\n",
       "      <td>Male</td>\n",
       "      <td>22.0</td>\n",
       "      <td>Mumbai</td>\n",
       "      <td>Working Professional</td>\n",
       "      <td>Teacher</td>\n",
       "      <td>NaN</td>\n",
       "      <td>5.0</td>\n",
       "      <td>NaN</td>\n",
       "      <td>NaN</td>\n",
       "      <td>1.0</td>\n",
       "      <td>Less than 5 hours</td>\n",
       "      <td>Moderate</td>\n",
       "      <td>BBA</td>\n",
       "      <td>Yes</td>\n",
       "      <td>10.0</td>\n",
       "      <td>1.0</td>\n",
       "      <td>Yes</td>\n",
       "      <td>1</td>\n",
       "    </tr>\n",
       "    <tr>\n",
       "      <th>4</th>\n",
       "      <td>4</td>\n",
       "      <td>Rhea</td>\n",
       "      <td>Female</td>\n",
       "      <td>30.0</td>\n",
       "      <td>Kanpur</td>\n",
       "      <td>Working Professional</td>\n",
       "      <td>Business Analyst</td>\n",
       "      <td>NaN</td>\n",
       "      <td>1.0</td>\n",
       "      <td>NaN</td>\n",
       "      <td>NaN</td>\n",
       "      <td>1.0</td>\n",
       "      <td>5-6 hours</td>\n",
       "      <td>Unhealthy</td>\n",
       "      <td>BBA</td>\n",
       "      <td>Yes</td>\n",
       "      <td>9.0</td>\n",
       "      <td>4.0</td>\n",
       "      <td>Yes</td>\n",
       "      <td>0</td>\n",
       "    </tr>\n",
       "  </tbody>\n",
       "</table>\n",
       "</div>"
      ],
      "text/plain": [
       "   id      Name  Gender   Age           City Working Professional or Student  \\\n",
       "0   0  Aaradhya  Female  49.0       Ludhiana            Working Professional   \n",
       "1   1     Vivan    Male  26.0       Varanasi            Working Professional   \n",
       "2   2    Yuvraj    Male  33.0  Visakhapatnam                         Student   \n",
       "3   3    Yuvraj    Male  22.0         Mumbai            Working Professional   \n",
       "4   4      Rhea  Female  30.0         Kanpur            Working Professional   \n",
       "\n",
       "         Profession  Academic Pressure  Work Pressure  CGPA  \\\n",
       "0              Chef                NaN            5.0   NaN   \n",
       "1           Teacher                NaN            4.0   NaN   \n",
       "2               NaN                5.0            NaN  8.97   \n",
       "3           Teacher                NaN            5.0   NaN   \n",
       "4  Business Analyst                NaN            1.0   NaN   \n",
       "\n",
       "   Study Satisfaction  Job Satisfaction     Sleep Duration Dietary Habits  \\\n",
       "0                 NaN               2.0  More than 8 hours        Healthy   \n",
       "1                 NaN               3.0  Less than 5 hours      Unhealthy   \n",
       "2                 2.0               NaN          5-6 hours        Healthy   \n",
       "3                 NaN               1.0  Less than 5 hours       Moderate   \n",
       "4                 NaN               1.0          5-6 hours      Unhealthy   \n",
       "\n",
       "    Degree Have you ever had suicidal thoughts ?  Work/Study Hours  \\\n",
       "0      BHM                                    No               1.0   \n",
       "1      LLB                                   Yes               7.0   \n",
       "2  B.Pharm                                   Yes               3.0   \n",
       "3      BBA                                   Yes              10.0   \n",
       "4      BBA                                   Yes               9.0   \n",
       "\n",
       "   Financial Stress Family History of Mental Illness  Depression  \n",
       "0               2.0                               No           0  \n",
       "1               3.0                               No           1  \n",
       "2               1.0                               No           1  \n",
       "3               1.0                              Yes           1  \n",
       "4               4.0                              Yes           0  "
      ]
     },
     "execution_count": 3,
     "metadata": {},
     "output_type": "execute_result"
    }
   ],
   "source": [
    "data = pd.read_csv(\"../data/train.csv\")\n",
    "data.head()"
   ]
  },
  {
   "cell_type": "code",
   "execution_count": 4,
   "metadata": {},
   "outputs": [
    {
     "data": {
      "text/html": [
       "<div>\n",
       "<style scoped>\n",
       "    .dataframe tbody tr th:only-of-type {\n",
       "        vertical-align: middle;\n",
       "    }\n",
       "\n",
       "    .dataframe tbody tr th {\n",
       "        vertical-align: top;\n",
       "    }\n",
       "\n",
       "    .dataframe thead th {\n",
       "        text-align: right;\n",
       "    }\n",
       "</style>\n",
       "<table border=\"1\" class=\"dataframe\">\n",
       "  <thead>\n",
       "    <tr style=\"text-align: right;\">\n",
       "      <th></th>\n",
       "      <th>Gender</th>\n",
       "      <th>Age</th>\n",
       "      <th>City</th>\n",
       "      <th>Working Professional or Student</th>\n",
       "      <th>Profession</th>\n",
       "      <th>Academic Pressure</th>\n",
       "      <th>Work Pressure</th>\n",
       "      <th>CGPA</th>\n",
       "      <th>Study Satisfaction</th>\n",
       "      <th>Job Satisfaction</th>\n",
       "      <th>Sleep Duration</th>\n",
       "      <th>Dietary Habits</th>\n",
       "      <th>Degree</th>\n",
       "      <th>Have you ever had suicidal thoughts ?</th>\n",
       "      <th>Work/Study Hours</th>\n",
       "      <th>Financial Stress</th>\n",
       "      <th>Family History of Mental Illness</th>\n",
       "      <th>Depression</th>\n",
       "    </tr>\n",
       "  </thead>\n",
       "  <tbody>\n",
       "    <tr>\n",
       "      <th>0</th>\n",
       "      <td>Female</td>\n",
       "      <td>49.0</td>\n",
       "      <td>Ludhiana</td>\n",
       "      <td>Working Professional</td>\n",
       "      <td>Chef</td>\n",
       "      <td>NaN</td>\n",
       "      <td>5.0</td>\n",
       "      <td>NaN</td>\n",
       "      <td>NaN</td>\n",
       "      <td>2.0</td>\n",
       "      <td>More than 8 hours</td>\n",
       "      <td>Healthy</td>\n",
       "      <td>BHM</td>\n",
       "      <td>No</td>\n",
       "      <td>1.0</td>\n",
       "      <td>2.0</td>\n",
       "      <td>No</td>\n",
       "      <td>0</td>\n",
       "    </tr>\n",
       "    <tr>\n",
       "      <th>1</th>\n",
       "      <td>Male</td>\n",
       "      <td>26.0</td>\n",
       "      <td>Varanasi</td>\n",
       "      <td>Working Professional</td>\n",
       "      <td>Teacher</td>\n",
       "      <td>NaN</td>\n",
       "      <td>4.0</td>\n",
       "      <td>NaN</td>\n",
       "      <td>NaN</td>\n",
       "      <td>3.0</td>\n",
       "      <td>Less than 5 hours</td>\n",
       "      <td>Unhealthy</td>\n",
       "      <td>LLB</td>\n",
       "      <td>Yes</td>\n",
       "      <td>7.0</td>\n",
       "      <td>3.0</td>\n",
       "      <td>No</td>\n",
       "      <td>1</td>\n",
       "    </tr>\n",
       "    <tr>\n",
       "      <th>2</th>\n",
       "      <td>Male</td>\n",
       "      <td>33.0</td>\n",
       "      <td>Visakhapatnam</td>\n",
       "      <td>Student</td>\n",
       "      <td>NaN</td>\n",
       "      <td>5.0</td>\n",
       "      <td>NaN</td>\n",
       "      <td>8.97</td>\n",
       "      <td>2.0</td>\n",
       "      <td>NaN</td>\n",
       "      <td>5-6 hours</td>\n",
       "      <td>Healthy</td>\n",
       "      <td>B.Pharm</td>\n",
       "      <td>Yes</td>\n",
       "      <td>3.0</td>\n",
       "      <td>1.0</td>\n",
       "      <td>No</td>\n",
       "      <td>1</td>\n",
       "    </tr>\n",
       "    <tr>\n",
       "      <th>3</th>\n",
       "      <td>Male</td>\n",
       "      <td>22.0</td>\n",
       "      <td>Mumbai</td>\n",
       "      <td>Working Professional</td>\n",
       "      <td>Teacher</td>\n",
       "      <td>NaN</td>\n",
       "      <td>5.0</td>\n",
       "      <td>NaN</td>\n",
       "      <td>NaN</td>\n",
       "      <td>1.0</td>\n",
       "      <td>Less than 5 hours</td>\n",
       "      <td>Moderate</td>\n",
       "      <td>BBA</td>\n",
       "      <td>Yes</td>\n",
       "      <td>10.0</td>\n",
       "      <td>1.0</td>\n",
       "      <td>Yes</td>\n",
       "      <td>1</td>\n",
       "    </tr>\n",
       "    <tr>\n",
       "      <th>4</th>\n",
       "      <td>Female</td>\n",
       "      <td>30.0</td>\n",
       "      <td>Kanpur</td>\n",
       "      <td>Working Professional</td>\n",
       "      <td>Business Analyst</td>\n",
       "      <td>NaN</td>\n",
       "      <td>1.0</td>\n",
       "      <td>NaN</td>\n",
       "      <td>NaN</td>\n",
       "      <td>1.0</td>\n",
       "      <td>5-6 hours</td>\n",
       "      <td>Unhealthy</td>\n",
       "      <td>BBA</td>\n",
       "      <td>Yes</td>\n",
       "      <td>9.0</td>\n",
       "      <td>4.0</td>\n",
       "      <td>Yes</td>\n",
       "      <td>0</td>\n",
       "    </tr>\n",
       "  </tbody>\n",
       "</table>\n",
       "</div>"
      ],
      "text/plain": [
       "   Gender   Age           City Working Professional or Student  \\\n",
       "0  Female  49.0       Ludhiana            Working Professional   \n",
       "1    Male  26.0       Varanasi            Working Professional   \n",
       "2    Male  33.0  Visakhapatnam                         Student   \n",
       "3    Male  22.0         Mumbai            Working Professional   \n",
       "4  Female  30.0         Kanpur            Working Professional   \n",
       "\n",
       "         Profession  Academic Pressure  Work Pressure  CGPA  \\\n",
       "0              Chef                NaN            5.0   NaN   \n",
       "1           Teacher                NaN            4.0   NaN   \n",
       "2               NaN                5.0            NaN  8.97   \n",
       "3           Teacher                NaN            5.0   NaN   \n",
       "4  Business Analyst                NaN            1.0   NaN   \n",
       "\n",
       "   Study Satisfaction  Job Satisfaction     Sleep Duration Dietary Habits  \\\n",
       "0                 NaN               2.0  More than 8 hours        Healthy   \n",
       "1                 NaN               3.0  Less than 5 hours      Unhealthy   \n",
       "2                 2.0               NaN          5-6 hours        Healthy   \n",
       "3                 NaN               1.0  Less than 5 hours       Moderate   \n",
       "4                 NaN               1.0          5-6 hours      Unhealthy   \n",
       "\n",
       "    Degree Have you ever had suicidal thoughts ?  Work/Study Hours  \\\n",
       "0      BHM                                    No               1.0   \n",
       "1      LLB                                   Yes               7.0   \n",
       "2  B.Pharm                                   Yes               3.0   \n",
       "3      BBA                                   Yes              10.0   \n",
       "4      BBA                                   Yes               9.0   \n",
       "\n",
       "   Financial Stress Family History of Mental Illness  Depression  \n",
       "0               2.0                               No           0  \n",
       "1               3.0                               No           1  \n",
       "2               1.0                               No           1  \n",
       "3               1.0                              Yes           1  \n",
       "4               4.0                              Yes           0  "
      ]
     },
     "execution_count": 4,
     "metadata": {},
     "output_type": "execute_result"
    }
   ],
   "source": [
    "## Dropping id and Name column\n",
    "data = data.drop([\"id\", \"Name\"], axis=1)\n",
    "data.head()"
   ]
  },
  {
   "cell_type": "code",
   "execution_count": 5,
   "metadata": {},
   "outputs": [],
   "source": [
    "def return_value_counts(col):\n",
    "    print(\"Count of unique values in \" + col + \" column are:\\n\", data[col].value_counts())\n",
    "\n",
    "def return_null_values(col):\n",
    "    print(str(\"Null values in \" + col + \" column are =\"), data[col].isnull().sum())"
   ]
  },
  {
   "cell_type": "code",
   "execution_count": 6,
   "metadata": {},
   "outputs": [
    {
     "name": "stdout",
     "output_type": "stream",
     "text": [
      "Null values in Gender column are = 0\n"
     ]
    }
   ],
   "source": [
    "## Gender column\n",
    "return_null_values(\"Gender\")"
   ]
  },
  {
   "cell_type": "code",
   "execution_count": 7,
   "metadata": {},
   "outputs": [
    {
     "name": "stdout",
     "output_type": "stream",
     "text": [
      "Count of unique values in Gender column are:\n",
      " Gender\n",
      "Male      77464\n",
      "Female    63236\n",
      "Name: count, dtype: int64\n"
     ]
    }
   ],
   "source": [
    "return_value_counts(\"Gender\")"
   ]
  },
  {
   "cell_type": "markdown",
   "metadata": {},
   "source": [
    "Since, we know there is no ordinal relationship in \"Gender\" column, therefore, instead of label encoding (0, 1), I am using one-hot encoding."
   ]
  },
  {
   "cell_type": "code",
   "execution_count": 8,
   "metadata": {},
   "outputs": [
    {
     "data": {
      "text/plain": [
       "array([[1., 0.],\n",
       "       [0., 1.],\n",
       "       [0., 1.],\n",
       "       ...,\n",
       "       [1., 0.],\n",
       "       [1., 0.],\n",
       "       [0., 1.]])"
      ]
     },
     "execution_count": 8,
     "metadata": {},
     "output_type": "execute_result"
    }
   ],
   "source": [
    "from sklearn.preprocessing import OneHotEncoder\n",
    "\n",
    "one_hot_encoder = OneHotEncoder(sparse_output=False)\n",
    "\n",
    "# Fit and transform the Gender column\n",
    "gender_encoded = one_hot_encoder.fit_transform(data[['Gender']])\n",
    "gender_encoded"
   ]
  },
  {
   "cell_type": "code",
   "execution_count": 9,
   "metadata": {},
   "outputs": [
    {
     "data": {
      "text/html": [
       "<div>\n",
       "<style scoped>\n",
       "    .dataframe tbody tr th:only-of-type {\n",
       "        vertical-align: middle;\n",
       "    }\n",
       "\n",
       "    .dataframe tbody tr th {\n",
       "        vertical-align: top;\n",
       "    }\n",
       "\n",
       "    .dataframe thead th {\n",
       "        text-align: right;\n",
       "    }\n",
       "</style>\n",
       "<table border=\"1\" class=\"dataframe\">\n",
       "  <thead>\n",
       "    <tr style=\"text-align: right;\">\n",
       "      <th></th>\n",
       "      <th>Gender_Female</th>\n",
       "      <th>Gender_Male</th>\n",
       "    </tr>\n",
       "  </thead>\n",
       "  <tbody>\n",
       "    <tr>\n",
       "      <th>0</th>\n",
       "      <td>1.0</td>\n",
       "      <td>0.0</td>\n",
       "    </tr>\n",
       "    <tr>\n",
       "      <th>1</th>\n",
       "      <td>0.0</td>\n",
       "      <td>1.0</td>\n",
       "    </tr>\n",
       "    <tr>\n",
       "      <th>2</th>\n",
       "      <td>0.0</td>\n",
       "      <td>1.0</td>\n",
       "    </tr>\n",
       "    <tr>\n",
       "      <th>3</th>\n",
       "      <td>0.0</td>\n",
       "      <td>1.0</td>\n",
       "    </tr>\n",
       "    <tr>\n",
       "      <th>4</th>\n",
       "      <td>1.0</td>\n",
       "      <td>0.0</td>\n",
       "    </tr>\n",
       "  </tbody>\n",
       "</table>\n",
       "</div>"
      ],
      "text/plain": [
       "   Gender_Female  Gender_Male\n",
       "0            1.0          0.0\n",
       "1            0.0          1.0\n",
       "2            0.0          1.0\n",
       "3            0.0          1.0\n",
       "4            1.0          0.0"
      ]
     },
     "execution_count": 9,
     "metadata": {},
     "output_type": "execute_result"
    }
   ],
   "source": [
    "## Create the dataframe with column names for Gender\n",
    "df_encoded = pd.DataFrame(\n",
    "    gender_encoded, columns=one_hot_encoder.get_feature_names_out([\"Gender\"])\n",
    ")\n",
    "df_encoded.head()"
   ]
  },
  {
   "cell_type": "code",
   "execution_count": 10,
   "metadata": {},
   "outputs": [
    {
     "data": {
      "text/html": [
       "<div>\n",
       "<style scoped>\n",
       "    .dataframe tbody tr th:only-of-type {\n",
       "        vertical-align: middle;\n",
       "    }\n",
       "\n",
       "    .dataframe tbody tr th {\n",
       "        vertical-align: top;\n",
       "    }\n",
       "\n",
       "    .dataframe thead th {\n",
       "        text-align: right;\n",
       "    }\n",
       "</style>\n",
       "<table border=\"1\" class=\"dataframe\">\n",
       "  <thead>\n",
       "    <tr style=\"text-align: right;\">\n",
       "      <th></th>\n",
       "      <th>Gender</th>\n",
       "      <th>Age</th>\n",
       "      <th>City</th>\n",
       "      <th>Working Professional or Student</th>\n",
       "      <th>Profession</th>\n",
       "      <th>Academic Pressure</th>\n",
       "      <th>Work Pressure</th>\n",
       "      <th>CGPA</th>\n",
       "      <th>Study Satisfaction</th>\n",
       "      <th>Job Satisfaction</th>\n",
       "      <th>Sleep Duration</th>\n",
       "      <th>Dietary Habits</th>\n",
       "      <th>Degree</th>\n",
       "      <th>Have you ever had suicidal thoughts ?</th>\n",
       "      <th>Work/Study Hours</th>\n",
       "      <th>Financial Stress</th>\n",
       "      <th>Family History of Mental Illness</th>\n",
       "      <th>Depression</th>\n",
       "      <th>Gender_Female</th>\n",
       "      <th>Gender_Male</th>\n",
       "    </tr>\n",
       "  </thead>\n",
       "  <tbody>\n",
       "    <tr>\n",
       "      <th>0</th>\n",
       "      <td>Female</td>\n",
       "      <td>49.0</td>\n",
       "      <td>Ludhiana</td>\n",
       "      <td>Working Professional</td>\n",
       "      <td>Chef</td>\n",
       "      <td>NaN</td>\n",
       "      <td>5.0</td>\n",
       "      <td>NaN</td>\n",
       "      <td>NaN</td>\n",
       "      <td>2.0</td>\n",
       "      <td>More than 8 hours</td>\n",
       "      <td>Healthy</td>\n",
       "      <td>BHM</td>\n",
       "      <td>No</td>\n",
       "      <td>1.0</td>\n",
       "      <td>2.0</td>\n",
       "      <td>No</td>\n",
       "      <td>0</td>\n",
       "      <td>1.0</td>\n",
       "      <td>0.0</td>\n",
       "    </tr>\n",
       "  </tbody>\n",
       "</table>\n",
       "</div>"
      ],
      "text/plain": [
       "   Gender   Age      City Working Professional or Student Profession  \\\n",
       "0  Female  49.0  Ludhiana            Working Professional       Chef   \n",
       "\n",
       "   Academic Pressure  Work Pressure  CGPA  Study Satisfaction  \\\n",
       "0                NaN            5.0   NaN                 NaN   \n",
       "\n",
       "   Job Satisfaction     Sleep Duration Dietary Habits Degree  \\\n",
       "0               2.0  More than 8 hours        Healthy    BHM   \n",
       "\n",
       "  Have you ever had suicidal thoughts ?  Work/Study Hours  Financial Stress  \\\n",
       "0                                    No               1.0               2.0   \n",
       "\n",
       "  Family History of Mental Illness  Depression  Gender_Female  Gender_Male  \n",
       "0                               No           0            1.0          0.0  "
      ]
     },
     "execution_count": 10,
     "metadata": {},
     "output_type": "execute_result"
    }
   ],
   "source": [
    "data = pd.concat([data, df_encoded], axis=1)\n",
    "data.head(1)"
   ]
  },
  {
   "cell_type": "code",
   "execution_count": 11,
   "metadata": {},
   "outputs": [
    {
     "data": {
      "text/html": [
       "<div>\n",
       "<style scoped>\n",
       "    .dataframe tbody tr th:only-of-type {\n",
       "        vertical-align: middle;\n",
       "    }\n",
       "\n",
       "    .dataframe tbody tr th {\n",
       "        vertical-align: top;\n",
       "    }\n",
       "\n",
       "    .dataframe thead th {\n",
       "        text-align: right;\n",
       "    }\n",
       "</style>\n",
       "<table border=\"1\" class=\"dataframe\">\n",
       "  <thead>\n",
       "    <tr style=\"text-align: right;\">\n",
       "      <th></th>\n",
       "      <th>Age</th>\n",
       "      <th>City</th>\n",
       "      <th>Working Professional or Student</th>\n",
       "      <th>Profession</th>\n",
       "      <th>Academic Pressure</th>\n",
       "      <th>Work Pressure</th>\n",
       "      <th>CGPA</th>\n",
       "      <th>Study Satisfaction</th>\n",
       "      <th>Job Satisfaction</th>\n",
       "      <th>Sleep Duration</th>\n",
       "      <th>Dietary Habits</th>\n",
       "      <th>Degree</th>\n",
       "      <th>Have you ever had suicidal thoughts ?</th>\n",
       "      <th>Work/Study Hours</th>\n",
       "      <th>Financial Stress</th>\n",
       "      <th>Family History of Mental Illness</th>\n",
       "      <th>Depression</th>\n",
       "      <th>Gender_Female</th>\n",
       "      <th>Gender_Male</th>\n",
       "    </tr>\n",
       "  </thead>\n",
       "  <tbody>\n",
       "    <tr>\n",
       "      <th>0</th>\n",
       "      <td>49.0</td>\n",
       "      <td>Ludhiana</td>\n",
       "      <td>Working Professional</td>\n",
       "      <td>Chef</td>\n",
       "      <td>NaN</td>\n",
       "      <td>5.0</td>\n",
       "      <td>NaN</td>\n",
       "      <td>NaN</td>\n",
       "      <td>2.0</td>\n",
       "      <td>More than 8 hours</td>\n",
       "      <td>Healthy</td>\n",
       "      <td>BHM</td>\n",
       "      <td>No</td>\n",
       "      <td>1.0</td>\n",
       "      <td>2.0</td>\n",
       "      <td>No</td>\n",
       "      <td>0</td>\n",
       "      <td>1.0</td>\n",
       "      <td>0.0</td>\n",
       "    </tr>\n",
       "  </tbody>\n",
       "</table>\n",
       "</div>"
      ],
      "text/plain": [
       "    Age      City Working Professional or Student Profession  \\\n",
       "0  49.0  Ludhiana            Working Professional       Chef   \n",
       "\n",
       "   Academic Pressure  Work Pressure  CGPA  Study Satisfaction  \\\n",
       "0                NaN            5.0   NaN                 NaN   \n",
       "\n",
       "   Job Satisfaction     Sleep Duration Dietary Habits Degree  \\\n",
       "0               2.0  More than 8 hours        Healthy    BHM   \n",
       "\n",
       "  Have you ever had suicidal thoughts ?  Work/Study Hours  Financial Stress  \\\n",
       "0                                    No               1.0               2.0   \n",
       "\n",
       "  Family History of Mental Illness  Depression  Gender_Female  Gender_Male  \n",
       "0                               No           0            1.0          0.0  "
      ]
     },
     "execution_count": 11,
     "metadata": {},
     "output_type": "execute_result"
    }
   ],
   "source": [
    "## dropping the Gender column\n",
    "data = data.drop([\"Gender\"], axis=1)\n",
    "data.head(1)"
   ]
  },
  {
   "cell_type": "code",
   "execution_count": 12,
   "metadata": {},
   "outputs": [
    {
     "data": {
      "text/plain": [
       "0           (43.2, 51.6]\n",
       "1         (17.958, 26.4]\n",
       "2           (26.4, 34.8]\n",
       "3         (17.958, 26.4]\n",
       "4           (26.4, 34.8]\n",
       "               ...      \n",
       "140695    (17.958, 26.4]\n",
       "140696      (34.8, 43.2]\n",
       "140697    (17.958, 26.4]\n",
       "140698      (43.2, 51.6]\n",
       "140699      (26.4, 34.8]\n",
       "Name: Age, Length: 140700, dtype: category\n",
       "Categories (5, interval[float64, right]): [(17.958, 26.4] < (26.4, 34.8] < (34.8, 43.2] < (43.2, 51.6] < (51.6, 60.0]]"
      ]
     },
     "execution_count": 12,
     "metadata": {},
     "output_type": "execute_result"
    }
   ],
   "source": [
    "pd.cut(data[\"Age\"], 5)"
   ]
  },
  {
   "cell_type": "markdown",
   "metadata": {},
   "source": [
    "Bins created - [(17.958, 26.4] < (26.4, 34.8] < (34.8, 43.2] < (43.2, 51.6] < (51.6, 60.0]]"
   ]
  },
  {
   "cell_type": "code",
   "execution_count": 13,
   "metadata": {},
   "outputs": [
    {
     "data": {
      "text/html": [
       "<div>\n",
       "<style scoped>\n",
       "    .dataframe tbody tr th:only-of-type {\n",
       "        vertical-align: middle;\n",
       "    }\n",
       "\n",
       "    .dataframe tbody tr th {\n",
       "        vertical-align: top;\n",
       "    }\n",
       "\n",
       "    .dataframe thead th {\n",
       "        text-align: right;\n",
       "    }\n",
       "</style>\n",
       "<table border=\"1\" class=\"dataframe\">\n",
       "  <thead>\n",
       "    <tr style=\"text-align: right;\">\n",
       "      <th></th>\n",
       "      <th>Age</th>\n",
       "      <th>City</th>\n",
       "      <th>Working Professional or Student</th>\n",
       "      <th>Profession</th>\n",
       "      <th>Academic Pressure</th>\n",
       "      <th>Work Pressure</th>\n",
       "      <th>CGPA</th>\n",
       "      <th>Study Satisfaction</th>\n",
       "      <th>Job Satisfaction</th>\n",
       "      <th>Sleep Duration</th>\n",
       "      <th>Dietary Habits</th>\n",
       "      <th>Degree</th>\n",
       "      <th>Have you ever had suicidal thoughts ?</th>\n",
       "      <th>Work/Study Hours</th>\n",
       "      <th>Financial Stress</th>\n",
       "      <th>Family History of Mental Illness</th>\n",
       "      <th>Depression</th>\n",
       "      <th>Gender_Female</th>\n",
       "      <th>Gender_Male</th>\n",
       "      <th>Age_Group</th>\n",
       "    </tr>\n",
       "  </thead>\n",
       "  <tbody>\n",
       "    <tr>\n",
       "      <th>0</th>\n",
       "      <td>49.0</td>\n",
       "      <td>Ludhiana</td>\n",
       "      <td>Working Professional</td>\n",
       "      <td>Chef</td>\n",
       "      <td>NaN</td>\n",
       "      <td>5.0</td>\n",
       "      <td>NaN</td>\n",
       "      <td>NaN</td>\n",
       "      <td>2.0</td>\n",
       "      <td>More than 8 hours</td>\n",
       "      <td>Healthy</td>\n",
       "      <td>BHM</td>\n",
       "      <td>No</td>\n",
       "      <td>1.0</td>\n",
       "      <td>2.0</td>\n",
       "      <td>No</td>\n",
       "      <td>0</td>\n",
       "      <td>1.0</td>\n",
       "      <td>0.0</td>\n",
       "      <td>3</td>\n",
       "    </tr>\n",
       "    <tr>\n",
       "      <th>1</th>\n",
       "      <td>26.0</td>\n",
       "      <td>Varanasi</td>\n",
       "      <td>Working Professional</td>\n",
       "      <td>Teacher</td>\n",
       "      <td>NaN</td>\n",
       "      <td>4.0</td>\n",
       "      <td>NaN</td>\n",
       "      <td>NaN</td>\n",
       "      <td>3.0</td>\n",
       "      <td>Less than 5 hours</td>\n",
       "      <td>Unhealthy</td>\n",
       "      <td>LLB</td>\n",
       "      <td>Yes</td>\n",
       "      <td>7.0</td>\n",
       "      <td>3.0</td>\n",
       "      <td>No</td>\n",
       "      <td>1</td>\n",
       "      <td>0.0</td>\n",
       "      <td>1.0</td>\n",
       "      <td>0</td>\n",
       "    </tr>\n",
       "    <tr>\n",
       "      <th>2</th>\n",
       "      <td>33.0</td>\n",
       "      <td>Visakhapatnam</td>\n",
       "      <td>Student</td>\n",
       "      <td>NaN</td>\n",
       "      <td>5.0</td>\n",
       "      <td>NaN</td>\n",
       "      <td>8.97</td>\n",
       "      <td>2.0</td>\n",
       "      <td>NaN</td>\n",
       "      <td>5-6 hours</td>\n",
       "      <td>Healthy</td>\n",
       "      <td>B.Pharm</td>\n",
       "      <td>Yes</td>\n",
       "      <td>3.0</td>\n",
       "      <td>1.0</td>\n",
       "      <td>No</td>\n",
       "      <td>1</td>\n",
       "      <td>0.0</td>\n",
       "      <td>1.0</td>\n",
       "      <td>1</td>\n",
       "    </tr>\n",
       "    <tr>\n",
       "      <th>3</th>\n",
       "      <td>22.0</td>\n",
       "      <td>Mumbai</td>\n",
       "      <td>Working Professional</td>\n",
       "      <td>Teacher</td>\n",
       "      <td>NaN</td>\n",
       "      <td>5.0</td>\n",
       "      <td>NaN</td>\n",
       "      <td>NaN</td>\n",
       "      <td>1.0</td>\n",
       "      <td>Less than 5 hours</td>\n",
       "      <td>Moderate</td>\n",
       "      <td>BBA</td>\n",
       "      <td>Yes</td>\n",
       "      <td>10.0</td>\n",
       "      <td>1.0</td>\n",
       "      <td>Yes</td>\n",
       "      <td>1</td>\n",
       "      <td>0.0</td>\n",
       "      <td>1.0</td>\n",
       "      <td>0</td>\n",
       "    </tr>\n",
       "    <tr>\n",
       "      <th>4</th>\n",
       "      <td>30.0</td>\n",
       "      <td>Kanpur</td>\n",
       "      <td>Working Professional</td>\n",
       "      <td>Business Analyst</td>\n",
       "      <td>NaN</td>\n",
       "      <td>1.0</td>\n",
       "      <td>NaN</td>\n",
       "      <td>NaN</td>\n",
       "      <td>1.0</td>\n",
       "      <td>5-6 hours</td>\n",
       "      <td>Unhealthy</td>\n",
       "      <td>BBA</td>\n",
       "      <td>Yes</td>\n",
       "      <td>9.0</td>\n",
       "      <td>4.0</td>\n",
       "      <td>Yes</td>\n",
       "      <td>0</td>\n",
       "      <td>1.0</td>\n",
       "      <td>0.0</td>\n",
       "      <td>1</td>\n",
       "    </tr>\n",
       "  </tbody>\n",
       "</table>\n",
       "</div>"
      ],
      "text/plain": [
       "    Age           City Working Professional or Student        Profession  \\\n",
       "0  49.0       Ludhiana            Working Professional              Chef   \n",
       "1  26.0       Varanasi            Working Professional           Teacher   \n",
       "2  33.0  Visakhapatnam                         Student               NaN   \n",
       "3  22.0         Mumbai            Working Professional           Teacher   \n",
       "4  30.0         Kanpur            Working Professional  Business Analyst   \n",
       "\n",
       "   Academic Pressure  Work Pressure  CGPA  Study Satisfaction  \\\n",
       "0                NaN            5.0   NaN                 NaN   \n",
       "1                NaN            4.0   NaN                 NaN   \n",
       "2                5.0            NaN  8.97                 2.0   \n",
       "3                NaN            5.0   NaN                 NaN   \n",
       "4                NaN            1.0   NaN                 NaN   \n",
       "\n",
       "   Job Satisfaction     Sleep Duration Dietary Habits   Degree  \\\n",
       "0               2.0  More than 8 hours        Healthy      BHM   \n",
       "1               3.0  Less than 5 hours      Unhealthy      LLB   \n",
       "2               NaN          5-6 hours        Healthy  B.Pharm   \n",
       "3               1.0  Less than 5 hours       Moderate      BBA   \n",
       "4               1.0          5-6 hours      Unhealthy      BBA   \n",
       "\n",
       "  Have you ever had suicidal thoughts ?  Work/Study Hours  Financial Stress  \\\n",
       "0                                    No               1.0               2.0   \n",
       "1                                   Yes               7.0               3.0   \n",
       "2                                   Yes               3.0               1.0   \n",
       "3                                   Yes              10.0               1.0   \n",
       "4                                   Yes               9.0               4.0   \n",
       "\n",
       "  Family History of Mental Illness  Depression  Gender_Female  Gender_Male  \\\n",
       "0                               No           0            1.0          0.0   \n",
       "1                               No           1            0.0          1.0   \n",
       "2                               No           1            0.0          1.0   \n",
       "3                              Yes           1            0.0          1.0   \n",
       "4                              Yes           0            1.0          0.0   \n",
       "\n",
       "  Age_Group  \n",
       "0         3  \n",
       "1         0  \n",
       "2         1  \n",
       "3         0  \n",
       "4         1  "
      ]
     },
     "execution_count": 13,
     "metadata": {},
     "output_type": "execute_result"
    }
   ],
   "source": [
    "## Age column\n",
    "data[\"Age_Group\"] = pd.cut(data[\"Age\"], 5, labels=[0, 1, 2, 3, 4])\n",
    "data.head()"
   ]
  },
  {
   "cell_type": "code",
   "execution_count": 14,
   "metadata": {},
   "outputs": [],
   "source": [
    "## Dropping the age column\n",
    "data = data.drop([\"Age\"], axis=1)"
   ]
  },
  {
   "cell_type": "code",
   "execution_count": 15,
   "metadata": {},
   "outputs": [
    {
     "data": {
      "text/html": [
       "<div>\n",
       "<style scoped>\n",
       "    .dataframe tbody tr th:only-of-type {\n",
       "        vertical-align: middle;\n",
       "    }\n",
       "\n",
       "    .dataframe tbody tr th {\n",
       "        vertical-align: top;\n",
       "    }\n",
       "\n",
       "    .dataframe thead th {\n",
       "        text-align: right;\n",
       "    }\n",
       "</style>\n",
       "<table border=\"1\" class=\"dataframe\">\n",
       "  <thead>\n",
       "    <tr style=\"text-align: right;\">\n",
       "      <th></th>\n",
       "      <th>City</th>\n",
       "      <th>Working Professional or Student</th>\n",
       "      <th>Profession</th>\n",
       "      <th>Academic Pressure</th>\n",
       "      <th>Work Pressure</th>\n",
       "      <th>CGPA</th>\n",
       "      <th>Study Satisfaction</th>\n",
       "      <th>Job Satisfaction</th>\n",
       "      <th>Sleep Duration</th>\n",
       "      <th>Dietary Habits</th>\n",
       "      <th>Degree</th>\n",
       "      <th>Have you ever had suicidal thoughts ?</th>\n",
       "      <th>Work/Study Hours</th>\n",
       "      <th>Financial Stress</th>\n",
       "      <th>Family History of Mental Illness</th>\n",
       "      <th>Depression</th>\n",
       "      <th>Gender_Female</th>\n",
       "      <th>Gender_Male</th>\n",
       "      <th>Age_Group</th>\n",
       "    </tr>\n",
       "  </thead>\n",
       "  <tbody>\n",
       "    <tr>\n",
       "      <th>0</th>\n",
       "      <td>Ludhiana</td>\n",
       "      <td>Working Professional</td>\n",
       "      <td>Chef</td>\n",
       "      <td>NaN</td>\n",
       "      <td>5.0</td>\n",
       "      <td>NaN</td>\n",
       "      <td>NaN</td>\n",
       "      <td>2.0</td>\n",
       "      <td>More than 8 hours</td>\n",
       "      <td>Healthy</td>\n",
       "      <td>BHM</td>\n",
       "      <td>No</td>\n",
       "      <td>1.0</td>\n",
       "      <td>2.0</td>\n",
       "      <td>No</td>\n",
       "      <td>0</td>\n",
       "      <td>1.0</td>\n",
       "      <td>0.0</td>\n",
       "      <td>3</td>\n",
       "    </tr>\n",
       "  </tbody>\n",
       "</table>\n",
       "</div>"
      ],
      "text/plain": [
       "       City Working Professional or Student Profession  Academic Pressure  \\\n",
       "0  Ludhiana            Working Professional       Chef                NaN   \n",
       "\n",
       "   Work Pressure  CGPA  Study Satisfaction  Job Satisfaction  \\\n",
       "0            5.0   NaN                 NaN               2.0   \n",
       "\n",
       "      Sleep Duration Dietary Habits Degree  \\\n",
       "0  More than 8 hours        Healthy    BHM   \n",
       "\n",
       "  Have you ever had suicidal thoughts ?  Work/Study Hours  Financial Stress  \\\n",
       "0                                    No               1.0               2.0   \n",
       "\n",
       "  Family History of Mental Illness  Depression  Gender_Female  Gender_Male  \\\n",
       "0                               No           0            1.0          0.0   \n",
       "\n",
       "  Age_Group  \n",
       "0         3  "
      ]
     },
     "execution_count": 15,
     "metadata": {},
     "output_type": "execute_result"
    }
   ],
   "source": [
    "data.head(1)"
   ]
  },
  {
   "cell_type": "code",
   "execution_count": 16,
   "metadata": {},
   "outputs": [
    {
     "data": {
      "text/plain": [
       "City\n",
       "Kalyan         6591\n",
       "Patna          5924\n",
       "Vasai-Virar    5765\n",
       "Kolkata        5689\n",
       "Ahmedabad      5613\n",
       "               ... \n",
       "Shrey             1\n",
       "Ivaan             1\n",
       "Vaanya            1\n",
       "Gaurav            1\n",
       "Unirar            1\n",
       "Name: count, Length: 98, dtype: int64"
      ]
     },
     "execution_count": 16,
     "metadata": {},
     "output_type": "execute_result"
    }
   ],
   "source": [
    "## City column\n",
    "data[\"City\"].value_counts()"
   ]
  },
  {
   "cell_type": "code",
   "execution_count": 17,
   "metadata": {},
   "outputs": [
    {
     "data": {
      "text/plain": [
       "array(['Ludhiana', 'Varanasi', 'Visakhapatnam', 'Mumbai', 'Kanpur',\n",
       "       'Ahmedabad', 'Thane', 'Nashik', 'Bangalore', 'Patna', 'Rajkot',\n",
       "       'Jaipur', 'Pune', 'Lucknow', 'Meerut', 'Agra', 'Surat',\n",
       "       'Faridabad', 'Hyderabad', 'Srinagar', 'Ghaziabad', 'Kolkata',\n",
       "       'Chennai', 'Kalyan', 'Nagpur', 'Vadodara', 'Vasai-Virar', 'Delhi',\n",
       "       'Bhopal', 'Indore', 'Ishanabad', 'Vidhi', 'Ayush', 'Gurgaon',\n",
       "       'Krishna', 'Aishwarya', 'Keshav', 'Harsha', 'Nalini', 'Aditya',\n",
       "       'Malyansh', 'Raghavendra', 'Saanvi', 'M.Tech', 'Bhavna',\n",
       "       'Less Delhi', 'Nandini', 'M.Com', 'Plata', 'Atharv', 'Pratyush',\n",
       "       'City', '3.0', 'Less than 5 Kalyan', 'MCA', 'Mira', 'Moreadhyay',\n",
       "       'Morena', 'Ishkarsh', 'Kashk', 'Mihir', 'Vidya', 'Tolkata', 'Anvi',\n",
       "       'Krinda', 'Ayansh', 'Shrey', 'Ivaan', 'Vaanya', 'Gaurav', 'Harsh',\n",
       "       'Reyansh', 'Kashish', 'Kibara', 'Vaishnavi', 'Chhavi', 'Parth',\n",
       "       'Mahi', 'Tushar', 'MSc', 'No', 'Rashi', 'ME', 'Molkata',\n",
       "       'Researcher', 'Kagan', 'Armaan', 'Ithal', 'Nalyan', 'Dhruv',\n",
       "       'Galesabad', 'Itheg', 'Aaradhya', 'Pooja', 'Khushi', 'Khaziabad',\n",
       "       'Jhanvi', 'Unirar'], dtype=object)"
      ]
     },
     "execution_count": 17,
     "metadata": {},
     "output_type": "execute_result"
    }
   ],
   "source": [
    "data[\"City\"].unique()"
   ]
  },
  {
   "cell_type": "markdown",
   "metadata": {},
   "source": [
    "There are lot of wrong values. Many people have written their names. What we can do is that instead of deleting their rows, we can classify as 'Others'."
   ]
  },
  {
   "cell_type": "code",
   "execution_count": 18,
   "metadata": {},
   "outputs": [],
   "source": [
    "names_to_change = [\n",
    "    \"Vidhi\",\n",
    "    \"Ayush\",\n",
    "    \"Krishna\",\n",
    "    \"Aishwarya\",\n",
    "    \"Keshav\",\n",
    "    \"Harsha\",\n",
    "    \"Nalini\",\n",
    "    \"Aditya\",\n",
    "    \"Malyansh\",\n",
    "    \"Raghavendra\",\n",
    "    \"Saanvi\",\n",
    "    \"M.Tech\",\n",
    "    \"Bhavna\",\n",
    "    \"Nandini\",\n",
    "    \"M.Com\",\n",
    "    \"Plata\",\n",
    "    \"Atharv\",\n",
    "    \"Pratyush\",\n",
    "    \"City\",\n",
    "    \"3.0\",\n",
    "    \"MCA\",\n",
    "    \"Mira\",\n",
    "    \"Moreadhyay\",\n",
    "    \"Morena\",\n",
    "    \"Ishkarsh\",\n",
    "    \"Kashk\",\n",
    "    \"Mihir\",\n",
    "    \"Vidya\",\n",
    "    \"Anvi\",\n",
    "    \"Krinda\",\n",
    "    \"Ayansh\",\n",
    "    \"Shrey\",\n",
    "    \"Ivaan\",\n",
    "    \"Vaanya\",\n",
    "    \"Gaurav\",\n",
    "    \"Harsh\",\n",
    "    \"Reyansh\",\n",
    "    \"Kashish\",\n",
    "    \"Kibara\",\n",
    "    \"Vaishnavi\",\n",
    "    \"Chhavi\",\n",
    "    \"Parth\",\n",
    "    \"Mahi\",\n",
    "    \"Tushar\",\n",
    "    \"MSc\",\n",
    "    \"No\",\n",
    "    \"Rashi\",\n",
    "    \"ME\",\n",
    "    \"Researcher\",\n",
    "    \"Kagan\",\n",
    "    \"Armaan\",\n",
    "    \"Ithal\",\n",
    "    \"Nalyan\",\n",
    "    \"Dhruv\",\n",
    "    \"Galesabad\",\n",
    "    \"Itheg\",\n",
    "    \"Aaradhya\",\n",
    "    \"Pooja\",\n",
    "    \"Khushi\",\n",
    "    \"Jhanvi\",\n",
    "    \"Unirar\",\n",
    "]"
   ]
  },
  {
   "cell_type": "code",
   "execution_count": 19,
   "metadata": {},
   "outputs": [],
   "source": [
    "wrong_spelling = [\"Less Delhi\", \"Less than 5 Kalyan\", \"Tolkata\", \"Molkata\", \"Khaziabad\"]"
   ]
  },
  {
   "cell_type": "code",
   "execution_count": 20,
   "metadata": {},
   "outputs": [],
   "source": [
    "def name_to_others(lst):\n",
    "    for name in lst:\n",
    "        data.loc[data[\"City\"] == name, \"City\"] = \"Others\""
   ]
  },
  {
   "cell_type": "code",
   "execution_count": 21,
   "metadata": {},
   "outputs": [],
   "source": [
    "name_to_others(names_to_change)"
   ]
  },
  {
   "cell_type": "code",
   "execution_count": 22,
   "metadata": {},
   "outputs": [],
   "source": [
    "for name in wrong_spelling:\n",
    "    if name == \"Less Delhi\":\n",
    "        data.loc[data[\"City\"] == name, \"City\"] = \"Delhi\"\n",
    "    elif name == \"Less than 5 Kalyan\":\n",
    "        data.loc[data[\"City\"] == name, \"City\"] = \"Kalyan\"\n",
    "    elif name == \"Tolkata\" or name == \"Molkata\":\n",
    "        data.loc[data[\"City\"] == name, \"City\"] = \"Kolkata\"\n",
    "    else:\n",
    "        data.loc[data[\"City\"] == name, \"City\"] = \"Ghaziabad\""
   ]
  },
  {
   "cell_type": "code",
   "execution_count": 23,
   "metadata": {},
   "outputs": [
    {
     "data": {
      "text/plain": [
       "array(['Ludhiana', 'Varanasi', 'Visakhapatnam', 'Mumbai', 'Kanpur',\n",
       "       'Ahmedabad', 'Thane', 'Nashik', 'Bangalore', 'Patna', 'Rajkot',\n",
       "       'Jaipur', 'Pune', 'Lucknow', 'Meerut', 'Agra', 'Surat',\n",
       "       'Faridabad', 'Hyderabad', 'Srinagar', 'Ghaziabad', 'Kolkata',\n",
       "       'Chennai', 'Kalyan', 'Nagpur', 'Vadodara', 'Vasai-Virar', 'Delhi',\n",
       "       'Bhopal', 'Indore', 'Ishanabad', 'Others', 'Gurgaon'], dtype=object)"
      ]
     },
     "execution_count": 23,
     "metadata": {},
     "output_type": "execute_result"
    }
   ],
   "source": [
    "data[\"City\"].unique()"
   ]
  },
  {
   "cell_type": "code",
   "execution_count": 24,
   "metadata": {},
   "outputs": [
    {
     "data": {
      "text/plain": [
       "City\n",
       "Kalyan           6592\n",
       "Patna            5924\n",
       "Vasai-Virar      5765\n",
       "Kolkata          5692\n",
       "Ahmedabad        5613\n",
       "Meerut           5528\n",
       "Ludhiana         5226\n",
       "Pune             5210\n",
       "Rajkot           5207\n",
       "Visakhapatnam    5176\n",
       "Srinagar         5074\n",
       "Mumbai           4966\n",
       "Indore           4872\n",
       "Agra             4684\n",
       "Surat            4636\n",
       "Varanasi         4606\n",
       "Vadodara         4568\n",
       "Hyderabad        4496\n",
       "Kanpur           4398\n",
       "Jaipur           4328\n",
       "Thane            4289\n",
       "Lucknow          4280\n",
       "Nagpur           4209\n",
       "Bangalore        4123\n",
       "Chennai          4044\n",
       "Ghaziabad        3621\n",
       "Delhi            3594\n",
       "Bhopal           3475\n",
       "Faridabad        3268\n",
       "Nashik           3144\n",
       "Others             90\n",
       "Ishanabad           1\n",
       "Gurgaon             1\n",
       "Name: count, dtype: int64"
      ]
     },
     "execution_count": 24,
     "metadata": {},
     "output_type": "execute_result"
    }
   ],
   "source": [
    "data[\"City\"].value_counts()"
   ]
  },
  {
   "cell_type": "code",
   "execution_count": 25,
   "metadata": {},
   "outputs": [
    {
     "data": {
      "image/png": "[encoded data removed]",
      "text/plain": [
       "<Figure size 1000x1000 with 1 Axes>"
      ]
     },
     "metadata": {},
     "output_type": "display_data"
    }
   ],
   "source": [
    "plt.figure(figsize=(10, 10))\n",
    "sns.countplot(data, y=\"City\", hue=\"Depression\")\n",
    "plt.title(\"Distribution of depression for each City\")\n",
    "plt.legend([\"No\", \"Yes\"])\n",
    "plt.show()"
   ]
  },
  {
   "cell_type": "code",
   "execution_count": 26,
   "metadata": {},
   "outputs": [
    {
     "name": "stdout",
     "output_type": "stream",
     "text": [
      "City\n",
      "Ishanabad        100.000000\n",
      "Hyderabad         27.513345\n",
      "Thane             24.224761\n",
      "Bhopal            23.251799\n",
      "Ahmedabad         21.788705\n",
      "Lucknow           21.401869\n",
      "Srinagar          21.166732\n",
      "Surat             20.189819\n",
      "Kalyan            19.963592\n",
      "Vasai-Virar       19.791847\n",
      "Ghaziabad         19.524993\n",
      "Chennai           19.436202\n",
      "Ludhiana          19.269039\n",
      "Agra              19.235696\n",
      "Delhi             19.170840\n",
      "Others            18.888889\n",
      "Jaipur            18.137708\n",
      "Bangalore         17.560029\n",
      "Kolkata           17.357695\n",
      "Rajkot            17.322835\n",
      "Vadodara          16.768827\n",
      "Patna             16.323430\n",
      "Pune              16.103647\n",
      "Indore            16.091954\n",
      "Visakhapatnam     15.919629\n",
      "Nashik            15.871501\n",
      "Faridabad         14.687882\n",
      "Nagpur            14.492754\n",
      "Varanasi          14.220582\n",
      "Meerut            13.404486\n",
      "Mumbai            13.129279\n",
      "Kanpur            12.573897\n",
      "Gurgaon            0.000000\n",
      "Name: Depression, dtype: float64\n"
     ]
    }
   ],
   "source": [
    "## Percentage of Depressed in each city\n",
    "depression_percentage = data.groupby(\"City\")[\"Depression\"].mean() * 100\n",
    "print(depression_percentage.sort_values(ascending=False))"
   ]
  },
  {
   "cell_type": "markdown",
   "metadata": {},
   "source": [
    "Ishanabad and Gurgaon looks like an outlier. We should put these cities into 'Others' as well to avoid strong bias in future."
   ]
  },
  {
   "cell_type": "code",
   "execution_count": 27,
   "metadata": {},
   "outputs": [],
   "source": [
    "data.loc[data[\"City\"] == \"Ishanabad\", \"City\"] = \"Others\"\n",
    "data.loc[data[\"City\"] == \"Gurgaon\", \"City\"] = \"Others\""
   ]
  },
  {
   "cell_type": "code",
   "execution_count": 28,
   "metadata": {},
   "outputs": [
    {
     "name": "stdout",
     "output_type": "stream",
     "text": [
      "City\n",
      "Hyderabad        27.513345\n",
      "Thane            24.224761\n",
      "Bhopal           23.251799\n",
      "Ahmedabad        21.788705\n",
      "Lucknow          21.401869\n",
      "Srinagar         21.166732\n",
      "Surat            20.189819\n",
      "Kalyan           19.963592\n",
      "Vasai-Virar      19.791847\n",
      "Others           19.565217\n",
      "Ghaziabad        19.524993\n",
      "Chennai          19.436202\n",
      "Ludhiana         19.269039\n",
      "Agra             19.235696\n",
      "Delhi            19.170840\n",
      "Jaipur           18.137708\n",
      "Bangalore        17.560029\n",
      "Kolkata          17.357695\n",
      "Rajkot           17.322835\n",
      "Vadodara         16.768827\n",
      "Patna            16.323430\n",
      "Pune             16.103647\n",
      "Indore           16.091954\n",
      "Visakhapatnam    15.919629\n",
      "Nashik           15.871501\n",
      "Faridabad        14.687882\n",
      "Nagpur           14.492754\n",
      "Varanasi         14.220582\n",
      "Meerut           13.404486\n",
      "Mumbai           13.129279\n",
      "Kanpur           12.573897\n",
      "Name: Depression, dtype: float64\n"
     ]
    },
    {
     "data": {
      "image/png": "[encoded data removed]",
      "text/plain": [
       "<Figure size 1000x800 with 1 Axes>"
      ]
     },
     "metadata": {},
     "output_type": "display_data"
    }
   ],
   "source": [
    "depression_percentage = data.groupby(\"City\")[\"Depression\"].mean() * 100\n",
    "print(depression_percentage.sort_values(ascending=False))\n",
    "depression_percentage_sorted = depression_percentage.sort_values(ascending=False)\n",
    "plt.figure(figsize=(10, 8))\n",
    "sns.barplot(\n",
    "    y=depression_percentage_sorted.index,\n",
    "    x=depression_percentage_sorted.values,\n",
    "    palette=\"rocket\",\n",
    ")\n",
    "plt.title(\"Percentage of depressed for each City\")\n",
    "plt.show()"
   ]
  },
  {
   "cell_type": "markdown",
   "metadata": {},
   "source": [
    "Performing mean encoding for the city column"
   ]
  },
  {
   "cell_type": "code",
   "execution_count": 29,
   "metadata": {},
   "outputs": [],
   "source": [
    "city_mean_encoded = data.groupby(\"City\")[\"Depression\"].mean()\n",
    "data[\"City_encoded\"] = data[\"City\"].map(city_mean_encoded)"
   ]
  },
  {
   "cell_type": "code",
   "execution_count": 30,
   "metadata": {},
   "outputs": [],
   "source": [
    "data = data.drop([\"City\"], axis=1)"
   ]
  },
  {
   "cell_type": "code",
   "execution_count": 31,
   "metadata": {},
   "outputs": [
    {
     "name": "stdout",
     "output_type": "stream",
     "text": [
      "Null values in Working Professional or Student column are = 0\n"
     ]
    }
   ],
   "source": [
    "## Working Professional or Student\n",
    "return_null_values(\"Working Professional or Student\")"
   ]
  },
  {
   "cell_type": "code",
   "execution_count": 32,
   "metadata": {},
   "outputs": [
    {
     "name": "stdout",
     "output_type": "stream",
     "text": [
      "Count of unique values in Working Professional or Student column are:\n",
      " Working Professional or Student\n",
      "Working Professional    112799\n",
      "Student                  27901\n",
      "Name: count, dtype: int64\n"
     ]
    }
   ],
   "source": [
    "return_value_counts(\"Working Professional or Student\")"
   ]
  },
  {
   "cell_type": "code",
   "execution_count": 33,
   "metadata": {},
   "outputs": [],
   "source": [
    "data[\"Student\"] = data[\n",
    "    \"Working Professional or Student\"\n",
    "].map({\"Working Professional\": 0, \"Student\": 1})"
   ]
  },
  {
   "cell_type": "code",
   "execution_count": 34,
   "metadata": {},
   "outputs": [],
   "source": [
    "data = data.drop(\"Working Professional or Student\", axis=1)"
   ]
  },
  {
   "cell_type": "code",
   "execution_count": 35,
   "metadata": {},
   "outputs": [
    {
     "name": "stdout",
     "output_type": "stream",
     "text": [
      "Null values in Profession column are = 36630\n",
      "Count of unique values in Profession column are:\n",
      " Profession\n",
      "Teacher           24906\n",
      "Content Writer     7814\n",
      "Architect          4370\n",
      "Consultant         4229\n",
      "HR Manager         4022\n",
      "                  ...  \n",
      "BBA                   1\n",
      "City Manager          1\n",
      "FamilyVirar           1\n",
      "B.Com                 1\n",
      "Yuvraj                1\n",
      "Name: count, Length: 64, dtype: int64\n"
     ]
    }
   ],
   "source": [
    "### Profession\n",
    "return_null_values(\"Profession\")\n",
    "return_value_counts(\"Profession\")"
   ]
  },
  {
   "cell_type": "code",
   "execution_count": 36,
   "metadata": {},
   "outputs": [
    {
     "data": {
      "text/html": [
       "<div>\n",
       "<style scoped>\n",
       "    .dataframe tbody tr th:only-of-type {\n",
       "        vertical-align: middle;\n",
       "    }\n",
       "\n",
       "    .dataframe tbody tr th {\n",
       "        vertical-align: top;\n",
       "    }\n",
       "\n",
       "    .dataframe thead th {\n",
       "        text-align: right;\n",
       "    }\n",
       "</style>\n",
       "<table border=\"1\" class=\"dataframe\">\n",
       "  <thead>\n",
       "    <tr style=\"text-align: right;\">\n",
       "      <th></th>\n",
       "      <th>Profession</th>\n",
       "      <th>Academic Pressure</th>\n",
       "      <th>Work Pressure</th>\n",
       "      <th>CGPA</th>\n",
       "      <th>Study Satisfaction</th>\n",
       "      <th>Job Satisfaction</th>\n",
       "      <th>Sleep Duration</th>\n",
       "      <th>Dietary Habits</th>\n",
       "      <th>Degree</th>\n",
       "      <th>Have you ever had suicidal thoughts ?</th>\n",
       "      <th>Work/Study Hours</th>\n",
       "      <th>Financial Stress</th>\n",
       "      <th>Family History of Mental Illness</th>\n",
       "      <th>Depression</th>\n",
       "      <th>Gender_Female</th>\n",
       "      <th>Gender_Male</th>\n",
       "      <th>Age_Group</th>\n",
       "      <th>City_encoded</th>\n",
       "      <th>Student</th>\n",
       "    </tr>\n",
       "  </thead>\n",
       "  <tbody>\n",
       "    <tr>\n",
       "      <th>322</th>\n",
       "      <td>Unemployed</td>\n",
       "      <td>NaN</td>\n",
       "      <td>1.0</td>\n",
       "      <td>NaN</td>\n",
       "      <td>NaN</td>\n",
       "      <td>5.0</td>\n",
       "      <td>5-6 hours</td>\n",
       "      <td>Unhealthy</td>\n",
       "      <td>B.Pharm</td>\n",
       "      <td>No</td>\n",
       "      <td>4.0</td>\n",
       "      <td>3.0</td>\n",
       "      <td>Yes</td>\n",
       "      <td>0</td>\n",
       "      <td>0.0</td>\n",
       "      <td>1.0</td>\n",
       "      <td>4</td>\n",
       "      <td>0.131293</td>\n",
       "      <td>0</td>\n",
       "    </tr>\n",
       "    <tr>\n",
       "      <th>78938</th>\n",
       "      <td>Unemployed</td>\n",
       "      <td>NaN</td>\n",
       "      <td>1.0</td>\n",
       "      <td>NaN</td>\n",
       "      <td>NaN</td>\n",
       "      <td>4.0</td>\n",
       "      <td>7-8 hours</td>\n",
       "      <td>Unhealthy</td>\n",
       "      <td>BBA</td>\n",
       "      <td>Yes</td>\n",
       "      <td>5.0</td>\n",
       "      <td>5.0</td>\n",
       "      <td>Yes</td>\n",
       "      <td>1</td>\n",
       "      <td>0.0</td>\n",
       "      <td>1.0</td>\n",
       "      <td>0</td>\n",
       "      <td>0.199636</td>\n",
       "      <td>0</td>\n",
       "    </tr>\n",
       "    <tr>\n",
       "      <th>115614</th>\n",
       "      <td>Unemployed</td>\n",
       "      <td>NaN</td>\n",
       "      <td>3.0</td>\n",
       "      <td>NaN</td>\n",
       "      <td>NaN</td>\n",
       "      <td>4.0</td>\n",
       "      <td>Less than 5 hours</td>\n",
       "      <td>Moderate</td>\n",
       "      <td>MSc</td>\n",
       "      <td>Yes</td>\n",
       "      <td>10.0</td>\n",
       "      <td>4.0</td>\n",
       "      <td>Yes</td>\n",
       "      <td>0</td>\n",
       "      <td>1.0</td>\n",
       "      <td>0.0</td>\n",
       "      <td>2</td>\n",
       "      <td>0.142206</td>\n",
       "      <td>0</td>\n",
       "    </tr>\n",
       "  </tbody>\n",
       "</table>\n",
       "</div>"
      ],
      "text/plain": [
       "        Profession  Academic Pressure  Work Pressure  CGPA  \\\n",
       "322     Unemployed                NaN            1.0   NaN   \n",
       "78938   Unemployed                NaN            1.0   NaN   \n",
       "115614  Unemployed                NaN            3.0   NaN   \n",
       "\n",
       "        Study Satisfaction  Job Satisfaction     Sleep Duration  \\\n",
       "322                    NaN               5.0          5-6 hours   \n",
       "78938                  NaN               4.0          7-8 hours   \n",
       "115614                 NaN               4.0  Less than 5 hours   \n",
       "\n",
       "       Dietary Habits   Degree Have you ever had suicidal thoughts ?  \\\n",
       "322         Unhealthy  B.Pharm                                    No   \n",
       "78938       Unhealthy      BBA                                   Yes   \n",
       "115614       Moderate      MSc                                   Yes   \n",
       "\n",
       "        Work/Study Hours  Financial Stress Family History of Mental Illness  \\\n",
       "322                  4.0               3.0                              Yes   \n",
       "78938                5.0               5.0                              Yes   \n",
       "115614              10.0               4.0                              Yes   \n",
       "\n",
       "        Depression  Gender_Female  Gender_Male Age_Group  City_encoded  \\\n",
       "322              0            0.0          1.0         4      0.131293   \n",
       "78938            1            0.0          1.0         0      0.199636   \n",
       "115614           0            1.0          0.0         2      0.142206   \n",
       "\n",
       "        Student  \n",
       "322           0  \n",
       "78938         0  \n",
       "115614        0  "
      ]
     },
     "execution_count": 36,
     "metadata": {},
     "output_type": "execute_result"
    }
   ],
   "source": [
    "data[data[\"Profession\"] == \"Unemployed\"]"
   ]
  },
  {
   "cell_type": "code",
   "execution_count": 37,
   "metadata": {},
   "outputs": [
    {
     "data": {
      "text/html": [
       "<div>\n",
       "<style scoped>\n",
       "    .dataframe tbody tr th:only-of-type {\n",
       "        vertical-align: middle;\n",
       "    }\n",
       "\n",
       "    .dataframe tbody tr th {\n",
       "        vertical-align: top;\n",
       "    }\n",
       "\n",
       "    .dataframe thead th {\n",
       "        text-align: right;\n",
       "    }\n",
       "</style>\n",
       "<table border=\"1\" class=\"dataframe\">\n",
       "  <thead>\n",
       "    <tr style=\"text-align: right;\">\n",
       "      <th></th>\n",
       "      <th>Profession</th>\n",
       "      <th>Student</th>\n",
       "    </tr>\n",
       "  </thead>\n",
       "  <tbody>\n",
       "    <tr>\n",
       "      <th>2</th>\n",
       "      <td>NaN</td>\n",
       "      <td>1</td>\n",
       "    </tr>\n",
       "    <tr>\n",
       "      <th>8</th>\n",
       "      <td>NaN</td>\n",
       "      <td>1</td>\n",
       "    </tr>\n",
       "    <tr>\n",
       "      <th>26</th>\n",
       "      <td>NaN</td>\n",
       "      <td>1</td>\n",
       "    </tr>\n",
       "    <tr>\n",
       "      <th>29</th>\n",
       "      <td>NaN</td>\n",
       "      <td>0</td>\n",
       "    </tr>\n",
       "    <tr>\n",
       "      <th>30</th>\n",
       "      <td>NaN</td>\n",
       "      <td>1</td>\n",
       "    </tr>\n",
       "  </tbody>\n",
       "</table>\n",
       "</div>"
      ],
      "text/plain": [
       "   Profession  Student\n",
       "2         NaN        1\n",
       "8         NaN        1\n",
       "26        NaN        1\n",
       "29        NaN        0\n",
       "30        NaN        1"
      ]
     },
     "execution_count": 37,
     "metadata": {},
     "output_type": "execute_result"
    }
   ],
   "source": [
    "null_profession = data[data[\"Profession\"].isnull()][[\"Profession\", \"Student\"]]\n",
    "null_profession.head()"
   ]
  },
  {
   "cell_type": "code",
   "execution_count": 38,
   "metadata": {},
   "outputs": [
    {
     "data": {
      "text/plain": [
       "Student\n",
       "1    27867\n",
       "0     8763\n",
       "Name: count, dtype: int64"
      ]
     },
     "execution_count": 38,
     "metadata": {},
     "output_type": "execute_result"
    }
   ],
   "source": [
    "null_profession[\"Student\"].value_counts()"
   ]
  },
  {
   "cell_type": "markdown",
   "metadata": {},
   "source": [
    "Replace all the null values who are Students with \"Student\" as their profession"
   ]
  },
  {
   "cell_type": "code",
   "execution_count": 39,
   "metadata": {},
   "outputs": [],
   "source": [
    "data.loc[\n",
    "    (data[\"Profession\"].isnull())\n",
    "    & (data[\"Student\"] == 1),\n",
    "    \"Profession\",\n",
    "] = \"Student\""
   ]
  },
  {
   "cell_type": "markdown",
   "metadata": {},
   "source": [
    "For the rest of null values, we can replace with unemployed as they are Working Professionals."
   ]
  },
  {
   "cell_type": "code",
   "execution_count": 40,
   "metadata": {},
   "outputs": [],
   "source": [
    "data.loc[data[\"Profession\"].isnull(), \"Profession\"] = \"Unemployed\""
   ]
  },
  {
   "cell_type": "code",
   "execution_count": 41,
   "metadata": {},
   "outputs": [
    {
     "data": {
      "text/plain": [
       "array(['Chef', 'Teacher', 'Student', 'Business Analyst',\n",
       "       'Finanancial Analyst', 'Chemist', 'Electrician',\n",
       "       'Software Engineer', 'Data Scientist', 'Plumber',\n",
       "       'Marketing Manager', 'Accountant', 'Entrepreneur', 'HR Manager',\n",
       "       'UX/UI Designer', 'Content Writer', 'Unemployed',\n",
       "       'Educational Consultant', 'Civil Engineer', 'Manager',\n",
       "       'Pharmacist', 'Financial Analyst', 'Architect',\n",
       "       'Mechanical Engineer', 'Customer Support', 'Consultant', 'Judge',\n",
       "       'Researcher', 'Pilot', 'Graphic Designer', 'Travel Consultant',\n",
       "       'Digital Marketer', 'Lawyer', 'Research Analyst',\n",
       "       'Sales Executive', 'Doctor', 'Investment Banker',\n",
       "       'Family Consultant', 'B.Com', 'BE', 'Yogesh', 'Dev', 'MBA', 'LLM',\n",
       "       'BCA', 'Academic', 'Profession', 'FamilyVirar', 'City Manager',\n",
       "       'BBA', 'Medical Doctor', 'Working Professional', 'MBBS', 'Patna',\n",
       "       'Unveil', 'B.Ed', 'Nagpur', 'Moderate', 'M.Ed', 'Analyst',\n",
       "       'Pranav', 'Visakhapatnam', 'PhD', 'Yuvraj'], dtype=object)"
      ]
     },
     "execution_count": 41,
     "metadata": {},
     "output_type": "execute_result"
    }
   ],
   "source": [
    "data[\"Profession\"].unique()"
   ]
  },
  {
   "cell_type": "code",
   "execution_count": 42,
   "metadata": {},
   "outputs": [],
   "source": [
    "data.loc[data[\"Profession\"]==\"Finanancial Analyst\", \"Profession\"] = \"Financial Analyst\"\n",
    "data.loc[data[\"Profession\"]==\"Dev\", \"Profession\"] = \"Software Engineer\"\n",
    "data.loc[data[\"Profession\"]==\"City Manager\", \"Profession\"] = \"Manager\"\n",
    "data.loc[data[\"Profession\"]==\"Analyst\", \"Profession\"] = \"Business Analyst\""
   ]
  },
  {
   "cell_type": "code",
   "execution_count": 43,
   "metadata": {},
   "outputs": [],
   "source": [
    "data.loc[data[\"Profession\"]==\"Medical Doctor\", \"Profession\"] = \"Doctor\""
   ]
  },
  {
   "cell_type": "code",
   "execution_count": 44,
   "metadata": {},
   "outputs": [],
   "source": [
    "profession_to_change = [\n",
    "    \"B.Com\",\n",
    "    \"BE\",\n",
    "    \"Yogesh\",\n",
    "    \"MBA\",\n",
    "    \"LLM\",\n",
    "    \"BCA\",\n",
    "    \"Academic\",\n",
    "    \"Profession\",\n",
    "    \"FamilyVirar\",\n",
    "    \"BBA\",\n",
    "    \"Working Professional\",\n",
    "    \"MBBS\",\n",
    "    \"Patna\",\n",
    "    \"Unveil\",\n",
    "    \"B.Ed\",\n",
    "    \"Nagpur\",\n",
    "    \"Moderate\",\n",
    "    \"M.Ed\",\n",
    "    \"Pranav\",\n",
    "    \"Visakhapatnam\",\n",
    "    \"PhD\",\n",
    "    \"Yuvraj\",\n",
    "]"
   ]
  },
  {
   "cell_type": "code",
   "execution_count": 45,
   "metadata": {},
   "outputs": [
    {
     "data": {
      "text/html": [
       "<div>\n",
       "<style scoped>\n",
       "    .dataframe tbody tr th:only-of-type {\n",
       "        vertical-align: middle;\n",
       "    }\n",
       "\n",
       "    .dataframe tbody tr th {\n",
       "        vertical-align: top;\n",
       "    }\n",
       "\n",
       "    .dataframe thead th {\n",
       "        text-align: right;\n",
       "    }\n",
       "</style>\n",
       "<table border=\"1\" class=\"dataframe\">\n",
       "  <thead>\n",
       "    <tr style=\"text-align: right;\">\n",
       "      <th></th>\n",
       "      <th>Profession</th>\n",
       "      <th>Depression</th>\n",
       "      <th>Student</th>\n",
       "      <th>Work Pressure</th>\n",
       "      <th>Job Satisfaction</th>\n",
       "    </tr>\n",
       "  </thead>\n",
       "  <tbody>\n",
       "    <tr>\n",
       "      <th>8957</th>\n",
       "      <td>B.Com</td>\n",
       "      <td>0</td>\n",
       "      <td>0</td>\n",
       "      <td>2.0</td>\n",
       "      <td>3.0</td>\n",
       "    </tr>\n",
       "    <tr>\n",
       "      <th>10782</th>\n",
       "      <td>BE</td>\n",
       "      <td>0</td>\n",
       "      <td>0</td>\n",
       "      <td>5.0</td>\n",
       "      <td>2.0</td>\n",
       "    </tr>\n",
       "    <tr>\n",
       "      <th>12526</th>\n",
       "      <td>Yogesh</td>\n",
       "      <td>1</td>\n",
       "      <td>0</td>\n",
       "      <td>4.0</td>\n",
       "      <td>1.0</td>\n",
       "    </tr>\n",
       "    <tr>\n",
       "      <th>14641</th>\n",
       "      <td>MBA</td>\n",
       "      <td>0</td>\n",
       "      <td>0</td>\n",
       "      <td>5.0</td>\n",
       "      <td>5.0</td>\n",
       "    </tr>\n",
       "    <tr>\n",
       "      <th>21693</th>\n",
       "      <td>LLM</td>\n",
       "      <td>0</td>\n",
       "      <td>0</td>\n",
       "      <td>2.0</td>\n",
       "      <td>3.0</td>\n",
       "    </tr>\n",
       "    <tr>\n",
       "      <th>22850</th>\n",
       "      <td>BCA</td>\n",
       "      <td>0</td>\n",
       "      <td>0</td>\n",
       "      <td>4.0</td>\n",
       "      <td>1.0</td>\n",
       "    </tr>\n",
       "    <tr>\n",
       "      <th>23789</th>\n",
       "      <td>Academic</td>\n",
       "      <td>0</td>\n",
       "      <td>0</td>\n",
       "      <td>4.0</td>\n",
       "      <td>2.0</td>\n",
       "    </tr>\n",
       "    <tr>\n",
       "      <th>24617</th>\n",
       "      <td>Profession</td>\n",
       "      <td>0</td>\n",
       "      <td>0</td>\n",
       "      <td>5.0</td>\n",
       "      <td>1.0</td>\n",
       "    </tr>\n",
       "    <tr>\n",
       "      <th>28927</th>\n",
       "      <td>Yogesh</td>\n",
       "      <td>1</td>\n",
       "      <td>0</td>\n",
       "      <td>5.0</td>\n",
       "      <td>1.0</td>\n",
       "    </tr>\n",
       "    <tr>\n",
       "      <th>29926</th>\n",
       "      <td>FamilyVirar</td>\n",
       "      <td>0</td>\n",
       "      <td>0</td>\n",
       "      <td>3.0</td>\n",
       "      <td>1.0</td>\n",
       "    </tr>\n",
       "    <tr>\n",
       "      <th>36398</th>\n",
       "      <td>Academic</td>\n",
       "      <td>0</td>\n",
       "      <td>0</td>\n",
       "      <td>2.0</td>\n",
       "      <td>1.0</td>\n",
       "    </tr>\n",
       "    <tr>\n",
       "      <th>37181</th>\n",
       "      <td>BBA</td>\n",
       "      <td>0</td>\n",
       "      <td>0</td>\n",
       "      <td>5.0</td>\n",
       "      <td>1.0</td>\n",
       "    </tr>\n",
       "    <tr>\n",
       "      <th>44829</th>\n",
       "      <td>Yogesh</td>\n",
       "      <td>0</td>\n",
       "      <td>0</td>\n",
       "      <td>3.0</td>\n",
       "      <td>4.0</td>\n",
       "    </tr>\n",
       "    <tr>\n",
       "      <th>45355</th>\n",
       "      <td>LLM</td>\n",
       "      <td>0</td>\n",
       "      <td>0</td>\n",
       "      <td>2.0</td>\n",
       "      <td>2.0</td>\n",
       "    </tr>\n",
       "    <tr>\n",
       "      <th>48607</th>\n",
       "      <td>Working Professional</td>\n",
       "      <td>0</td>\n",
       "      <td>0</td>\n",
       "      <td>2.0</td>\n",
       "      <td>4.0</td>\n",
       "    </tr>\n",
       "    <tr>\n",
       "      <th>51375</th>\n",
       "      <td>MBA</td>\n",
       "      <td>0</td>\n",
       "      <td>0</td>\n",
       "      <td>1.0</td>\n",
       "      <td>1.0</td>\n",
       "    </tr>\n",
       "    <tr>\n",
       "      <th>56846</th>\n",
       "      <td>MBBS</td>\n",
       "      <td>0</td>\n",
       "      <td>0</td>\n",
       "      <td>2.0</td>\n",
       "      <td>3.0</td>\n",
       "    </tr>\n",
       "    <tr>\n",
       "      <th>60931</th>\n",
       "      <td>Patna</td>\n",
       "      <td>0</td>\n",
       "      <td>0</td>\n",
       "      <td>3.0</td>\n",
       "      <td>3.0</td>\n",
       "    </tr>\n",
       "    <tr>\n",
       "      <th>65378</th>\n",
       "      <td>Unveil</td>\n",
       "      <td>0</td>\n",
       "      <td>0</td>\n",
       "      <td>1.0</td>\n",
       "      <td>1.0</td>\n",
       "    </tr>\n",
       "    <tr>\n",
       "      <th>73293</th>\n",
       "      <td>BCA</td>\n",
       "      <td>0</td>\n",
       "      <td>0</td>\n",
       "      <td>3.0</td>\n",
       "      <td>4.0</td>\n",
       "    </tr>\n",
       "    <tr>\n",
       "      <th>74718</th>\n",
       "      <td>BCA</td>\n",
       "      <td>0</td>\n",
       "      <td>0</td>\n",
       "      <td>1.0</td>\n",
       "      <td>2.0</td>\n",
       "    </tr>\n",
       "    <tr>\n",
       "      <th>77139</th>\n",
       "      <td>B.Ed</td>\n",
       "      <td>0</td>\n",
       "      <td>0</td>\n",
       "      <td>1.0</td>\n",
       "      <td>5.0</td>\n",
       "    </tr>\n",
       "    <tr>\n",
       "      <th>84949</th>\n",
       "      <td>Academic</td>\n",
       "      <td>0</td>\n",
       "      <td>0</td>\n",
       "      <td>4.0</td>\n",
       "      <td>2.0</td>\n",
       "    </tr>\n",
       "    <tr>\n",
       "      <th>92626</th>\n",
       "      <td>Academic</td>\n",
       "      <td>0</td>\n",
       "      <td>0</td>\n",
       "      <td>2.0</td>\n",
       "      <td>1.0</td>\n",
       "    </tr>\n",
       "    <tr>\n",
       "      <th>96034</th>\n",
       "      <td>Nagpur</td>\n",
       "      <td>0</td>\n",
       "      <td>0</td>\n",
       "      <td>1.0</td>\n",
       "      <td>4.0</td>\n",
       "    </tr>\n",
       "    <tr>\n",
       "      <th>96534</th>\n",
       "      <td>Moderate</td>\n",
       "      <td>1</td>\n",
       "      <td>0</td>\n",
       "      <td>5.0</td>\n",
       "      <td>1.0</td>\n",
       "    </tr>\n",
       "    <tr>\n",
       "      <th>97130</th>\n",
       "      <td>M.Ed</td>\n",
       "      <td>0</td>\n",
       "      <td>0</td>\n",
       "      <td>1.0</td>\n",
       "      <td>5.0</td>\n",
       "    </tr>\n",
       "    <tr>\n",
       "      <th>105507</th>\n",
       "      <td>Profession</td>\n",
       "      <td>0</td>\n",
       "      <td>0</td>\n",
       "      <td>3.0</td>\n",
       "      <td>5.0</td>\n",
       "    </tr>\n",
       "    <tr>\n",
       "      <th>120098</th>\n",
       "      <td>Pranav</td>\n",
       "      <td>0</td>\n",
       "      <td>0</td>\n",
       "      <td>2.0</td>\n",
       "      <td>3.0</td>\n",
       "    </tr>\n",
       "    <tr>\n",
       "      <th>121476</th>\n",
       "      <td>Academic</td>\n",
       "      <td>0</td>\n",
       "      <td>0</td>\n",
       "      <td>1.0</td>\n",
       "      <td>3.0</td>\n",
       "    </tr>\n",
       "    <tr>\n",
       "      <th>121697</th>\n",
       "      <td>Visakhapatnam</td>\n",
       "      <td>0</td>\n",
       "      <td>0</td>\n",
       "      <td>5.0</td>\n",
       "      <td>4.0</td>\n",
       "    </tr>\n",
       "    <tr>\n",
       "      <th>123191</th>\n",
       "      <td>Profession</td>\n",
       "      <td>0</td>\n",
       "      <td>0</td>\n",
       "      <td>2.0</td>\n",
       "      <td>3.0</td>\n",
       "    </tr>\n",
       "    <tr>\n",
       "      <th>123669</th>\n",
       "      <td>PhD</td>\n",
       "      <td>0</td>\n",
       "      <td>0</td>\n",
       "      <td>2.0</td>\n",
       "      <td>3.0</td>\n",
       "    </tr>\n",
       "    <tr>\n",
       "      <th>129275</th>\n",
       "      <td>Yuvraj</td>\n",
       "      <td>0</td>\n",
       "      <td>0</td>\n",
       "      <td>3.0</td>\n",
       "      <td>3.0</td>\n",
       "    </tr>\n",
       "    <tr>\n",
       "      <th>131669</th>\n",
       "      <td>PhD</td>\n",
       "      <td>0</td>\n",
       "      <td>0</td>\n",
       "      <td>4.0</td>\n",
       "      <td>3.0</td>\n",
       "    </tr>\n",
       "  </tbody>\n",
       "</table>\n",
       "</div>"
      ],
      "text/plain": [
       "                  Profession  Depression  Student  Work Pressure  \\\n",
       "8957                   B.Com           0        0            2.0   \n",
       "10782                     BE           0        0            5.0   \n",
       "12526                 Yogesh           1        0            4.0   \n",
       "14641                    MBA           0        0            5.0   \n",
       "21693                    LLM           0        0            2.0   \n",
       "22850                    BCA           0        0            4.0   \n",
       "23789               Academic           0        0            4.0   \n",
       "24617             Profession           0        0            5.0   \n",
       "28927                 Yogesh           1        0            5.0   \n",
       "29926            FamilyVirar           0        0            3.0   \n",
       "36398               Academic           0        0            2.0   \n",
       "37181                    BBA           0        0            5.0   \n",
       "44829                 Yogesh           0        0            3.0   \n",
       "45355                    LLM           0        0            2.0   \n",
       "48607   Working Professional           0        0            2.0   \n",
       "51375                    MBA           0        0            1.0   \n",
       "56846                   MBBS           0        0            2.0   \n",
       "60931                  Patna           0        0            3.0   \n",
       "65378                 Unveil           0        0            1.0   \n",
       "73293                    BCA           0        0            3.0   \n",
       "74718                    BCA           0        0            1.0   \n",
       "77139                   B.Ed           0        0            1.0   \n",
       "84949               Academic           0        0            4.0   \n",
       "92626               Academic           0        0            2.0   \n",
       "96034                 Nagpur           0        0            1.0   \n",
       "96534               Moderate           1        0            5.0   \n",
       "97130                   M.Ed           0        0            1.0   \n",
       "105507            Profession           0        0            3.0   \n",
       "120098                Pranav           0        0            2.0   \n",
       "121476              Academic           0        0            1.0   \n",
       "121697         Visakhapatnam           0        0            5.0   \n",
       "123191            Profession           0        0            2.0   \n",
       "123669                   PhD           0        0            2.0   \n",
       "129275                Yuvraj           0        0            3.0   \n",
       "131669                   PhD           0        0            4.0   \n",
       "\n",
       "        Job Satisfaction  \n",
       "8957                 3.0  \n",
       "10782                2.0  \n",
       "12526                1.0  \n",
       "14641                5.0  \n",
       "21693                3.0  \n",
       "22850                1.0  \n",
       "23789                2.0  \n",
       "24617                1.0  \n",
       "28927                1.0  \n",
       "29926                1.0  \n",
       "36398                1.0  \n",
       "37181                1.0  \n",
       "44829                4.0  \n",
       "45355                2.0  \n",
       "48607                4.0  \n",
       "51375                1.0  \n",
       "56846                3.0  \n",
       "60931                3.0  \n",
       "65378                1.0  \n",
       "73293                4.0  \n",
       "74718                2.0  \n",
       "77139                5.0  \n",
       "84949                2.0  \n",
       "92626                1.0  \n",
       "96034                4.0  \n",
       "96534                1.0  \n",
       "97130                5.0  \n",
       "105507               5.0  \n",
       "120098               3.0  \n",
       "121476               3.0  \n",
       "121697               4.0  \n",
       "123191               3.0  \n",
       "123669               3.0  \n",
       "129275               3.0  \n",
       "131669               3.0  "
      ]
     },
     "execution_count": 45,
     "metadata": {},
     "output_type": "execute_result"
    }
   ],
   "source": [
    "data[data[\"Profession\"].isin(profession_to_change)][\n",
    "    [\n",
    "        \"Profession\",\n",
    "        \"Depression\",\n",
    "        \"Student\",\n",
    "        \"Work Pressure\",\n",
    "        \"Job Satisfaction\",\n",
    "    ]\n",
    "]"
   ]
  },
  {
   "cell_type": "code",
   "execution_count": 46,
   "metadata": {},
   "outputs": [],
   "source": [
    "data.loc[data[\"Profession\"].isin(profession_to_change), \"Profession\"] = \"Others\""
   ]
  },
  {
   "cell_type": "code",
   "execution_count": 47,
   "metadata": {},
   "outputs": [
    {
     "data": {
      "text/plain": [
       "array(['Chef', 'Teacher', 'Student', 'Business Analyst',\n",
       "       'Financial Analyst', 'Chemist', 'Electrician', 'Software Engineer',\n",
       "       'Data Scientist', 'Plumber', 'Marketing Manager', 'Accountant',\n",
       "       'Entrepreneur', 'HR Manager', 'UX/UI Designer', 'Content Writer',\n",
       "       'Unemployed', 'Educational Consultant', 'Civil Engineer',\n",
       "       'Manager', 'Pharmacist', 'Architect', 'Mechanical Engineer',\n",
       "       'Customer Support', 'Consultant', 'Judge', 'Researcher', 'Pilot',\n",
       "       'Graphic Designer', 'Travel Consultant', 'Digital Marketer',\n",
       "       'Lawyer', 'Research Analyst', 'Sales Executive', 'Doctor',\n",
       "       'Investment Banker', 'Family Consultant', 'Others'], dtype=object)"
      ]
     },
     "execution_count": 47,
     "metadata": {},
     "output_type": "execute_result"
    }
   ],
   "source": [
    "data[\"Profession\"].unique()"
   ]
  },
  {
   "cell_type": "code",
   "execution_count": 48,
   "metadata": {},
   "outputs": [
    {
     "data": {
      "image/png": "[encoded data removed]",
      "text/plain": [
       "<Figure size 1000x1200 with 1 Axes>"
      ]
     },
     "metadata": {},
     "output_type": "display_data"
    }
   ],
   "source": [
    "depression_percentage = data.groupby(\"Profession\")[\"Depression\"].mean() * 100\n",
    "depression_percentage_sorted = depression_percentage.sort_values(ascending=False)\n",
    "plt.figure(figsize=(10, 12))\n",
    "sns.barplot(\n",
    "    y=depression_percentage_sorted.index,\n",
    "    x=depression_percentage_sorted.values,\n",
    "    palette=\"rocket\",\n",
    ")\n",
    "plt.title(\"Percentage of depressed for each Profession\")\n",
    "plt.show()"
   ]
  },
  {
   "cell_type": "code",
   "execution_count": 49,
   "metadata": {},
   "outputs": [
    {
     "data": {
      "text/plain": [
       "Profession\n",
       "Student                   58.506135\n",
       "Unemployed                37.508556\n",
       "Graphic Designer          18.572657\n",
       "Judge                     10.864486\n",
       "HR Manager                10.691198\n",
       "Mechanical Engineer       10.110450\n",
       "Architect                  9.908467\n",
       "Others                     8.571429\n",
       "Manager                    8.170311\n",
       "Civil Engineer             8.095238\n",
       "Data Scientist             7.782427\n",
       "Lawyer                     7.504521\n",
       "Educational Consultant     7.468443\n",
       "Investment Banker          7.124682\n",
       "Accountant                 6.422704\n",
       "Plumber                    6.407323\n",
       "Financial Analyst          6.407165\n",
       "Research Analyst           6.231884\n",
       "Software Engineer          6.154864\n",
       "Business Analyst           5.660974\n",
       "Teacher                    5.564924\n",
       "Doctor                     5.282555\n",
       "Pilot                      5.122844\n",
       "Marketing Manager          5.060729\n",
       "Chef                       4.856744\n",
       "Sales Executive            4.715354\n",
       "Consultant                 4.705604\n",
       "Travel Consultant          4.623656\n",
       "Customer Support           4.525547\n",
       "Digital Marketer           4.518950\n",
       "Electrician                4.171934\n",
       "Researcher                 4.037801\n",
       "UX/UI Designer             3.994490\n",
       "Chemist                    2.831143\n",
       "Pharmacist                 2.671462\n",
       "Entrepreneur               2.088949\n",
       "Content Writer             1.868441\n",
       "Family Consultant          0.000000\n",
       "Name: Depression, dtype: float64"
      ]
     },
     "execution_count": 49,
     "metadata": {},
     "output_type": "execute_result"
    }
   ],
   "source": [
    "depression_percentage_sorted"
   ]
  },
  {
   "cell_type": "code",
   "execution_count": 50,
   "metadata": {},
   "outputs": [],
   "source": [
    "## combine family consultant to others\n",
    "data.loc[data[\"Profession\"] == \"Family Consultant\", \"Profession\"] = \"Others\""
   ]
  },
  {
   "cell_type": "code",
   "execution_count": 51,
   "metadata": {},
   "outputs": [],
   "source": [
    "profession_mean_encoded = data.groupby(\"Profession\")[\"Depression\"].mean()\n",
    "data[\"Profession_encoded\"] = data[\"Profession\"].map(profession_mean_encoded)"
   ]
  },
  {
   "cell_type": "code",
   "execution_count": 52,
   "metadata": {},
   "outputs": [],
   "source": [
    "data = data.drop([\"Profession\"], axis=1)"
   ]
  },
  {
   "cell_type": "code",
   "execution_count": 53,
   "metadata": {},
   "outputs": [
    {
     "name": "stdout",
     "output_type": "stream",
     "text": [
      "Null values in Work Pressure column are = 27918\n"
     ]
    }
   ],
   "source": [
    "return_null_values(\"Work Pressure\")"
   ]
  },
  {
   "cell_type": "code",
   "execution_count": 54,
   "metadata": {},
   "outputs": [],
   "source": [
    "## Academic Pressure and Work Pressure\n",
    "data[\"Work Pressure\"].fillna(data[\"Academic Pressure\"], inplace=True)"
   ]
  },
  {
   "cell_type": "code",
   "execution_count": 55,
   "metadata": {},
   "outputs": [
    {
     "name": "stdout",
     "output_type": "stream",
     "text": [
      "Null values in Work Pressure column are = 21\n"
     ]
    }
   ],
   "source": [
    "return_null_values(\"Work Pressure\")"
   ]
  },
  {
   "cell_type": "code",
   "execution_count": 56,
   "metadata": {},
   "outputs": [
    {
     "data": {
      "text/plain": [
       "3.0"
      ]
     },
     "execution_count": 56,
     "metadata": {},
     "output_type": "execute_result"
    }
   ],
   "source": [
    "median_pressure = data[\"Work Pressure\"].median()\n",
    "median_pressure"
   ]
  },
  {
   "cell_type": "code",
   "execution_count": 57,
   "metadata": {},
   "outputs": [],
   "source": [
    "## Replacing rest null values with median\n",
    "data[\"Work Pressure\"].fillna(median_pressure, inplace=True)"
   ]
  },
  {
   "cell_type": "code",
   "execution_count": 58,
   "metadata": {},
   "outputs": [],
   "source": [
    "data = data.drop([\"Academic Pressure\"], axis=1)"
   ]
  },
  {
   "cell_type": "code",
   "execution_count": 59,
   "metadata": {},
   "outputs": [
    {
     "name": "stdout",
     "output_type": "stream",
     "text": [
      "Median Satisfaction = 3.0\n"
     ]
    }
   ],
   "source": [
    "## Study Satisfaction and Job Satisfaction\n",
    "data[\"Job Satisfaction\"].fillna(data[\"Study Satisfaction\"], inplace=True)\n",
    "median_satisfaction = data[\"Job Satisfaction\"].median()\n",
    "print(\"Median Satisfaction =\", median_satisfaction)\n",
    "data[\"Job Satisfaction\"].fillna(median_satisfaction, inplace=True)\n",
    "data = data.drop([\"Study Satisfaction\"], axis=1)"
   ]
  },
  {
   "cell_type": "code",
   "execution_count": 60,
   "metadata": {},
   "outputs": [
    {
     "name": "stdout",
     "output_type": "stream",
     "text": [
      "Null values in CGPA column are = 112802\n"
     ]
    }
   ],
   "source": [
    "## CGPA\n",
    "return_null_values(\"CGPA\")"
   ]
  },
  {
   "cell_type": "code",
   "execution_count": 61,
   "metadata": {},
   "outputs": [],
   "source": [
    "data[\"CGPA\"].fillna(-1, inplace=True)"
   ]
  },
  {
   "cell_type": "code",
   "execution_count": 62,
   "metadata": {},
   "outputs": [],
   "source": [
    "data[\"CGPA\"] = np.round(data[\"CGPA\"])"
   ]
  },
  {
   "cell_type": "code",
   "execution_count": 63,
   "metadata": {},
   "outputs": [
    {
     "name": "stdout",
     "output_type": "stream",
     "text": [
      "Null values in Sleep Duration column are = 0\n"
     ]
    }
   ],
   "source": [
    "## Sleep Duration\n",
    "return_null_values(\"Sleep Duration\")"
   ]
  },
  {
   "cell_type": "code",
   "execution_count": 64,
   "metadata": {},
   "outputs": [
    {
     "name": "stdout",
     "output_type": "stream",
     "text": [
      "Count of unique values in Sleep Duration column are:\n",
      " Sleep Duration\n",
      "Less than 5 hours    38784\n",
      "7-8 hours            36969\n",
      "More than 8 hours    32726\n",
      "5-6 hours            32142\n",
      "3-4 hours               12\n",
      "6-7 hours                8\n",
      "4-5 hours                7\n",
      "2-3 hours                5\n",
      "4-6 hours                5\n",
      "6-8 hours                4\n",
      "1-6 hours                4\n",
      "No                       4\n",
      "9-11 hours               2\n",
      "10-11 hours              2\n",
      "Sleep_Duration           2\n",
      "Unhealthy                2\n",
      "45                       2\n",
      "8-9 hours                2\n",
      "10-6 hours               1\n",
      "9-5                      1\n",
      "45-48 hours              1\n",
      "3-6 hours                1\n",
      "Work_Study_Hours         1\n",
      "49 hours                 1\n",
      "than 5 hours             1\n",
      "Pune                     1\n",
      "9-6 hours                1\n",
      "8 hours                  1\n",
      "35-36 hours              1\n",
      "Indore                   1\n",
      "1-3 hours                1\n",
      "55-66 hours              1\n",
      "Moderate                 1\n",
      "40-45 hours              1\n",
      "1-2 hours                1\n",
      "9-5 hours                1\n",
      "Name: count, dtype: int64\n"
     ]
    }
   ],
   "source": [
    "return_value_counts(\"Sleep Duration\")"
   ]
  },
  {
   "cell_type": "code",
   "execution_count": 65,
   "metadata": {},
   "outputs": [
    {
     "data": {
      "text/plain": [
       "array(['More than 8 hours', 'Less than 5 hours', '5-6 hours', '7-8 hours',\n",
       "       'Sleep_Duration', '1-2 hours', '6-8 hours', '4-6 hours',\n",
       "       '6-7 hours', '10-11 hours', '8-9 hours', '40-45 hours',\n",
       "       '9-11 hours', '2-3 hours', '3-4 hours', 'Moderate', '55-66 hours',\n",
       "       '4-5 hours', '9-6 hours', '1-3 hours', 'Indore', '45', '1-6 hours',\n",
       "       '35-36 hours', '8 hours', 'No', '10-6 hours', 'than 5 hours',\n",
       "       '49 hours', 'Unhealthy', 'Work_Study_Hours', '3-6 hours',\n",
       "       '45-48 hours', '9-5', 'Pune', '9-5 hours'], dtype=object)"
      ]
     },
     "execution_count": 65,
     "metadata": {},
     "output_type": "execute_result"
    }
   ],
   "source": [
    "data[\"Sleep Duration\"].unique()"
   ]
  },
  {
   "cell_type": "code",
   "execution_count": 66,
   "metadata": {},
   "outputs": [],
   "source": [
    "sleep_duration = {\n",
    "    \"More than 8 hours\": 8,\n",
    "    \"5-6 hours\": 6,\n",
    "    \"7-8 hours\": 8,\n",
    "    \"1-2 hours\": 5, ## less than 5\n",
    "    \"6-8 hours\": 7,\n",
    "    \"4-6 hours\": 5,\n",
    "    \"6-7 hours\": 7,\n",
    "    \"10-11 hours\": 8,  ## more than 8\n",
    "    \"8-9 hours\": 8,  ## more than 8\n",
    "    \"40-45 hours\": 6,  ## weekly\n",
    "    \"9-11 hours\": 8,  ## more than 8\n",
    "    \"2-3 hours\": 5,  ## less than 5\n",
    "    \"3-4 hours\": 5,  ## less than 5\n",
    "    \"Moderate\": 7,\n",
    "    \"55-66 hours\": 8,  ## weekly\n",
    "    \"4-5 hours\": 5,  ## less than 5\n",
    "    \"9-6 hours\": 8,\n",
    "    \"1-3 hours\": 5,  ## less than 5\n",
    "    \"45\": 6,\n",
    "    \"1-6 hours\": 6,\n",
    "    \"35-36 hours\": 5,  ## less than 5\n",
    "    \"8 hours\": 8,\n",
    "    \"10-6 hours\": 8,\n",
    "    \"than 5 hours\": 5,\n",
    "    \"49 hours\": 7,  ## weekly\n",
    "    \"3-6 hours\": 5,\n",
    "    \"45-48 hours\": 7,  ## weekly\n",
    "    \"9-5\": 7,\n",
    "    \"9-5 hours\": 7,\n",
    "    \"Less than 5 hours\": 5,\n",
    "}"
   ]
  },
  {
   "cell_type": "code",
   "execution_count": 67,
   "metadata": {},
   "outputs": [],
   "source": [
    "data[\"Sleep Duration\"] = data[\"Sleep Duration\"].map(sleep_duration)"
   ]
  },
  {
   "cell_type": "code",
   "execution_count": 68,
   "metadata": {},
   "outputs": [
    {
     "name": "stdout",
     "output_type": "stream",
     "text": [
      "Count of unique values in Sleep Duration column are:\n",
      " Sleep Duration\n",
      "8.0    69705\n",
      "5.0    38818\n",
      "6.0    32149\n",
      "7.0       17\n",
      "Name: count, dtype: int64\n"
     ]
    }
   ],
   "source": [
    "return_value_counts(\"Sleep Duration\")"
   ]
  },
  {
   "cell_type": "code",
   "execution_count": 69,
   "metadata": {},
   "outputs": [
    {
     "name": "stdout",
     "output_type": "stream",
     "text": [
      "Null values in Sleep Duration column are = 11\n"
     ]
    }
   ],
   "source": [
    "return_null_values(\"Sleep Duration\")"
   ]
  },
  {
   "cell_type": "code",
   "execution_count": 70,
   "metadata": {},
   "outputs": [
    {
     "data": {
      "text/plain": [
       "8.0"
      ]
     },
     "execution_count": 70,
     "metadata": {},
     "output_type": "execute_result"
    }
   ],
   "source": [
    "sleep_mode = data[\"Sleep Duration\"].mode()[0]\n",
    "sleep_mode"
   ]
  },
  {
   "cell_type": "code",
   "execution_count": 71,
   "metadata": {},
   "outputs": [],
   "source": [
    "data[\"Sleep Duration\"].fillna(sleep_mode, inplace=True)"
   ]
  },
  {
   "cell_type": "code",
   "execution_count": 72,
   "metadata": {},
   "outputs": [
    {
     "name": "stdout",
     "output_type": "stream",
     "text": [
      "Null values in Dietary Habits column are = 4\n"
     ]
    }
   ],
   "source": [
    "## Dietary Habits\n",
    "return_null_values(\"Dietary Habits\")"
   ]
  },
  {
   "cell_type": "code",
   "execution_count": 73,
   "metadata": {},
   "outputs": [
    {
     "name": "stdout",
     "output_type": "stream",
     "text": [
      "Count of unique values in Dietary Habits column are:\n",
      " Dietary Habits\n",
      "Moderate             49705\n",
      "Unhealthy            46227\n",
      "Healthy              44741\n",
      "Yes                      2\n",
      "No                       2\n",
      "More Healthy             2\n",
      "No Healthy               1\n",
      "Class 12                 1\n",
      "Indoor                   1\n",
      "Male                     1\n",
      "Vegas                    1\n",
      "M.Tech                   1\n",
      "Less Healthy             1\n",
      "1.0                      1\n",
      "Electrician              1\n",
      "Hormonal                 1\n",
      "Mihir                    1\n",
      "Less than Healthy        1\n",
      "3                        1\n",
      "Gender                   1\n",
      "BSc                      1\n",
      "Pratham                  1\n",
      "2                        1\n",
      "Name: count, dtype: int64\n"
     ]
    }
   ],
   "source": [
    "return_value_counts(\"Dietary Habits\")"
   ]
  },
  {
   "cell_type": "code",
   "execution_count": 74,
   "metadata": {},
   "outputs": [],
   "source": [
    "dietary_habits = {\n",
    "    \"Unhealthy\": 2,\n",
    "    \"Moderate\": 1,\n",
    "    \"Healthy\": 0,\n",
    "    \"More Healthy\": 0,\n",
    "    \"No Healthy\": 2,\n",
    "    \"Less Healthy\": 2,\n",
    "    \"Less than Healthy\": 1,\n",
    "}\n",
    "data[\"Dietary Habits\"] = data[\"Dietary Habits\"].map(dietary_habits)"
   ]
  },
  {
   "cell_type": "code",
   "execution_count": 75,
   "metadata": {},
   "outputs": [
    {
     "name": "stdout",
     "output_type": "stream",
     "text": [
      "Null values in Dietary Habits column are = 22\n"
     ]
    }
   ],
   "source": [
    "return_null_values(\"Dietary Habits\")"
   ]
  },
  {
   "cell_type": "code",
   "execution_count": 76,
   "metadata": {},
   "outputs": [],
   "source": [
    "## Fill na with \"moderate\":1\n",
    "data[\"Dietary Habits\"].fillna(1, inplace=True)"
   ]
  },
  {
   "cell_type": "code",
   "execution_count": 77,
   "metadata": {},
   "outputs": [
    {
     "name": "stdout",
     "output_type": "stream",
     "text": [
      "Null values in Have you ever had suicidal thoughts ? column are = 0\n"
     ]
    }
   ],
   "source": [
    "## Have you ever had suicidal thoughts ?\n",
    "return_null_values(\"Have you ever had suicidal thoughts ?\")"
   ]
  },
  {
   "cell_type": "code",
   "execution_count": 78,
   "metadata": {},
   "outputs": [
    {
     "name": "stdout",
     "output_type": "stream",
     "text": [
      "Count of unique values in Have you ever had suicidal thoughts ? column are:\n",
      " Have you ever had suicidal thoughts ?\n",
      "No     71138\n",
      "Yes    69562\n",
      "Name: count, dtype: int64\n"
     ]
    }
   ],
   "source": [
    "return_value_counts(\"Have you ever had suicidal thoughts ?\")"
   ]
  },
  {
   "cell_type": "code",
   "execution_count": 79,
   "metadata": {},
   "outputs": [],
   "source": [
    "suicidal_thoughts = {\"No\": 0, \"Yes\": 1}\n",
    "data[\"suicidal_thoughts\"] = data[\"Have you ever had suicidal thoughts ?\"].map(\n",
    "    suicidal_thoughts\n",
    ")"
   ]
  },
  {
   "cell_type": "code",
   "execution_count": 80,
   "metadata": {},
   "outputs": [],
   "source": [
    "data = data.drop([\"Have you ever had suicidal thoughts ?\"], axis=1)"
   ]
  },
  {
   "cell_type": "code",
   "execution_count": 81,
   "metadata": {},
   "outputs": [
    {
     "name": "stdout",
     "output_type": "stream",
     "text": [
      "Null values in Family History of Mental Illness column are = 0\n"
     ]
    }
   ],
   "source": [
    "## Family History of Mental Illness\n",
    "return_null_values(\"Family History of Mental Illness\")"
   ]
  },
  {
   "cell_type": "code",
   "execution_count": 82,
   "metadata": {},
   "outputs": [
    {
     "name": "stdout",
     "output_type": "stream",
     "text": [
      "Count of unique values in Family History of Mental Illness column are:\n",
      " Family History of Mental Illness\n",
      "No     70758\n",
      "Yes    69942\n",
      "Name: count, dtype: int64\n"
     ]
    }
   ],
   "source": [
    "return_value_counts(\"Family History of Mental Illness\")"
   ]
  },
  {
   "cell_type": "code",
   "execution_count": 83,
   "metadata": {},
   "outputs": [],
   "source": [
    "family_history = {\"No\": 0, \"Yes\": 1}\n",
    "data[\"family_history\"] = data[\"Family History of Mental Illness\"].map(\n",
    "    family_history\n",
    ")"
   ]
  },
  {
   "cell_type": "code",
   "execution_count": 84,
   "metadata": {},
   "outputs": [],
   "source": [
    "data = data.drop([\"Family History of Mental Illness\"], axis=1)"
   ]
  },
  {
   "cell_type": "code",
   "execution_count": 85,
   "metadata": {},
   "outputs": [
    {
     "name": "stdout",
     "output_type": "stream",
     "text": [
      "Null values in Financial Stress column are = 4\n"
     ]
    }
   ],
   "source": [
    "## Financial Stress\n",
    "return_null_values(\"Financial Stress\")"
   ]
  },
  {
   "cell_type": "code",
   "execution_count": 86,
   "metadata": {},
   "outputs": [
    {
     "name": "stdout",
     "output_type": "stream",
     "text": [
      "Count of unique values in Financial Stress column are:\n",
      " Financial Stress\n",
      "2.0    31451\n",
      "5.0    28279\n",
      "4.0    27765\n",
      "1.0    27211\n",
      "3.0    25990\n",
      "Name: count, dtype: int64\n"
     ]
    }
   ],
   "source": [
    "return_value_counts(\"Financial Stress\")"
   ]
  },
  {
   "cell_type": "code",
   "execution_count": 87,
   "metadata": {},
   "outputs": [],
   "source": [
    "data[\"Financial Stress\"].fillna(data[\"Financial Stress\"].median(), inplace=True)"
   ]
  },
  {
   "cell_type": "code",
   "execution_count": 88,
   "metadata": {},
   "outputs": [
    {
     "name": "stdout",
     "output_type": "stream",
     "text": [
      "Null values in Work/Study Hours column are = 0\n"
     ]
    }
   ],
   "source": [
    "## Work/Study Hours\n",
    "return_null_values(\"Work/Study Hours\")"
   ]
  },
  {
   "cell_type": "code",
   "execution_count": 89,
   "metadata": {},
   "outputs": [
    {
     "name": "stdout",
     "output_type": "stream",
     "text": [
      "Count of unique values in Work/Study Hours column are:\n",
      " Work/Study Hours\n",
      "10.0    14199\n",
      "11.0    12832\n",
      "9.0     12711\n",
      "0.0     12066\n",
      "12.0    11409\n",
      "2.0     10595\n",
      "6.0     10432\n",
      "7.0      9872\n",
      "1.0      9802\n",
      "3.0      9474\n",
      "5.0      9337\n",
      "4.0      9065\n",
      "8.0      8906\n",
      "Name: count, dtype: int64\n"
     ]
    }
   ],
   "source": [
    "return_value_counts(\"Work/Study Hours\")"
   ]
  },
  {
   "cell_type": "code",
   "execution_count": 90,
   "metadata": {},
   "outputs": [
    {
     "name": "stdout",
     "output_type": "stream",
     "text": [
      "Null values in Degree column are = 2\n"
     ]
    }
   ],
   "source": [
    "## Degree\n",
    "return_null_values(\"Degree\")"
   ]
  },
  {
   "cell_type": "code",
   "execution_count": 91,
   "metadata": {},
   "outputs": [
    {
     "name": "stdout",
     "output_type": "stream",
     "text": [
      "Count of unique values in Degree column are:\n",
      " Degree\n",
      "Class 12    14729\n",
      "B.Ed        11691\n",
      "B.Arch       8742\n",
      "B.Com        8113\n",
      "B.Pharm      5856\n",
      "            ...  \n",
      "Vivaan          1\n",
      "MTech           1\n",
      "29              1\n",
      "LLCom           1\n",
      "Advait          1\n",
      "Name: count, Length: 115, dtype: int64\n"
     ]
    }
   ],
   "source": [
    "return_value_counts(\"Degree\")"
   ]
  },
  {
   "cell_type": "code",
   "execution_count": 92,
   "metadata": {},
   "outputs": [
    {
     "data": {
      "text/plain": [
       "array(['BHM', 'LLB', 'B.Pharm', 'BBA', 'MCA', 'MD', 'BSc', 'ME', 'B.Arch',\n",
       "       'BCA', 'BE', 'MA', 'B.Ed', 'B.Com', 'MBA', 'M.Com', 'MHM', 'BA',\n",
       "       'Class 12', 'M.Tech', 'PhD', 'M.Ed', 'MSc', 'B.Tech', 'LLM',\n",
       "       'MBBS', 'M.Pharm', 'UX/UI Designer', 'MPA', 'BH', 'Nalini', 'BEd',\n",
       "       'B.Sc', 'Veda', 'Bhopal', 'S.Tech', 'Degree', '20', 'Class 11',\n",
       "       'H_Pharm', 'M', 'P.Com', 'BPharm', 'Business Analyst', 'M.Arch',\n",
       "       'LL.Com', 'Data Scientist', 'MPharm', 'L.Ed', 'P.Pharm', 'Kalyan',\n",
       "       'Unite', 'BArch', 'HR Manager', 'Badhya', 'S.Pharm', 'LLBA',\n",
       "       'Vrinda', 'M. Business Analyst', 'Bhavesh', '0', 'LLCom', '29',\n",
       "       'MTech', 'Vivaan', 'BPA', 'Plumber', '5.61', 'Brit', 'B.03',\n",
       "       'Ritik', '5.56', 'MEd', 'B', 'B BA', '7.06', 'B.B.Arch', 'ACA',\n",
       "       'Brithika', 'CGPA', '24', 'M_Tech', 'Pihu', 'BB', 'Jhanvi',\n",
       "       'LLTech', 'Aarav', 'Entrepreneur', '8.56', 'LHM', 'Lata', 'S.Arch',\n",
       "       'Marsh', 'HCA', '5.88', 'B.Student', 'LL B.Ed', 'M.S', 'Navya',\n",
       "       'Mahika', nan, 'K.Ed', 'B.3.79', 'Mthanya', 'Working Professional',\n",
       "       'Esha', 'LLS', 'LLEd', 'E.Tech', 'Doctor', 'N.Pharm', 'LCA',\n",
       "       'B B.Com', 'RCA', 'Mihir', 'Advait'], dtype=object)"
      ]
     },
     "execution_count": 92,
     "metadata": {},
     "output_type": "execute_result"
    }
   ],
   "source": [
    "data[\"Degree\"].unique()"
   ]
  },
  {
   "cell_type": "code",
   "execution_count": 93,
   "metadata": {},
   "outputs": [],
   "source": [
    "bachelors = data[data[\"Degree\"].str.startswith(\"B\", na=False)][\"Degree\"].unique()\n",
    "masters = data[data[\"Degree\"].str.startswith(\"M\", na=False)][\"Degree\"].unique()"
   ]
  },
  {
   "cell_type": "code",
   "execution_count": 94,
   "metadata": {},
   "outputs": [],
   "source": [
    "data[\"Degree\"] = data[\"Degree\"].replace(bachelors, \"bachelors\")"
   ]
  },
  {
   "cell_type": "code",
   "execution_count": 95,
   "metadata": {},
   "outputs": [],
   "source": [
    "data[\"Degree\"] = data[\"Degree\"].replace(masters, \"masters\")"
   ]
  },
  {
   "cell_type": "code",
   "execution_count": 96,
   "metadata": {},
   "outputs": [
    {
     "data": {
      "text/plain": [
       "array(['bachelors', 'LLB', 'masters', 'Class 12', 'PhD', 'LLM',\n",
       "       'UX/UI Designer', 'Nalini', 'Veda', 'S.Tech', 'Degree', '20',\n",
       "       'Class 11', 'H_Pharm', 'P.Com', 'LL.Com', 'Data Scientist', 'L.Ed',\n",
       "       'P.Pharm', 'Kalyan', 'Unite', 'HR Manager', 'S.Pharm', 'LLBA',\n",
       "       'Vrinda', '0', 'LLCom', '29', 'Vivaan', 'Plumber', '5.61', 'Ritik',\n",
       "       '5.56', '7.06', 'ACA', 'CGPA', '24', 'Pihu', 'Jhanvi', 'LLTech',\n",
       "       'Aarav', 'Entrepreneur', '8.56', 'LHM', 'Lata', 'S.Arch', 'HCA',\n",
       "       '5.88', 'LL B.Ed', 'Navya', nan, 'K.Ed', 'Working Professional',\n",
       "       'Esha', 'LLS', 'LLEd', 'E.Tech', 'Doctor', 'N.Pharm', 'LCA', 'RCA',\n",
       "       'Advait'], dtype=object)"
      ]
     },
     "execution_count": 96,
     "metadata": {},
     "output_type": "execute_result"
    }
   ],
   "source": [
    "data[\"Degree\"].unique()"
   ]
  },
  {
   "cell_type": "code",
   "execution_count": 97,
   "metadata": {},
   "outputs": [],
   "source": [
    "degrees = {\n",
    "    \"bachelors\": \"bachelors\",\n",
    "    \"masters\": \"masters\",\n",
    "    \"PhD\": \"PhD\",\n",
    "    \"LLB\": \"bachelors\",\n",
    "    \"Class 12\": \"high_school\",\n",
    "    \"LLM\": \"masters\",\n",
    "    \"LL.Com\": \"masters\",\n",
    "    \"LLCom\": \"masters\",\n",
    "    \"LLTech\": \"bachelors\",\n",
    "    \"LL B.Ed\": \"bachelors\",\n",
    "    \"Doctor\": \"PhD\",\n",
    "    \"N.Pharm\": \"masters\",\n",
    "}\n",
    "data[\"Degree\"] = data[\"Degree\"].map(degrees)"
   ]
  },
  {
   "cell_type": "code",
   "execution_count": 98,
   "metadata": {},
   "outputs": [],
   "source": [
    "data[\"Degree\"].fillna(\"Others\", inplace=True)"
   ]
  },
  {
   "cell_type": "code",
   "execution_count": 99,
   "metadata": {},
   "outputs": [
    {
     "name": "stdout",
     "output_type": "stream",
     "text": [
      "Count of unique values in Degree column are:\n",
      " Degree\n",
      "bachelors      70160\n",
      "masters        52645\n",
      "high_school    14729\n",
      "PhD             3104\n",
      "Others            62\n",
      "Name: count, dtype: int64\n"
     ]
    }
   ],
   "source": [
    "return_value_counts(\"Degree\")"
   ]
  },
  {
   "cell_type": "code",
   "execution_count": 100,
   "metadata": {},
   "outputs": [
    {
     "data": {
      "image/png": "[encoded data removed]",
      "text/plain": [
       "<Figure size 500x500 with 1 Axes>"
      ]
     },
     "metadata": {},
     "output_type": "display_data"
    }
   ],
   "source": [
    "depression_percentage = data.groupby(\"Degree\")[\"Depression\"].mean() * 100\n",
    "depression_percentage_sorted = depression_percentage.sort_values(ascending=False)\n",
    "plt.figure(figsize=(5, 5))\n",
    "sns.barplot(\n",
    "    y=depression_percentage_sorted.index,\n",
    "    x=depression_percentage_sorted.values,\n",
    "    palette=\"rocket\",\n",
    ")\n",
    "plt.title(\"Percentage of depressed for each Degree\")\n",
    "plt.show()"
   ]
  },
  {
   "cell_type": "code",
   "execution_count": 101,
   "metadata": {},
   "outputs": [],
   "source": [
    "degree_map = {\"others\": 0, \"high_school\": 1, \"bachelors\": 2, \"masters\": 3, \"PhD\": 4}\n",
    "data[\"Degree\"] = data[\"Degree\"].map(degree_map)"
   ]
  },
  {
   "cell_type": "code",
   "execution_count": 102,
   "metadata": {},
   "outputs": [
    {
     "data": {
      "text/html": [
       "<div>\n",
       "<style scoped>\n",
       "    .dataframe tbody tr th:only-of-type {\n",
       "        vertical-align: middle;\n",
       "    }\n",
       "\n",
       "    .dataframe tbody tr th {\n",
       "        vertical-align: top;\n",
       "    }\n",
       "\n",
       "    .dataframe thead th {\n",
       "        text-align: right;\n",
       "    }\n",
       "</style>\n",
       "<table border=\"1\" class=\"dataframe\">\n",
       "  <thead>\n",
       "    <tr style=\"text-align: right;\">\n",
       "      <th></th>\n",
       "      <th>Work Pressure</th>\n",
       "      <th>CGPA</th>\n",
       "      <th>Job Satisfaction</th>\n",
       "      <th>Sleep Duration</th>\n",
       "      <th>Dietary Habits</th>\n",
       "      <th>Degree</th>\n",
       "      <th>Work/Study Hours</th>\n",
       "      <th>Financial Stress</th>\n",
       "      <th>Depression</th>\n",
       "      <th>Gender_Female</th>\n",
       "      <th>Gender_Male</th>\n",
       "      <th>Age_Group</th>\n",
       "      <th>City_encoded</th>\n",
       "      <th>Student</th>\n",
       "      <th>Profession_encoded</th>\n",
       "      <th>suicidal_thoughts</th>\n",
       "      <th>family_history</th>\n",
       "    </tr>\n",
       "  </thead>\n",
       "  <tbody>\n",
       "    <tr>\n",
       "      <th>0</th>\n",
       "      <td>5.0</td>\n",
       "      <td>-1.0</td>\n",
       "      <td>2.0</td>\n",
       "      <td>8.0</td>\n",
       "      <td>0.0</td>\n",
       "      <td>2.0</td>\n",
       "      <td>1.0</td>\n",
       "      <td>2.0</td>\n",
       "      <td>0</td>\n",
       "      <td>1.0</td>\n",
       "      <td>0.0</td>\n",
       "      <td>3</td>\n",
       "      <td>0.192690</td>\n",
       "      <td>0</td>\n",
       "      <td>0.048567</td>\n",
       "      <td>0</td>\n",
       "      <td>0</td>\n",
       "    </tr>\n",
       "    <tr>\n",
       "      <th>1</th>\n",
       "      <td>4.0</td>\n",
       "      <td>-1.0</td>\n",
       "      <td>3.0</td>\n",
       "      <td>5.0</td>\n",
       "      <td>2.0</td>\n",
       "      <td>2.0</td>\n",
       "      <td>7.0</td>\n",
       "      <td>3.0</td>\n",
       "      <td>1</td>\n",
       "      <td>0.0</td>\n",
       "      <td>1.0</td>\n",
       "      <td>0</td>\n",
       "      <td>0.142206</td>\n",
       "      <td>0</td>\n",
       "      <td>0.055649</td>\n",
       "      <td>1</td>\n",
       "      <td>0</td>\n",
       "    </tr>\n",
       "    <tr>\n",
       "      <th>2</th>\n",
       "      <td>5.0</td>\n",
       "      <td>9.0</td>\n",
       "      <td>2.0</td>\n",
       "      <td>6.0</td>\n",
       "      <td>0.0</td>\n",
       "      <td>2.0</td>\n",
       "      <td>3.0</td>\n",
       "      <td>1.0</td>\n",
       "      <td>1</td>\n",
       "      <td>0.0</td>\n",
       "      <td>1.0</td>\n",
       "      <td>1</td>\n",
       "      <td>0.159196</td>\n",
       "      <td>1</td>\n",
       "      <td>0.585061</td>\n",
       "      <td>1</td>\n",
       "      <td>0</td>\n",
       "    </tr>\n",
       "    <tr>\n",
       "      <th>3</th>\n",
       "      <td>5.0</td>\n",
       "      <td>-1.0</td>\n",
       "      <td>1.0</td>\n",
       "      <td>5.0</td>\n",
       "      <td>1.0</td>\n",
       "      <td>2.0</td>\n",
       "      <td>10.0</td>\n",
       "      <td>1.0</td>\n",
       "      <td>1</td>\n",
       "      <td>0.0</td>\n",
       "      <td>1.0</td>\n",
       "      <td>0</td>\n",
       "      <td>0.131293</td>\n",
       "      <td>0</td>\n",
       "      <td>0.055649</td>\n",
       "      <td>1</td>\n",
       "      <td>1</td>\n",
       "    </tr>\n",
       "    <tr>\n",
       "      <th>4</th>\n",
       "      <td>1.0</td>\n",
       "      <td>-1.0</td>\n",
       "      <td>1.0</td>\n",
       "      <td>6.0</td>\n",
       "      <td>2.0</td>\n",
       "      <td>2.0</td>\n",
       "      <td>9.0</td>\n",
       "      <td>4.0</td>\n",
       "      <td>0</td>\n",
       "      <td>1.0</td>\n",
       "      <td>0.0</td>\n",
       "      <td>1</td>\n",
       "      <td>0.125739</td>\n",
       "      <td>0</td>\n",
       "      <td>0.056610</td>\n",
       "      <td>1</td>\n",
       "      <td>1</td>\n",
       "    </tr>\n",
       "  </tbody>\n",
       "</table>\n",
       "</div>"
      ],
      "text/plain": [
       "   Work Pressure  CGPA  Job Satisfaction  Sleep Duration  Dietary Habits  \\\n",
       "0            5.0  -1.0               2.0             8.0             0.0   \n",
       "1            4.0  -1.0               3.0             5.0             2.0   \n",
       "2            5.0   9.0               2.0             6.0             0.0   \n",
       "3            5.0  -1.0               1.0             5.0             1.0   \n",
       "4            1.0  -1.0               1.0             6.0             2.0   \n",
       "\n",
       "   Degree  Work/Study Hours  Financial Stress  Depression  Gender_Female  \\\n",
       "0     2.0               1.0               2.0           0            1.0   \n",
       "1     2.0               7.0               3.0           1            0.0   \n",
       "2     2.0               3.0               1.0           1            0.0   \n",
       "3     2.0              10.0               1.0           1            0.0   \n",
       "4     2.0               9.0               4.0           0            1.0   \n",
       "\n",
       "   Gender_Male Age_Group  City_encoded  Student  Profession_encoded  \\\n",
       "0          0.0         3      0.192690        0            0.048567   \n",
       "1          1.0         0      0.142206        0            0.055649   \n",
       "2          1.0         1      0.159196        1            0.585061   \n",
       "3          1.0         0      0.131293        0            0.055649   \n",
       "4          0.0         1      0.125739        0            0.056610   \n",
       "\n",
       "   suicidal_thoughts  family_history  \n",
       "0                  0               0  \n",
       "1                  1               0  \n",
       "2                  1               0  \n",
       "3                  1               1  \n",
       "4                  1               1  "
      ]
     },
     "execution_count": 102,
     "metadata": {},
     "output_type": "execute_result"
    }
   ],
   "source": [
    "data.head()"
   ]
  },
  {
   "cell_type": "code",
   "execution_count": 103,
   "metadata": {},
   "outputs": [
    {
     "data": {
      "text/plain": [
       "<Axes: >"
      ]
     },
     "execution_count": 103,
     "metadata": {},
     "output_type": "execute_result"
    },
    {
     "data": {
      "image/png": "[encoded data removed]",
      "text/plain": [
       "<Figure size 640x480 with 2 Axes>"
      ]
     },
     "metadata": {},
     "output_type": "display_data"
    }
   ],
   "source": [
    "correlation_matrix = data.corr(numeric_only=True)\n",
    "sns.heatmap(correlation_matrix)"
   ]
  },
  {
   "cell_type": "code",
   "execution_count": 104,
   "metadata": {},
   "outputs": [],
   "source": [
    "data.to_csv(\"../data/cleaned_v1.csv\", index=False)"
   ]
  },
  {
   "cell_type": "code",
   "execution_count": null,
   "metadata": {},
   "outputs": [],
   "source": []
  },
  {
   "cell_type": "code",
   "execution_count": null,
   "metadata": {},
   "outputs": [],
   "source": []
  },
  {
   "cell_type": "code",
   "execution_count": null,
   "metadata": {},
   "outputs": [],
   "source": []
  }
 ],
 "metadata": {
  "kernelspec": {
   "display_name": "Python 3",
   "language": "python",
   "name": "python3"
  },
  "language_info": {
   "codemirror_mode": {
    "name": "ipython",
    "version": 3
   },
   "file_extension": ".py",
   "mimetype": "text/x-python",
   "name": "python",
   "nbconvert_exporter": "python",
   "pygments_lexer": "ipython3",
   "version": "3.11.0"
  }
 },
 "nbformat": 4,
 "nbformat_minor": 2
}
