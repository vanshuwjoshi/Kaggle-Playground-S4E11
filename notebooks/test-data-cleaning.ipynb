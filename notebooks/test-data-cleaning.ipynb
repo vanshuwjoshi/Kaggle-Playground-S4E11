{
 "cells": [
  {
   "cell_type": "code",
   "execution_count": 54,
   "metadata": {},
   "outputs": [],
   "source": [
    "import pandas as pd\n",
    "import numpy as np"
   ]
  },
  {
   "cell_type": "code",
   "execution_count": 55,
   "metadata": {},
   "outputs": [],
   "source": [
    "from sklearn.preprocessing import OneHotEncoder"
   ]
  },
  {
   "cell_type": "code",
   "execution_count": 56,
   "metadata": {},
   "outputs": [
    {
     "data": {
      "text/html": [
       "<div>\n",
       "<style scoped>\n",
       "    .dataframe tbody tr th:only-of-type {\n",
       "        vertical-align: middle;\n",
       "    }\n",
       "\n",
       "    .dataframe tbody tr th {\n",
       "        vertical-align: top;\n",
       "    }\n",
       "\n",
       "    .dataframe thead th {\n",
       "        text-align: right;\n",
       "    }\n",
       "</style>\n",
       "<table border=\"1\" class=\"dataframe\">\n",
       "  <thead>\n",
       "    <tr style=\"text-align: right;\">\n",
       "      <th></th>\n",
       "      <th>id</th>\n",
       "      <th>Name</th>\n",
       "      <th>Gender</th>\n",
       "      <th>Age</th>\n",
       "      <th>City</th>\n",
       "      <th>Working Professional or Student</th>\n",
       "      <th>Profession</th>\n",
       "      <th>Academic Pressure</th>\n",
       "      <th>Work Pressure</th>\n",
       "      <th>CGPA</th>\n",
       "      <th>Study Satisfaction</th>\n",
       "      <th>Job Satisfaction</th>\n",
       "      <th>Sleep Duration</th>\n",
       "      <th>Dietary Habits</th>\n",
       "      <th>Degree</th>\n",
       "      <th>Have you ever had suicidal thoughts ?</th>\n",
       "      <th>Work/Study Hours</th>\n",
       "      <th>Financial Stress</th>\n",
       "      <th>Family History of Mental Illness</th>\n",
       "    </tr>\n",
       "  </thead>\n",
       "  <tbody>\n",
       "    <tr>\n",
       "      <th>0</th>\n",
       "      <td>140700</td>\n",
       "      <td>Shivam</td>\n",
       "      <td>Male</td>\n",
       "      <td>53.0</td>\n",
       "      <td>Visakhapatnam</td>\n",
       "      <td>Working Professional</td>\n",
       "      <td>Judge</td>\n",
       "      <td>NaN</td>\n",
       "      <td>2.0</td>\n",
       "      <td>NaN</td>\n",
       "      <td>NaN</td>\n",
       "      <td>5.0</td>\n",
       "      <td>Less than 5 hours</td>\n",
       "      <td>Moderate</td>\n",
       "      <td>LLB</td>\n",
       "      <td>No</td>\n",
       "      <td>9.0</td>\n",
       "      <td>3.0</td>\n",
       "      <td>Yes</td>\n",
       "    </tr>\n",
       "    <tr>\n",
       "      <th>1</th>\n",
       "      <td>140701</td>\n",
       "      <td>Sanya</td>\n",
       "      <td>Female</td>\n",
       "      <td>58.0</td>\n",
       "      <td>Kolkata</td>\n",
       "      <td>Working Professional</td>\n",
       "      <td>Educational Consultant</td>\n",
       "      <td>NaN</td>\n",
       "      <td>2.0</td>\n",
       "      <td>NaN</td>\n",
       "      <td>NaN</td>\n",
       "      <td>4.0</td>\n",
       "      <td>Less than 5 hours</td>\n",
       "      <td>Moderate</td>\n",
       "      <td>B.Ed</td>\n",
       "      <td>No</td>\n",
       "      <td>6.0</td>\n",
       "      <td>4.0</td>\n",
       "      <td>No</td>\n",
       "    </tr>\n",
       "    <tr>\n",
       "      <th>2</th>\n",
       "      <td>140702</td>\n",
       "      <td>Yash</td>\n",
       "      <td>Male</td>\n",
       "      <td>53.0</td>\n",
       "      <td>Jaipur</td>\n",
       "      <td>Working Professional</td>\n",
       "      <td>Teacher</td>\n",
       "      <td>NaN</td>\n",
       "      <td>4.0</td>\n",
       "      <td>NaN</td>\n",
       "      <td>NaN</td>\n",
       "      <td>1.0</td>\n",
       "      <td>7-8 hours</td>\n",
       "      <td>Moderate</td>\n",
       "      <td>B.Arch</td>\n",
       "      <td>Yes</td>\n",
       "      <td>12.0</td>\n",
       "      <td>4.0</td>\n",
       "      <td>No</td>\n",
       "    </tr>\n",
       "    <tr>\n",
       "      <th>3</th>\n",
       "      <td>140703</td>\n",
       "      <td>Nalini</td>\n",
       "      <td>Female</td>\n",
       "      <td>23.0</td>\n",
       "      <td>Rajkot</td>\n",
       "      <td>Student</td>\n",
       "      <td>NaN</td>\n",
       "      <td>5.0</td>\n",
       "      <td>NaN</td>\n",
       "      <td>6.84</td>\n",
       "      <td>1.0</td>\n",
       "      <td>NaN</td>\n",
       "      <td>More than 8 hours</td>\n",
       "      <td>Moderate</td>\n",
       "      <td>BSc</td>\n",
       "      <td>Yes</td>\n",
       "      <td>10.0</td>\n",
       "      <td>4.0</td>\n",
       "      <td>No</td>\n",
       "    </tr>\n",
       "    <tr>\n",
       "      <th>4</th>\n",
       "      <td>140704</td>\n",
       "      <td>Shaurya</td>\n",
       "      <td>Male</td>\n",
       "      <td>47.0</td>\n",
       "      <td>Kalyan</td>\n",
       "      <td>Working Professional</td>\n",
       "      <td>Teacher</td>\n",
       "      <td>NaN</td>\n",
       "      <td>5.0</td>\n",
       "      <td>NaN</td>\n",
       "      <td>NaN</td>\n",
       "      <td>5.0</td>\n",
       "      <td>7-8 hours</td>\n",
       "      <td>Moderate</td>\n",
       "      <td>BCA</td>\n",
       "      <td>Yes</td>\n",
       "      <td>3.0</td>\n",
       "      <td>4.0</td>\n",
       "      <td>No</td>\n",
       "    </tr>\n",
       "  </tbody>\n",
       "</table>\n",
       "</div>"
      ],
      "text/plain": [
       "       id     Name  Gender   Age           City  \\\n",
       "0  140700   Shivam    Male  53.0  Visakhapatnam   \n",
       "1  140701    Sanya  Female  58.0        Kolkata   \n",
       "2  140702     Yash    Male  53.0         Jaipur   \n",
       "3  140703   Nalini  Female  23.0         Rajkot   \n",
       "4  140704  Shaurya    Male  47.0         Kalyan   \n",
       "\n",
       "  Working Professional or Student              Profession  Academic Pressure  \\\n",
       "0            Working Professional                   Judge                NaN   \n",
       "1            Working Professional  Educational Consultant                NaN   \n",
       "2            Working Professional                 Teacher                NaN   \n",
       "3                         Student                     NaN                5.0   \n",
       "4            Working Professional                 Teacher                NaN   \n",
       "\n",
       "   Work Pressure  CGPA  Study Satisfaction  Job Satisfaction  \\\n",
       "0            2.0   NaN                 NaN               5.0   \n",
       "1            2.0   NaN                 NaN               4.0   \n",
       "2            4.0   NaN                 NaN               1.0   \n",
       "3            NaN  6.84                 1.0               NaN   \n",
       "4            5.0   NaN                 NaN               5.0   \n",
       "\n",
       "      Sleep Duration Dietary Habits  Degree  \\\n",
       "0  Less than 5 hours       Moderate     LLB   \n",
       "1  Less than 5 hours       Moderate    B.Ed   \n",
       "2          7-8 hours       Moderate  B.Arch   \n",
       "3  More than 8 hours       Moderate     BSc   \n",
       "4          7-8 hours       Moderate     BCA   \n",
       "\n",
       "  Have you ever had suicidal thoughts ?  Work/Study Hours  Financial Stress  \\\n",
       "0                                    No               9.0               3.0   \n",
       "1                                    No               6.0               4.0   \n",
       "2                                   Yes              12.0               4.0   \n",
       "3                                   Yes              10.0               4.0   \n",
       "4                                   Yes               3.0               4.0   \n",
       "\n",
       "  Family History of Mental Illness  \n",
       "0                              Yes  \n",
       "1                               No  \n",
       "2                               No  \n",
       "3                               No  \n",
       "4                               No  "
      ]
     },
     "execution_count": 56,
     "metadata": {},
     "output_type": "execute_result"
    }
   ],
   "source": [
    "data = pd.read_csv(\"../data/test.csv\")\n",
    "data.head()"
   ]
  },
  {
   "cell_type": "code",
   "execution_count": 57,
   "metadata": {},
   "outputs": [
    {
     "data": {
      "text/plain": [
       "(93800, 19)"
      ]
     },
     "execution_count": 57,
     "metadata": {},
     "output_type": "execute_result"
    }
   ],
   "source": [
    "data.shape"
   ]
  },
  {
   "cell_type": "code",
   "execution_count": 58,
   "metadata": {},
   "outputs": [],
   "source": [
    "data = data.drop([\"id\", \"Name\"], axis=1)"
   ]
  },
  {
   "cell_type": "code",
   "execution_count": 59,
   "metadata": {},
   "outputs": [],
   "source": [
    "def return_value_counts(col):\n",
    "    print(\"Count of unique values in \" + col + \" column are:\\n\", data[col].value_counts())\n",
    "\n",
    "def return_null_values(col):\n",
    "    print(str(\"Null values in \" + col + \" column are =\"), data[col].isnull().sum())"
   ]
  },
  {
   "cell_type": "code",
   "execution_count": 60,
   "metadata": {},
   "outputs": [],
   "source": [
    "one_hot_encoder = OneHotEncoder(sparse_output=False)\n",
    "\n",
    "# Fit and transform the Gender column\n",
    "gender_encoded = one_hot_encoder.fit_transform(data[['Gender']])\n",
    "df_encoded = pd.DataFrame(\n",
    "    gender_encoded, columns=one_hot_encoder.get_feature_names_out([\"Gender\"])\n",
    ")\n",
    "data = pd.concat([data, df_encoded], axis=1)\n",
    "data = data.drop([\"Gender\"], axis=1)"
   ]
  },
  {
   "cell_type": "code",
   "execution_count": 61,
   "metadata": {},
   "outputs": [
    {
     "data": {
      "text/plain": [
       "Age                                          0\n",
       "City                                         0\n",
       "Working Professional or Student              0\n",
       "Profession                               24632\n",
       "Academic Pressure                        75033\n",
       "Work Pressure                            18778\n",
       "CGPA                                     75034\n",
       "Study Satisfaction                       75033\n",
       "Job Satisfaction                         18774\n",
       "Sleep Duration                               0\n",
       "Dietary Habits                               5\n",
       "Degree                                       2\n",
       "Have you ever had suicidal thoughts ?        0\n",
       "Work/Study Hours                             0\n",
       "Financial Stress                             0\n",
       "Family History of Mental Illness             0\n",
       "Gender_Female                                0\n",
       "Gender_Male                                  0\n",
       "dtype: int64"
      ]
     },
     "execution_count": 61,
     "metadata": {},
     "output_type": "execute_result"
    }
   ],
   "source": [
    "data.isnull().sum()"
   ]
  },
  {
   "cell_type": "code",
   "execution_count": 62,
   "metadata": {},
   "outputs": [],
   "source": [
    "def cat_age(age):\n",
    "    if age >= 18 and age <= 26.4:\n",
    "        return 0\n",
    "    elif age > 26.4 and age <= 34.8:\n",
    "        return 1\n",
    "    elif age > 34.8 and age <= 43.2:\n",
    "        return 2\n",
    "    elif age > 43.2 and age <= 51.6:\n",
    "        return 3\n",
    "    return 4\n",
    "\n",
    "data[\"Age\"] = data[\"Age\"].apply(cat_age)"
   ]
  },
  {
   "cell_type": "code",
   "execution_count": 63,
   "metadata": {},
   "outputs": [],
   "source": [
    "data[\"Student\"] = data[\n",
    "    \"Working Professional or Student\"\n",
    "].map({\"Working Professional\": 0, \"Student\": 1})"
   ]
  },
  {
   "cell_type": "code",
   "execution_count": 64,
   "metadata": {},
   "outputs": [],
   "source": [
    "data.drop(\"Working Professional or Student\", axis=1, inplace=True)"
   ]
  },
  {
   "cell_type": "code",
   "execution_count": 65,
   "metadata": {},
   "outputs": [],
   "source": [
    "data[\"Work Pressure\"].fillna(data[\"Academic Pressure\"], inplace=True)"
   ]
  },
  {
   "cell_type": "code",
   "execution_count": 66,
   "metadata": {},
   "outputs": [],
   "source": [
    "data[\"Work Pressure\"].fillna(data[\"Work Pressure\"].median(), inplace=True)"
   ]
  },
  {
   "cell_type": "code",
   "execution_count": 67,
   "metadata": {},
   "outputs": [],
   "source": [
    "data = data.drop([\"Academic Pressure\"], axis=1)"
   ]
  },
  {
   "cell_type": "code",
   "execution_count": 68,
   "metadata": {},
   "outputs": [],
   "source": [
    "data[\"Job Satisfaction\"].fillna(data[\"Study Satisfaction\"], inplace=True)\n",
    "median_satisfaction = data[\"Job Satisfaction\"].median()\n",
    "data[\"Job Satisfaction\"].fillna(median_satisfaction, inplace=True)\n",
    "data = data.drop([\"Study Satisfaction\"], axis=1)"
   ]
  },
  {
   "cell_type": "code",
   "execution_count": 69,
   "metadata": {},
   "outputs": [],
   "source": [
    "data[\"CGPA\"].fillna(-1, inplace=True)\n",
    "data[\"CGPA\"] = np.round(data[\"CGPA\"])"
   ]
  },
  {
   "cell_type": "code",
   "execution_count": 70,
   "metadata": {},
   "outputs": [],
   "source": [
    "suicidal_thoughts = {\"No\": 0, \"Yes\": 1}\n",
    "data[\"suicidal_thoughts\"] = data[\"Have you ever had suicidal thoughts ?\"].map(\n",
    "    suicidal_thoughts\n",
    ")\n",
    "data.drop([\"Have you ever had suicidal thoughts ?\"], axis=1, inplace=True)"
   ]
  },
  {
   "cell_type": "code",
   "execution_count": 71,
   "metadata": {},
   "outputs": [],
   "source": [
    "family_history = {\"No\": 0, \"Yes\": 1}\n",
    "data[\"family_history\"] = data[\"Family History of Mental Illness\"].map(\n",
    "    family_history\n",
    ")\n",
    "data.drop([\"Family History of Mental Illness\"], axis=1, inplace=True)"
   ]
  },
  {
   "cell_type": "code",
   "execution_count": 72,
   "metadata": {},
   "outputs": [
    {
     "name": "stdout",
     "output_type": "stream",
     "text": [
      "Count of unique values in Financial Stress column are:\n",
      " Financial Stress\n",
      "2.0    21151\n",
      "5.0    18694\n",
      "4.0    18453\n",
      "1.0    18341\n",
      "3.0    17161\n",
      "Name: count, dtype: int64\n"
     ]
    }
   ],
   "source": [
    "return_value_counts(\"Financial Stress\")"
   ]
  },
  {
   "cell_type": "code",
   "execution_count": 73,
   "metadata": {},
   "outputs": [
    {
     "name": "stdout",
     "output_type": "stream",
     "text": [
      "Count of unique values in Work/Study Hours column are:\n",
      " Work/Study Hours\n",
      "10.0    9450\n",
      "11.0    8555\n",
      "9.0     8315\n",
      "0.0     8132\n",
      "12.0    7657\n",
      "2.0     7083\n",
      "6.0     7029\n",
      "7.0     6646\n",
      "1.0     6525\n",
      "3.0     6261\n",
      "5.0     6118\n",
      "4.0     6079\n",
      "8.0     5950\n",
      "Name: count, dtype: int64\n"
     ]
    }
   ],
   "source": [
    "return_value_counts(\"Work/Study Hours\")"
   ]
  },
  {
   "cell_type": "markdown",
   "metadata": {},
   "source": [
    "Work on city, profession, sleep, dietary, degree"
   ]
  },
  {
   "cell_type": "code",
   "execution_count": 74,
   "metadata": {},
   "outputs": [
    {
     "data": {
      "text/plain": [
       "array(['Visakhapatnam', 'Kolkata', 'Jaipur', 'Rajkot', 'Kalyan', 'Mumbai',\n",
       "       'Surat', 'Srinagar', 'Delhi', 'Lucknow', 'Thane', 'Meerut',\n",
       "       'Nagpur', 'Ghaziabad', 'Chennai', 'Varanasi', 'Indore', 'Pune',\n",
       "       'Hyderabad', 'Kanpur', 'Nashik', 'Bhopal', 'Faridabad',\n",
       "       'Bangalore', 'Vasai-Virar', 'Ludhiana', 'Patna', 'Vadodara',\n",
       "       'Ahmedabad', 'Agra', 'Malyan', 'Pratyush', 'Vidya',\n",
       "       'Less than 5 hours', 'Aditi', 'Keshav', 'Nalini', 'Mhopal', 'Avni',\n",
       "       'Ira', 'Vaishnavi', 'Bhavna', 'Lawyer', 'Thani', 'Hrithik', 'City',\n",
       "       'Unaly', 'Is Kanpur', 'Golkata', 'Less Delhi', 'Sara', 'Saurav',\n",
       "       'Vikram', 'Parth', 'Siddhesh', 'Vaikot', 'Leela', 'Chemist',\n",
       "       'San Vasai-Virar', 'No', 'More Delhi', 'Saanvi', 'Pratham',\n",
       "       'Vidhi', 'Abhinav', 'Rolkata', 'Ghopal', 'No.12'], dtype=object)"
      ]
     },
     "execution_count": 74,
     "metadata": {},
     "output_type": "execute_result"
    }
   ],
   "source": [
    "data[\"City\"].unique()"
   ]
  },
  {
   "cell_type": "code",
   "execution_count": 75,
   "metadata": {},
   "outputs": [],
   "source": [
    "data.loc[data[\"City\"] == \"Malyan\", \"City\"] = \"Kalyan\"\n",
    "data.loc[data[\"City\"] == \"Mhopal\", \"City\"] = \"Bhopal\"\n",
    "data.loc[data[\"City\"] == \"Thani\", \"City\"] = \"Thane\"\n",
    "data.loc[data[\"City\"] == \"Is Kanpur\", \"City\"] = \"Kanpur\"\n",
    "data.loc[data[\"City\"] == \"Golkata\", \"City\"] = \"Kolkata\"\n",
    "data.loc[data[\"City\"] == \"Less Delhi\", \"City\"] = \"Delhi\"\n",
    "data.loc[data[\"City\"] == \"San Vasai-Virar\", \"City\"] = \"Vasai-Virar\"\n",
    "data.loc[data[\"City\"] == \"More Delhi\", \"City\"] = \"Delhi\"\n",
    "data.loc[data[\"City\"] == \"Rolkata\", \"City\"] = \"Kolkata\"\n",
    "data.loc[data[\"City\"] == \"Ghopal\", \"City\"] = \"Bhopal\"\n",
    "\n",
    "others = [\n",
    "    \"Pratyush\",\n",
    "    \"Vidya\",\n",
    "    \"Less than 5 hours\",\n",
    "    \"Aditi\",\n",
    "    \"Keshav\",\n",
    "    \"Nalini\",\n",
    "    \"Avni\",\n",
    "    \"Ira\",\n",
    "    \"Vaishnavi\",\n",
    "    \"Bhavna\",\n",
    "    \"Lawyer\",\n",
    "    \"Hrithik\",\n",
    "    \"City\",\n",
    "    \"Unaly\",\n",
    "    \"Sara\",\n",
    "    \"Saurav\",\n",
    "    \"Vikram\",\n",
    "    \"Parth\",\n",
    "    \"Siddhesh\",\n",
    "    \"Vaikot\",\n",
    "    \"Leela\",\n",
    "    \"Chemist\",\n",
    "    \"No\",\n",
    "    \"Saanvi\",\n",
    "    \"Pratham\",\n",
    "    \"Vidhi\",\n",
    "    \"Abhinav\",\n",
    "    \"No.12\",\n",
    "]\n",
    "for name in others:\n",
    "    data.loc[data[\"City\"] == name, \"City\"] = \"Others\""
   ]
  },
  {
   "cell_type": "code",
   "execution_count": 76,
   "metadata": {},
   "outputs": [
    {
     "data": {
      "text/plain": [
       "array(['Visakhapatnam', 'Kolkata', 'Jaipur', 'Rajkot', 'Kalyan', 'Mumbai',\n",
       "       'Surat', 'Srinagar', 'Delhi', 'Lucknow', 'Thane', 'Meerut',\n",
       "       'Nagpur', 'Ghaziabad', 'Chennai', 'Varanasi', 'Indore', 'Pune',\n",
       "       'Hyderabad', 'Kanpur', 'Nashik', 'Bhopal', 'Faridabad',\n",
       "       'Bangalore', 'Vasai-Virar', 'Ludhiana', 'Patna', 'Vadodara',\n",
       "       'Ahmedabad', 'Agra', 'Others'], dtype=object)"
      ]
     },
     "execution_count": 76,
     "metadata": {},
     "output_type": "execute_result"
    }
   ],
   "source": [
    "data[\"City\"].unique()"
   ]
  },
  {
   "cell_type": "code",
   "execution_count": 77,
   "metadata": {},
   "outputs": [],
   "source": [
    "train = pd.read_csv(\"../data/train.csv\")"
   ]
  },
  {
   "cell_type": "code",
   "execution_count": 78,
   "metadata": {},
   "outputs": [
    {
     "data": {
      "text/plain": [
       "City\n",
       "Agra             0.192357\n",
       "Ahmedabad        0.217887\n",
       "Bangalore        0.175600\n",
       "Bhopal           0.232518\n",
       "Chennai          0.194362\n",
       "Delhi            0.191708\n",
       "Faridabad        0.146879\n",
       "Ghaziabad        0.195250\n",
       "Hyderabad        0.275133\n",
       "Indore           0.160920\n",
       "Jaipur           0.181377\n",
       "Kalyan           0.199636\n",
       "Kanpur           0.125739\n",
       "Kolkata          0.173577\n",
       "Lucknow          0.214019\n",
       "Ludhiana         0.192690\n",
       "Meerut           0.134045\n",
       "Mumbai           0.131293\n",
       "Nagpur           0.144928\n",
       "Nashik           0.158715\n",
       "Others           0.195652\n",
       "Patna            0.163234\n",
       "Pune             0.161036\n",
       "Rajkot           0.173228\n",
       "Srinagar         0.211667\n",
       "Surat            0.201898\n",
       "Thane            0.242248\n",
       "Vadodara         0.167688\n",
       "Varanasi         0.142206\n",
       "Vasai-Virar      0.197918\n",
       "Visakhapatnam    0.159196\n",
       "Name: Depression, dtype: float64"
      ]
     },
     "execution_count": 78,
     "metadata": {},
     "output_type": "execute_result"
    }
   ],
   "source": [
    "names_to_change = [\n",
    "    \"Vidhi\",\n",
    "    \"Ayush\",\n",
    "    \"Krishna\",\n",
    "    \"Aishwarya\",\n",
    "    \"Keshav\",\n",
    "    \"Harsha\",\n",
    "    \"Nalini\",\n",
    "    \"Aditya\",\n",
    "    \"Malyansh\",\n",
    "    \"Raghavendra\",\n",
    "    \"Saanvi\",\n",
    "    \"M.Tech\",\n",
    "    \"Bhavna\",\n",
    "    \"Nandini\",\n",
    "    \"M.Com\",\n",
    "    \"Plata\",\n",
    "    \"Atharv\",\n",
    "    \"Pratyush\",\n",
    "    \"City\",\n",
    "    \"3.0\",\n",
    "    \"MCA\",\n",
    "    \"Mira\",\n",
    "    \"Moreadhyay\",\n",
    "    \"Morena\",\n",
    "    \"Ishkarsh\",\n",
    "    \"Kashk\",\n",
    "    \"Mihir\",\n",
    "    \"Vidya\",\n",
    "    \"Anvi\",\n",
    "    \"Krinda\",\n",
    "    \"Ayansh\",\n",
    "    \"Shrey\",\n",
    "    \"Ivaan\",\n",
    "    \"Vaanya\",\n",
    "    \"Gaurav\",\n",
    "    \"Harsh\",\n",
    "    \"Reyansh\",\n",
    "    \"Kashish\",\n",
    "    \"Kibara\",\n",
    "    \"Vaishnavi\",\n",
    "    \"Chhavi\",\n",
    "    \"Parth\",\n",
    "    \"Mahi\",\n",
    "    \"Tushar\",\n",
    "    \"MSc\",\n",
    "    \"No\",\n",
    "    \"Rashi\",\n",
    "    \"ME\",\n",
    "    \"Researcher\",\n",
    "    \"Kagan\",\n",
    "    \"Armaan\",\n",
    "    \"Ithal\",\n",
    "    \"Nalyan\",\n",
    "    \"Dhruv\",\n",
    "    \"Galesabad\",\n",
    "    \"Itheg\",\n",
    "    \"Aaradhya\",\n",
    "    \"Pooja\",\n",
    "    \"Khushi\",\n",
    "    \"Jhanvi\",\n",
    "    \"Unirar\",\n",
    "]\n",
    "wrong_spelling = [\"Less Delhi\", \"Less than 5 Kalyan\", \"Tolkata\", \"Molkata\", \"Khaziabad\"]\n",
    "\n",
    "\n",
    "def name_to_others(lst):\n",
    "    for name in lst:\n",
    "        train.loc[train[\"City\"] == name, \"City\"] = \"Others\"\n",
    "\n",
    "\n",
    "name_to_others(names_to_change)\n",
    "for name in wrong_spelling:\n",
    "    if name == \"Less Delhi\":\n",
    "        train.loc[train[\"City\"] == name, \"City\"] = \"Delhi\"\n",
    "    elif name == \"Less than 5 Kalyan\":\n",
    "        train.loc[train[\"City\"] == name, \"City\"] = \"Kalyan\"\n",
    "    elif name == \"Tolkata\" or name == \"Molkata\":\n",
    "        train.loc[train[\"City\"] == name, \"City\"] = \"Kolkata\"\n",
    "    else:\n",
    "        train.loc[train[\"City\"] == name, \"City\"] = \"Ghaziabad\"\n",
    "train.loc[train[\"City\"] == \"Ishanabad\", \"City\"] = \"Others\"\n",
    "train.loc[train[\"City\"] == \"Gurgaon\", \"City\"] = \"Others\"\n",
    "city_mean_encoded = train.groupby(\"City\")[\"Depression\"].mean()\n",
    "city_mean_encoded"
   ]
  },
  {
   "cell_type": "code",
   "execution_count": 79,
   "metadata": {},
   "outputs": [],
   "source": [
    "data[\"City_encoded\"] = data[\"City\"].map(city_mean_encoded)"
   ]
  },
  {
   "cell_type": "code",
   "execution_count": 84,
   "metadata": {},
   "outputs": [],
   "source": [
    "data.drop([\"City\"], axis=1, inplace=True)"
   ]
  },
  {
   "cell_type": "code",
   "execution_count": 86,
   "metadata": {},
   "outputs": [
    {
     "name": "stdout",
     "output_type": "stream",
     "text": [
      "Count of unique values in Profession column are:\n",
      " Profession\n",
      "Teacher           16385\n",
      "Content Writer     5187\n",
      "Architect          2982\n",
      "Consultant         2920\n",
      "Pharmacist         2656\n",
      "                  ...  \n",
      "Manvi                 1\n",
      "24th                  1\n",
      "ME                    1\n",
      "3M                    1\n",
      "M.Pharm               1\n",
      "Name: count, Length: 64, dtype: int64\n"
     ]
    }
   ],
   "source": [
    "return_value_counts(\"Profession\")"
   ]
  },
  {
   "cell_type": "code",
   "execution_count": 88,
   "metadata": {},
   "outputs": [
    {
     "data": {
      "text/plain": [
       "Student\n",
       "1          18746\n",
       "0           5886\n",
       "Name: count, dtype: int64"
      ]
     },
     "execution_count": 88,
     "metadata": {},
     "output_type": "execute_result"
    }
   ],
   "source": [
    "data[data[\"Profession\"].isnull()][[\"Student\"]].value_counts()"
   ]
  },
  {
   "cell_type": "code",
   "execution_count": 89,
   "metadata": {},
   "outputs": [],
   "source": [
    "data.loc[\n",
    "    (data[\"Profession\"].isnull()) & (data[\"Student\"] == 1),\n",
    "    \"Profession\",\n",
    "] = \"Student\"\n",
    "data.loc[data[\"Profession\"].isnull(), \"Profession\"] = \"Unemployed\""
   ]
  },
  {
   "cell_type": "code",
   "execution_count": 90,
   "metadata": {},
   "outputs": [
    {
     "data": {
      "text/plain": [
       "array(['Judge', 'Educational Consultant', 'Teacher', 'Student',\n",
       "       'Customer Support', 'Unemployed', 'Chemist', 'Content Writer',\n",
       "       'Consultant', 'HR Manager', 'Research Analyst', 'Digital Marketer',\n",
       "       'Electrician', 'Marketing Manager', 'Plumber', 'Pharmacist',\n",
       "       'Lawyer', 'Pilot', 'Architect', 'Chef', 'Graphic Designer',\n",
       "       'Entrepreneur', 'Manager', 'Mechanical Engineer',\n",
       "       'Software Engineer', 'Travel Consultant', 'Finanancial Analyst',\n",
       "       'Financial Analyst', 'Doctor', 'Business Analyst',\n",
       "       'UX/UI Designer', 'Sales Executive', 'Data Scientist',\n",
       "       'Accountant', 'Researcher', 'Civil Engineer', 'Investment Banker',\n",
       "       'Unhealthy', 'B.Ed', 'Working Professional', '3M', 'ME', 'B.Pharm',\n",
       "       '24th', 'Manvi', 'Yogesh', 'Samar', 'Surat', 'PhD', 'M.Ed', 'MD',\n",
       "       'Name', 'MCA', 'Simran', 'Analyst', 'Profession', 'BBA', 'M.Tech',\n",
       "       'LLM', 'Surgeon', 'No', 'Unveil', 'City Consultant', 'M.Pharm'],\n",
       "      dtype=object)"
      ]
     },
     "execution_count": 90,
     "metadata": {},
     "output_type": "execute_result"
    }
   ],
   "source": [
    "data[\"Profession\"].unique()"
   ]
  },
  {
   "cell_type": "code",
   "execution_count": 91,
   "metadata": {},
   "outputs": [],
   "source": [
    "others = [\n",
    "    \"Unhealthy\",\n",
    "    \"B.Ed\",\n",
    "    \"Working Professional\",\n",
    "    \"3M\",\n",
    "    \"ME\",\n",
    "    \"B.Pharm\",\n",
    "    \"24th\",\n",
    "    \"Manvi\",\n",
    "    \"Yogesh\",\n",
    "    \"Samar\",\n",
    "    \"Surat\",\n",
    "    \"PhD\",\n",
    "    \"M.Ed\",\n",
    "    \"MD\",\n",
    "    \"Name\",\n",
    "    \"MCA\",\n",
    "    \"Simran\",\n",
    "    \"Profession\",\n",
    "    \"BBA\",\n",
    "    \"M.Tech\",\n",
    "    \"LLM\",\n",
    "    \"No\",\n",
    "    \"Unveil\",\n",
    "    \"City Consultant\",\n",
    "    \"M.Pharm\",\n",
    "]\n",
    "data.loc[data[\"Profession\"].isin(others), \"Profession\"] = \"Others\"\n",
    "data.loc[data[\"Profession\"] == \"Analyst\", \"Profession\"] = \"Business Analyst\"\n",
    "data.loc[data[\"Profession\"] == \"Surgeon\", \"Profession\"] = \"Doctor\""
   ]
  },
  {
   "cell_type": "code",
   "execution_count": 92,
   "metadata": {},
   "outputs": [
    {
     "data": {
      "text/plain": [
       "array(['Judge', 'Educational Consultant', 'Teacher', 'Student',\n",
       "       'Customer Support', 'Unemployed', 'Chemist', 'Content Writer',\n",
       "       'Consultant', 'HR Manager', 'Research Analyst', 'Digital Marketer',\n",
       "       'Electrician', 'Marketing Manager', 'Plumber', 'Pharmacist',\n",
       "       'Lawyer', 'Pilot', 'Architect', 'Chef', 'Graphic Designer',\n",
       "       'Entrepreneur', 'Manager', 'Mechanical Engineer',\n",
       "       'Software Engineer', 'Travel Consultant', 'Finanancial Analyst',\n",
       "       'Financial Analyst', 'Doctor', 'Business Analyst',\n",
       "       'UX/UI Designer', 'Sales Executive', 'Data Scientist',\n",
       "       'Accountant', 'Researcher', 'Civil Engineer', 'Investment Banker',\n",
       "       'Others'], dtype=object)"
      ]
     },
     "execution_count": 92,
     "metadata": {},
     "output_type": "execute_result"
    }
   ],
   "source": [
    "data[\"Profession\"].unique()"
   ]
  },
  {
   "cell_type": "code",
   "execution_count": 94,
   "metadata": {},
   "outputs": [
    {
     "data": {
      "text/plain": [
       "Profession\n",
       "Accountant                0.064227\n",
       "Architect                 0.099085\n",
       "Business Analyst          0.056610\n",
       "Chef                      0.048567\n",
       "Chemist                   0.028311\n",
       "Civil Engineer            0.080952\n",
       "Consultant                0.047056\n",
       "Content Writer            0.018684\n",
       "Customer Support          0.045255\n",
       "Data Scientist            0.077824\n",
       "Digital Marketer          0.045190\n",
       "Doctor                    0.052826\n",
       "Educational Consultant    0.074684\n",
       "Electrician               0.041719\n",
       "Entrepreneur              0.020889\n",
       "Financial Analyst         0.064072\n",
       "Graphic Designer          0.185727\n",
       "HR Manager                0.106912\n",
       "Investment Banker         0.071247\n",
       "Judge                     0.108645\n",
       "Lawyer                    0.075045\n",
       "Manager                   0.081703\n",
       "Marketing Manager         0.050607\n",
       "Mechanical Engineer       0.101105\n",
       "Others                    0.083333\n",
       "Pharmacist                0.026715\n",
       "Pilot                     0.051228\n",
       "Plumber                   0.064073\n",
       "Research Analyst          0.062319\n",
       "Researcher                0.040378\n",
       "Sales Executive           0.047154\n",
       "Software Engineer         0.061549\n",
       "Student                   0.585061\n",
       "Teacher                   0.055649\n",
       "Travel Consultant         0.046237\n",
       "UX/UI Designer            0.039945\n",
       "Unemployed                0.375086\n",
       "Name: Depression, dtype: float64"
      ]
     },
     "execution_count": 94,
     "metadata": {},
     "output_type": "execute_result"
    }
   ],
   "source": [
    "train[\"Student\"] = train[\"Working Professional or Student\"].map(\n",
    "    {\"Working Professional\": 0, \"Student\": 1}\n",
    ")\n",
    "train.loc[\n",
    "    (train[\"Profession\"].isnull()) & (train[\"Student\"] == 1),\n",
    "    \"Profession\",\n",
    "] = \"Student\"\n",
    "train.loc[train[\"Profession\"].isnull(), \"Profession\"] = \"Unemployed\"\n",
    "train.loc[train[\"Profession\"] == \"Finanancial Analyst\", \"Profession\"] = (\n",
    "    \"Financial Analyst\"\n",
    ")\n",
    "train.loc[train[\"Profession\"] == \"Dev\", \"Profession\"] = \"Software Engineer\"\n",
    "train.loc[train[\"Profession\"] == \"City Manager\", \"Profession\"] = \"Manager\"\n",
    "train.loc[train[\"Profession\"] == \"Analyst\", \"Profession\"] = \"Business Analyst\"\n",
    "train.loc[train[\"Profession\"] == \"Medical Doctor\", \"Profession\"] = \"Doctor\"\n",
    "profession_to_change = [\n",
    "    \"B.Com\",\n",
    "    \"BE\",\n",
    "    \"Yogesh\",\n",
    "    \"MBA\",\n",
    "    \"LLM\",\n",
    "    \"BCA\",\n",
    "    \"Academic\",\n",
    "    \"Profession\",\n",
    "    \"FamilyVirar\",\n",
    "    \"BBA\",\n",
    "    \"Working Professional\",\n",
    "    \"MBBS\",\n",
    "    \"Patna\",\n",
    "    \"Unveil\",\n",
    "    \"B.Ed\",\n",
    "    \"Nagpur\",\n",
    "    \"Moderate\",\n",
    "    \"M.Ed\",\n",
    "    \"Pranav\",\n",
    "    \"Visakhapatnam\",\n",
    "    \"PhD\",\n",
    "    \"Yuvraj\",\n",
    "]\n",
    "train.loc[train[\"Profession\"].isin(profession_to_change), \"Profession\"] = \"Others\"\n",
    "train.loc[train[\"Profession\"] == \"Family Consultant\", \"Profession\"] = \"Others\"\n",
    "profession_mean_encoded = train.groupby(\"Profession\")[\"Depression\"].mean()\n",
    "profession_mean_encoded"
   ]
  },
  {
   "cell_type": "code",
   "execution_count": 95,
   "metadata": {},
   "outputs": [],
   "source": [
    "data[\"Profession_encoded\"] = data[\"Profession\"].map(profession_mean_encoded)\n",
    "data.drop([\"Profession\"], axis=1, inplace=True)"
   ]
  },
  {
   "cell_type": "code",
   "execution_count": 97,
   "metadata": {},
   "outputs": [],
   "source": [
    "data[\"Profession_encoded\"].fillna(data[\"Profession_encoded\"].median(), inplace=True)"
   ]
  },
  {
   "cell_type": "code",
   "execution_count": 100,
   "metadata": {},
   "outputs": [
    {
     "data": {
      "text/plain": [
       "array(['Less than 5 hours', '7-8 hours', 'More than 8 hours', '5-6 hours',\n",
       "       '0', 'Meerut', '9-5 hours', '6-7 hours', '60-65 hours', 'Vivan',\n",
       "       '3-4 hours', '1-6 hours', '9-5', 'Unhealthy', '8-9 hours',\n",
       "       '4-5 hours', 'than 5 hours', '9-6 hours', '1-2 hours',\n",
       "       '8-89 hours', 'Have_you_ever_had_suicidal_thoughts', '20-21 hours',\n",
       "       '10-6 hours', '1-3 hours', '6 hours', '50-75 hours', '4-6 hours',\n",
       "       '2-3 hours', '9-11 hours', '9-10 hours', '3-6 hours'], dtype=object)"
      ]
     },
     "execution_count": 100,
     "metadata": {},
     "output_type": "execute_result"
    }
   ],
   "source": [
    "data[\"Sleep Duration\"].unique()"
   ]
  },
  {
   "cell_type": "code",
   "execution_count": 101,
   "metadata": {},
   "outputs": [],
   "source": [
    "sleep_duration = {\n",
    "    \"Less than 5 hours\": 5,\n",
    "    \"7-8 hours\": 8,\n",
    "    \"More than 8 hours\": 8,\n",
    "    \"60-65 hours\": 8,\n",
    "    \"1-6 hours\": 5,\n",
    "    \"5-6 hours\": 6,\n",
    "    \"9-5\": 7,\n",
    "    \"9-5 hours\": 7,\n",
    "    \"6-7 hours\": 7,\n",
    "    \"3-4 hours\": 5,\n",
    "    \"8-9 hours\": 8,\n",
    "    \"4-5 hours\": 5,\n",
    "    \"9-6 hours\": 8,\n",
    "    \"1-2 hours\": 5,\n",
    "    \"8-89 hours\": 8,\n",
    "    \"6-8 hours\": 7,\n",
    "    \"4-6 hours\": 5,\n",
    "    \"than 5 hours\": 5,\n",
    "    \"20-21 hours\": 5,\n",
    "    \"10-6 hours\": 8,\n",
    "    \"1-3 hours\": 5,\n",
    "    \"6 hours\": 6,\n",
    "    \"50-75 hours\": 8,\n",
    "    \"2-3 hours\": 5,\n",
    "    \"9-11 hours\": 8,\n",
    "    \"9-10 hours\": 8,\n",
    "    \"3-6 hours\": 5,\n",
    "}\n",
    "data[\"Sleep Duration\"] = data[\"Sleep Duration\"].map(sleep_duration)"
   ]
  },
  {
   "cell_type": "code",
   "execution_count": 103,
   "metadata": {},
   "outputs": [],
   "source": [
    "data[\"Sleep Duration\"].fillna(8, inplace=True)"
   ]
  },
  {
   "cell_type": "code",
   "execution_count": 106,
   "metadata": {},
   "outputs": [
    {
     "data": {
      "text/plain": [
       "array(['Moderate', 'Healthy', 'Unhealthy', 'More Healthy', 'No', 'Indoor',\n",
       "       'Prachi', nan, 'Male', 'Less Healthy', 'Mealy', 'Resistant', 'MCA',\n",
       "       '5 Healthy', 'Academic', 'Educational', 'Soham', '5 Unhealthy',\n",
       "       'Vivaan', 'Raghav', '1.0', 'Naina', 'Kolkata'], dtype=object)"
      ]
     },
     "execution_count": 106,
     "metadata": {},
     "output_type": "execute_result"
    }
   ],
   "source": [
    "data[\"Dietary Habits\"].unique()"
   ]
  },
  {
   "cell_type": "code",
   "execution_count": 107,
   "metadata": {},
   "outputs": [],
   "source": [
    "dietary_habits = {\n",
    "    \"Unhealthy\": 2,\n",
    "    \"Moderate\": 1,\n",
    "    \"Healthy\": 0,\n",
    "    \"More Healthy\": 0,\n",
    "    \"No Healthy\": 2,\n",
    "    \"Less Healthy\": 2,\n",
    "    \"Less than Healthy\": 1,\n",
    "    \"No\": 2,\n",
    "    \"5 Healthy\": 0,\n",
    "    \"5 Unhealthy\": 2,\n",
    "}\n",
    "data[\"Dietary Habits\"] = data[\"Dietary Habits\"].map(dietary_habits)"
   ]
  },
  {
   "cell_type": "code",
   "execution_count": 108,
   "metadata": {},
   "outputs": [],
   "source": [
    "data[\"Dietary Habits\"].fillna(1, inplace=True)"
   ]
  },
  {
   "cell_type": "code",
   "execution_count": 111,
   "metadata": {},
   "outputs": [
    {
     "data": {
      "text/plain": [
       "array(['LLB', 'B.Ed', 'B.Arch', 'BSc', 'BCA', 'B.Com', 'MA', 'BA', 'BBA',\n",
       "       'Class 12', 'MD', 'MBA', 'M.Ed', 'M.Pharm', 'BHM', 'LLM', 'PhD',\n",
       "       'M.Com', 'BE', 'MBBS', 'B.Tech', 'ME', 'MCA', 'B.Pharm', 'MHM',\n",
       "       'M.Tech', 'BTech', 'MSc', 'BArch', 'B. Gender', 'B.Study_Hours',\n",
       "       'Advait', 'M.Arch', 'A.Ed', 'Mechanical Engineer', 'B.H', 'B.Sc',\n",
       "       'B', 'M.UI', 'Vibha', 'B BCA', 'B.Press', 'BPharm', 'Gagan',\n",
       "       'MPharm', 'Travel Consultant', '5.65', 'Business Analyst',\n",
       "       'Eshita', 'B_Com', 'Navya', 'B._Pharm', 'Pune', 'Bian', 'B.M.Com',\n",
       "       'Kavya', 'M.M.Ed', 'S.Pharm', 'Vrinda', 'M', 'E.Ed', '3.0',\n",
       "       'Moham', 'B.BA', nan, 'I.Ed', 'Degree', 'Magan', 'B B.Tech',\n",
       "       'M.B.Ed', 'Bhopal', 'B Financial Analyst', 'GCA', 'G.Ed', 'Rupak',\n",
       "       'RCA', 'B.CA', 'PCA', 'J.Ed', 'BH', 'BEd', '8.95', 'Aadhya', '20',\n",
       "       'Banchal', 'M.', 'K.Ed', 'BHCA'], dtype=object)"
      ]
     },
     "execution_count": 111,
     "metadata": {},
     "output_type": "execute_result"
    }
   ],
   "source": [
    "data[\"Degree\"].unique()"
   ]
  },
  {
   "cell_type": "code",
   "execution_count": 112,
   "metadata": {},
   "outputs": [],
   "source": [
    "bachelors = data[data[\"Degree\"].str.startswith(\"B\", na=False)][\"Degree\"].unique()\n",
    "masters = data[data[\"Degree\"].str.startswith(\"M\", na=False)][\"Degree\"].unique()\n",
    "data[\"Degree\"] = data[\"Degree\"].replace(bachelors, \"bachelors\")\n",
    "data[\"Degree\"] = data[\"Degree\"].replace(masters, \"masters\")"
   ]
  },
  {
   "cell_type": "code",
   "execution_count": 113,
   "metadata": {},
   "outputs": [
    {
     "data": {
      "text/plain": [
       "array(['LLB', 'bachelors', 'masters', 'Class 12', 'LLM', 'PhD', 'Advait',\n",
       "       'A.Ed', 'Vibha', 'Gagan', 'Travel Consultant', '5.65', 'Eshita',\n",
       "       'Navya', 'Pune', 'Kavya', 'S.Pharm', 'Vrinda', 'E.Ed', '3.0', nan,\n",
       "       'I.Ed', 'Degree', 'GCA', 'G.Ed', 'Rupak', 'RCA', 'PCA', 'J.Ed',\n",
       "       '8.95', 'Aadhya', '20', 'K.Ed'], dtype=object)"
      ]
     },
     "execution_count": 113,
     "metadata": {},
     "output_type": "execute_result"
    }
   ],
   "source": [
    "data[\"Degree\"].unique()"
   ]
  },
  {
   "cell_type": "code",
   "execution_count": 114,
   "metadata": {},
   "outputs": [],
   "source": [
    "degrees = {\n",
    "    \"bachelors\": \"bachelors\",\n",
    "    \"masters\": \"masters\",\n",
    "    \"PhD\": \"PhD\",\n",
    "    \"LLB\": \"bachelors\",\n",
    "    \"Class 12\": \"high_school\",\n",
    "    \"LLM\": \"masters\",\n",
    "    \"A.Ed\": \"bachelors\",\n",
    "    \"S.Pharm\": \"bachelors\",\n",
    "    \"I.Ed\": \"bachelors\",\n",
    "    \"GCA\": \"bachelors\",\n",
    "    \"G.Ed\": \"bachelors\",\n",
    "    \"RCA\": \"bachelors\",\n",
    "    \"PCA\": \"bachelors\",\n",
    "    \"J.Ed\": \"bachelors\",\n",
    "    \"K.Ed\": \"bachelors\",\n",
    "}\n",
    "data[\"Degree\"] = data[\"Degree\"].map(degrees)"
   ]
  },
  {
   "cell_type": "code",
   "execution_count": 116,
   "metadata": {},
   "outputs": [],
   "source": [
    "data[\"Degree\"].fillna(\"Others\", inplace=True)"
   ]
  },
  {
   "cell_type": "code",
   "execution_count": 117,
   "metadata": {},
   "outputs": [],
   "source": [
    "degree_map = {\"others\": 0, \"high_school\": 1, \"bachelors\": 2, \"masters\": 3, \"PhD\": 4}\n",
    "data[\"Degree\"] = data[\"Degree\"].map(degree_map)"
   ]
  },
  {
   "cell_type": "code",
   "execution_count": 120,
   "metadata": {},
   "outputs": [],
   "source": [
    "data[\"Degree\"].fillna(1, inplace=True)"
   ]
  },
  {
   "cell_type": "code",
   "execution_count": 121,
   "metadata": {},
   "outputs": [
    {
     "data": {
      "text/html": [
       "<div>\n",
       "<style scoped>\n",
       "    .dataframe tbody tr th:only-of-type {\n",
       "        vertical-align: middle;\n",
       "    }\n",
       "\n",
       "    .dataframe tbody tr th {\n",
       "        vertical-align: top;\n",
       "    }\n",
       "\n",
       "    .dataframe thead th {\n",
       "        text-align: right;\n",
       "    }\n",
       "</style>\n",
       "<table border=\"1\" class=\"dataframe\">\n",
       "  <thead>\n",
       "    <tr style=\"text-align: right;\">\n",
       "      <th></th>\n",
       "      <th>Age</th>\n",
       "      <th>Work Pressure</th>\n",
       "      <th>CGPA</th>\n",
       "      <th>Job Satisfaction</th>\n",
       "      <th>Sleep Duration</th>\n",
       "      <th>Dietary Habits</th>\n",
       "      <th>Degree</th>\n",
       "      <th>Work/Study Hours</th>\n",
       "      <th>Financial Stress</th>\n",
       "      <th>Gender_Female</th>\n",
       "      <th>Gender_Male</th>\n",
       "      <th>Student</th>\n",
       "      <th>suicidal_thoughts</th>\n",
       "      <th>family_history</th>\n",
       "      <th>City_encoded</th>\n",
       "      <th>Profession_encoded</th>\n",
       "    </tr>\n",
       "  </thead>\n",
       "  <tbody>\n",
       "    <tr>\n",
       "      <th>0</th>\n",
       "      <td>4</td>\n",
       "      <td>2.0</td>\n",
       "      <td>-1.0</td>\n",
       "      <td>5.0</td>\n",
       "      <td>5.0</td>\n",
       "      <td>1.0</td>\n",
       "      <td>2.0</td>\n",
       "      <td>9.0</td>\n",
       "      <td>3.0</td>\n",
       "      <td>0.0</td>\n",
       "      <td>1.0</td>\n",
       "      <td>0</td>\n",
       "      <td>0</td>\n",
       "      <td>1</td>\n",
       "      <td>0.159196</td>\n",
       "      <td>0.108645</td>\n",
       "    </tr>\n",
       "    <tr>\n",
       "      <th>1</th>\n",
       "      <td>4</td>\n",
       "      <td>2.0</td>\n",
       "      <td>-1.0</td>\n",
       "      <td>4.0</td>\n",
       "      <td>5.0</td>\n",
       "      <td>1.0</td>\n",
       "      <td>2.0</td>\n",
       "      <td>6.0</td>\n",
       "      <td>4.0</td>\n",
       "      <td>1.0</td>\n",
       "      <td>0.0</td>\n",
       "      <td>0</td>\n",
       "      <td>0</td>\n",
       "      <td>0</td>\n",
       "      <td>0.173577</td>\n",
       "      <td>0.074684</td>\n",
       "    </tr>\n",
       "  </tbody>\n",
       "</table>\n",
       "</div>"
      ],
      "text/plain": [
       "   Age  Work Pressure  CGPA  Job Satisfaction  Sleep Duration  Dietary Habits  \\\n",
       "0    4            2.0  -1.0               5.0             5.0             1.0   \n",
       "1    4            2.0  -1.0               4.0             5.0             1.0   \n",
       "\n",
       "   Degree  Work/Study Hours  Financial Stress  Gender_Female  Gender_Male  \\\n",
       "0     2.0               9.0               3.0            0.0          1.0   \n",
       "1     2.0               6.0               4.0            1.0          0.0   \n",
       "\n",
       "   Student  suicidal_thoughts  family_history  City_encoded  \\\n",
       "0        0                  0               1      0.159196   \n",
       "1        0                  0               0      0.173577   \n",
       "\n",
       "   Profession_encoded  \n",
       "0            0.108645  \n",
       "1            0.074684  "
      ]
     },
     "execution_count": 121,
     "metadata": {},
     "output_type": "execute_result"
    }
   ],
   "source": [
    "data.head(2)"
   ]
  },
  {
   "cell_type": "code",
   "execution_count": 122,
   "metadata": {},
   "outputs": [
    {
     "data": {
      "text/plain": [
       "Age                   0\n",
       "Work Pressure         0\n",
       "CGPA                  0\n",
       "Job Satisfaction      0\n",
       "Sleep Duration        0\n",
       "Dietary Habits        0\n",
       "Degree                0\n",
       "Work/Study Hours      0\n",
       "Financial Stress      0\n",
       "Gender_Female         0\n",
       "Gender_Male           0\n",
       "Student               0\n",
       "suicidal_thoughts     0\n",
       "family_history        0\n",
       "City_encoded          0\n",
       "Profession_encoded    0\n",
       "dtype: int64"
      ]
     },
     "execution_count": 122,
     "metadata": {},
     "output_type": "execute_result"
    }
   ],
   "source": [
    "data.isnull().sum()"
   ]
  },
  {
   "cell_type": "code",
   "execution_count": 123,
   "metadata": {},
   "outputs": [],
   "source": [
    "data.to_csv(\"../data/test_cleaned_v1.csv\", index=False)"
   ]
  }
 ],
 "metadata": {
  "kernelspec": {
   "display_name": "Python 3",
   "language": "python",
   "name": "python3"
  },
  "language_info": {
   "codemirror_mode": {
    "name": "ipython",
    "version": 3
   },
   "file_extension": ".py",
   "mimetype": "text/x-python",
   "name": "python",
   "nbconvert_exporter": "python",
   "pygments_lexer": "ipython3",
   "version": "3.11.0"
  }
 },
 "nbformat": 4,
 "nbformat_minor": 2
}
