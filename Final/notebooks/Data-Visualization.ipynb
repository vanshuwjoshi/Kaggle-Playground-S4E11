{
 "cells": [
  {
   "cell_type": "code",
   "execution_count": 1,
   "metadata": {},
   "outputs": [],
   "source": [
    "import pandas as pd\n",
    "import numpy as np\n",
    "import matplotlib.pyplot as plt\n",
    "import seaborn as sns\n",
    "%matplotlib inline\n",
    "import warnings\n",
    "warnings.filterwarnings('ignore')"
   ]
  },
  {
   "cell_type": "code",
   "execution_count": 2,
   "metadata": {},
   "outputs": [],
   "source": [
    "data = pd.read_csv(\"../data/train_viz.csv\")\n",
    "student_data = pd.read_csv(\"../data/student_viz.csv\")\n",
    "professional_data = pd.read_csv(\"../data/professional_viz.csv\")"
   ]
  },
  {
   "cell_type": "code",
   "execution_count": 3,
   "metadata": {},
   "outputs": [
    {
     "data": {
      "text/html": [
       "<div>\n",
       "<style scoped>\n",
       "    .dataframe tbody tr th:only-of-type {\n",
       "        vertical-align: middle;\n",
       "    }\n",
       "\n",
       "    .dataframe tbody tr th {\n",
       "        vertical-align: top;\n",
       "    }\n",
       "\n",
       "    .dataframe thead th {\n",
       "        text-align: right;\n",
       "    }\n",
       "</style>\n",
       "<table border=\"1\" class=\"dataframe\">\n",
       "  <thead>\n",
       "    <tr style=\"text-align: right;\">\n",
       "      <th></th>\n",
       "      <th>id</th>\n",
       "      <th>Name</th>\n",
       "      <th>Gender</th>\n",
       "      <th>Age</th>\n",
       "      <th>City</th>\n",
       "      <th>Working Professional or Student</th>\n",
       "      <th>Profession</th>\n",
       "      <th>Work Pressure</th>\n",
       "      <th>CGPA</th>\n",
       "      <th>Job Satisfaction</th>\n",
       "      <th>Sleep Duration</th>\n",
       "      <th>Dietary Habits</th>\n",
       "      <th>Degree</th>\n",
       "      <th>Have you ever had suicidal thoughts ?</th>\n",
       "      <th>Work/Study Hours</th>\n",
       "      <th>Financial Stress</th>\n",
       "      <th>Family History of Mental Illness</th>\n",
       "      <th>Depression</th>\n",
       "    </tr>\n",
       "  </thead>\n",
       "  <tbody>\n",
       "    <tr>\n",
       "      <th>0</th>\n",
       "      <td>0</td>\n",
       "      <td>Aaradhya</td>\n",
       "      <td>Female</td>\n",
       "      <td>49.0</td>\n",
       "      <td>Ludhiana</td>\n",
       "      <td>Working Professional</td>\n",
       "      <td>Chef</td>\n",
       "      <td>5.0</td>\n",
       "      <td>-1.0</td>\n",
       "      <td>2.0</td>\n",
       "      <td>8.0</td>\n",
       "      <td>Healthy</td>\n",
       "      <td>bachelors</td>\n",
       "      <td>No</td>\n",
       "      <td>1.0</td>\n",
       "      <td>2.0</td>\n",
       "      <td>No</td>\n",
       "      <td>0</td>\n",
       "    </tr>\n",
       "    <tr>\n",
       "      <th>1</th>\n",
       "      <td>1</td>\n",
       "      <td>Vivan</td>\n",
       "      <td>Male</td>\n",
       "      <td>26.0</td>\n",
       "      <td>Varanasi</td>\n",
       "      <td>Working Professional</td>\n",
       "      <td>Teacher</td>\n",
       "      <td>4.0</td>\n",
       "      <td>-1.0</td>\n",
       "      <td>3.0</td>\n",
       "      <td>5.0</td>\n",
       "      <td>Unhealthy</td>\n",
       "      <td>bachelors</td>\n",
       "      <td>Yes</td>\n",
       "      <td>7.0</td>\n",
       "      <td>3.0</td>\n",
       "      <td>No</td>\n",
       "      <td>1</td>\n",
       "    </tr>\n",
       "    <tr>\n",
       "      <th>2</th>\n",
       "      <td>2</td>\n",
       "      <td>Yuvraj</td>\n",
       "      <td>Male</td>\n",
       "      <td>33.0</td>\n",
       "      <td>Visakhapatnam</td>\n",
       "      <td>Student</td>\n",
       "      <td>Student</td>\n",
       "      <td>5.0</td>\n",
       "      <td>9.0</td>\n",
       "      <td>2.0</td>\n",
       "      <td>6.0</td>\n",
       "      <td>Healthy</td>\n",
       "      <td>bachelors</td>\n",
       "      <td>Yes</td>\n",
       "      <td>3.0</td>\n",
       "      <td>1.0</td>\n",
       "      <td>No</td>\n",
       "      <td>1</td>\n",
       "    </tr>\n",
       "    <tr>\n",
       "      <th>3</th>\n",
       "      <td>3</td>\n",
       "      <td>Yuvraj</td>\n",
       "      <td>Male</td>\n",
       "      <td>22.0</td>\n",
       "      <td>Mumbai</td>\n",
       "      <td>Working Professional</td>\n",
       "      <td>Teacher</td>\n",
       "      <td>5.0</td>\n",
       "      <td>-1.0</td>\n",
       "      <td>1.0</td>\n",
       "      <td>5.0</td>\n",
       "      <td>Moderate</td>\n",
       "      <td>bachelors</td>\n",
       "      <td>Yes</td>\n",
       "      <td>10.0</td>\n",
       "      <td>1.0</td>\n",
       "      <td>Yes</td>\n",
       "      <td>1</td>\n",
       "    </tr>\n",
       "    <tr>\n",
       "      <th>4</th>\n",
       "      <td>4</td>\n",
       "      <td>Rhea</td>\n",
       "      <td>Female</td>\n",
       "      <td>30.0</td>\n",
       "      <td>Kanpur</td>\n",
       "      <td>Working Professional</td>\n",
       "      <td>Business Analyst</td>\n",
       "      <td>1.0</td>\n",
       "      <td>-1.0</td>\n",
       "      <td>1.0</td>\n",
       "      <td>6.0</td>\n",
       "      <td>Unhealthy</td>\n",
       "      <td>bachelors</td>\n",
       "      <td>Yes</td>\n",
       "      <td>9.0</td>\n",
       "      <td>4.0</td>\n",
       "      <td>Yes</td>\n",
       "      <td>0</td>\n",
       "    </tr>\n",
       "  </tbody>\n",
       "</table>\n",
       "</div>"
      ],
      "text/plain": [
       "   id      Name  Gender   Age           City Working Professional or Student  \\\n",
       "0   0  Aaradhya  Female  49.0       Ludhiana            Working Professional   \n",
       "1   1     Vivan    Male  26.0       Varanasi            Working Professional   \n",
       "2   2    Yuvraj    Male  33.0  Visakhapatnam                         Student   \n",
       "3   3    Yuvraj    Male  22.0         Mumbai            Working Professional   \n",
       "4   4      Rhea  Female  30.0         Kanpur            Working Professional   \n",
       "\n",
       "         Profession  Work Pressure  CGPA  Job Satisfaction  Sleep Duration  \\\n",
       "0              Chef            5.0  -1.0               2.0             8.0   \n",
       "1           Teacher            4.0  -1.0               3.0             5.0   \n",
       "2           Student            5.0   9.0               2.0             6.0   \n",
       "3           Teacher            5.0  -1.0               1.0             5.0   \n",
       "4  Business Analyst            1.0  -1.0               1.0             6.0   \n",
       "\n",
       "  Dietary Habits     Degree Have you ever had suicidal thoughts ?  \\\n",
       "0        Healthy  bachelors                                    No   \n",
       "1      Unhealthy  bachelors                                   Yes   \n",
       "2        Healthy  bachelors                                   Yes   \n",
       "3       Moderate  bachelors                                   Yes   \n",
       "4      Unhealthy  bachelors                                   Yes   \n",
       "\n",
       "   Work/Study Hours  Financial Stress Family History of Mental Illness  \\\n",
       "0               1.0               2.0                               No   \n",
       "1               7.0               3.0                               No   \n",
       "2               3.0               1.0                               No   \n",
       "3              10.0               1.0                              Yes   \n",
       "4               9.0               4.0                              Yes   \n",
       "\n",
       "   Depression  \n",
       "0           0  \n",
       "1           1  \n",
       "2           1  \n",
       "3           1  \n",
       "4           0  "
      ]
     },
     "execution_count": 3,
     "metadata": {},
     "output_type": "execute_result"
    }
   ],
   "source": [
    "data.head()"
   ]
  },
  {
   "cell_type": "code",
   "execution_count": null,
   "metadata": {},
   "outputs": [
    {
     "data": {
      "image/png": "[encoded data removed]",
      "text/plain": [
       "<Figure size 500x300 with 1 Axes>"
      ]
     },
     "metadata": {},
     "output_type": "display_data"
    }
   ],
   "source": [
    "plt.figure(figsize=(5, 3))\n",
    "sns.countplot(data, x=\"Gender\", hue=\"Depression\")\n",
    "plt.title(\"Distribution of Gender with Depression\")\n",
    "plt.legend([\"No\", \"Yes\"], loc=\"right\")\n",
    "plt.show()"
   ]
  },
  {
   "cell_type": "code",
   "execution_count": 6,
   "metadata": {},
   "outputs": [
    {
     "data": {
      "text/plain": [
       "Gender\n",
       "Male      18.455024\n",
       "Female    17.823708\n",
       "Name: Depression, dtype: float64"
      ]
     },
     "execution_count": 6,
     "metadata": {},
     "output_type": "execute_result"
    }
   ],
   "source": [
    "depression_percent = data.groupby(\"Gender\")[\"Depression\"].mean() * 100\n",
    "depression_percent.sort_values(ascending=False)"
   ]
  },
  {
   "cell_type": "markdown",
   "metadata": {},
   "source": [
    "Based on our survey data, males and females have similar probabilities of experiencing depression. Therefore, we can rule out the possibility of one gender being significantly more prone to depression than the other."
   ]
  },
  {
   "cell_type": "code",
   "execution_count": 26,
   "metadata": {},
   "outputs": [
    {
     "data": {
      "image/png": "[encoded data removed]",
      "text/plain": [
       "<Figure size 500x300 with 1 Axes>"
      ]
     },
     "metadata": {},
     "output_type": "display_data"
    }
   ],
   "source": [
    "plt.figure(figsize=(5, 3))\n",
    "sns.countplot(\n",
    "    data,\n",
    "    x=\"Depression\",\n",
    "    # hue=data[[\"Gender\", \"Working Professional or Student\"]].apply(tuple, axis=1),\n",
    "    hue=data[\"Gender\"].astype(str)\n",
    "    + \", \"\n",
    "    + data[\"Working Professional or Student\"].astype(str),\n",
    "    palette=\"rocket\",\n",
    ")\n",
    "plt.xticks(ticks=[0, 1], labels=[\"No\", \"Yes\"])\n",
    "plt.title(\"Distribution of Depression\")\n",
    "plt.legend(\n",
    "    [\"Female Professional\", \"Male Professional\", \"Female Student\", \"Male Student\"],\n",
    "    loc=\"upper right\",\n",
    ")\n",
    "plt.show()"
   ]
  },
  {
   "cell_type": "code",
   "execution_count": 20,
   "metadata": {},
   "outputs": [
    {
     "data": {
      "text/plain": [
       "Gender  Working Professional or Student\n",
       "Male    Student                            58.628674\n",
       "Female  Student                            58.450704\n",
       "Male    Working Professional                8.367653\n",
       "Female  Working Professional                7.959593\n",
       "Name: Depression, dtype: float64"
      ]
     },
     "execution_count": 20,
     "metadata": {},
     "output_type": "execute_result"
    }
   ],
   "source": [
    "depression_percent = (\n",
    "    data.groupby([\"Gender\", \"Working Professional or Student\"])[\"Depression\"].mean()\n",
    "    * 100\n",
    ")\n",
    "depression_percent.sort_values(ascending=False)"
   ]
  },
  {
   "cell_type": "markdown",
   "metadata": {},
   "source": [
    "Both male and female students have a high likelihood of experiencing depression, whereas the percentage of depression among working professionals is significantly lower."
   ]
  },
  {
   "cell_type": "code",
   "execution_count": 36,
   "metadata": {},
   "outputs": [
    {
     "data": {
      "text/plain": [
       "Gender  Work/Study Hours\n",
       "Male    10.0                32.818917\n",
       "Female  10.0                31.132382\n",
       "        12.0                30.498822\n",
       "Male    12.0                30.489156\n",
       "Female  8.0                 25.142561\n",
       "Male    8.0                 24.702853\n",
       "        11.0                24.672027\n",
       "Female  11.0                24.621278\n",
       "Male    7.0                 20.791713\n",
       "        6.0                 18.828526\n",
       "Female  7.0                 18.338558\n",
       "        6.0                 17.339469\n",
       "        9.0                 16.692776\n",
       "Male    9.0                 15.805340\n",
       "        4.0                 14.010651\n",
       "Female  4.0                 12.622520\n",
       "        5.0                 12.243948\n",
       "Male    5.0                 11.743702\n",
       "        3.0                 11.320755\n",
       "Female  3.0                 11.285483\n",
       "Male    2.0                 10.710625\n",
       "Female  2.0                  9.934613\n",
       "        0.0                  8.745177\n",
       "Male    1.0                  8.334873\n",
       "        0.0                  7.730636\n",
       "Female  1.0                  7.242086\n",
       "Name: Depression, dtype: float64"
      ]
     },
     "execution_count": 36,
     "metadata": {},
     "output_type": "execute_result"
    }
   ],
   "source": [
    "depression_percent = (\n",
    "    data.groupby([\"Gender\", \"Work/Study Hours\"])[\"Depression\"].mean()\n",
    "    * 100\n",
    ")\n",
    "depression_percent.sort_values(ascending=False)"
   ]
  },
  {
   "cell_type": "code",
   "execution_count": 27,
   "metadata": {},
   "outputs": [
    {
     "data": {
      "text/plain": [
       "Index(['id', 'Name', 'Gender', 'Age', 'City',\n",
       "       'Working Professional or Student', 'Profession', 'Work Pressure',\n",
       "       'CGPA', 'Job Satisfaction', 'Sleep Duration', 'Dietary Habits',\n",
       "       'Degree', 'Have you ever had suicidal thoughts ?', 'Work/Study Hours',\n",
       "       'Financial Stress', 'Family History of Mental Illness', 'Depression'],\n",
       "      dtype='object')"
      ]
     },
     "execution_count": 27,
     "metadata": {},
     "output_type": "execute_result"
    }
   ],
   "source": [
    "data.columns"
   ]
  },
  {
   "cell_type": "code",
   "execution_count": null,
   "metadata": {},
   "outputs": [],
   "source": []
  }
 ],
 "metadata": {
  "kernelspec": {
   "display_name": "Python 3",
   "language": "python",
   "name": "python3"
  },
  "language_info": {
   "codemirror_mode": {
    "name": "ipython",
    "version": 3
   },
   "file_extension": ".py",
   "mimetype": "text/x-python",
   "name": "python",
   "nbconvert_exporter": "python",
   "pygments_lexer": "ipython3",
   "version": "3.11.0"
  }
 },
 "nbformat": 4,
 "nbformat_minor": 2
}
